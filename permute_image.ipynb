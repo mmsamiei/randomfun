{
  "nbformat": 4,
  "nbformat_minor": 0,
  "metadata": {
    "colab": {
      "provenance": []
    },
    "kernelspec": {
      "name": "python3",
      "display_name": "Python 3"
    },
    "language_info": {
      "name": "python"
    }
  },
  "cells": [
    {
      "cell_type": "code",
      "source": [
        "from PIL import Image\n",
        "\n",
        "image_addr = '/content/Picture199.png'\n",
        "\n",
        "image = Image.open(image_addr)"
      ],
      "metadata": {
        "id": "Nj4ghazN6XW4"
      },
      "execution_count": 1,
      "outputs": []
    },
    {
      "cell_type": "code",
      "source": [
        "from PIL import Image\n",
        "import numpy as np\n",
        "\n",
        "# Load the image and convert it to a NumPy array\n",
        "image = Image.open(image_addr)\n",
        "image_array = np.array(image)\n",
        "\n",
        "# Get the dimensions of the image\n",
        "height, width, channels = image_array.shape\n",
        "\n",
        "# Flatten the image array into a 1D array\n",
        "flat_image = image_array.reshape(-1, channels)\n",
        "\n",
        "# Permute the pixels randomly\n",
        "np.random.shuffle(flat_image)\n",
        "\n",
        "# Reshape the 1D array back into the original dimensions\n",
        "permuted_image = flat_image.reshape(height, width, channels)\n",
        "\n",
        "# Convert the NumPy array back to an image and save it\n",
        "permuted_image = Image.fromarray(permuted_image.astype('uint8'))\n",
        "permuted_image.save(\"permuted_pixelwise_image.png\")\n"
      ],
      "metadata": {
        "id": "0AkjuZFJ_FHL"
      },
      "execution_count": 3,
      "outputs": []
    },
    {
      "cell_type": "code",
      "source": [
        "from PIL import Image\n",
        "import numpy as np\n",
        "\n",
        "# Load the image and convert it to a NumPy array\n",
        "image = Image.open(image_addr)\n",
        "image_array = np.array(image)\n",
        "\n",
        "# Get the dimensions of the image\n",
        "height, width, channels = image_array.shape\n",
        "\n",
        "# Permute the rows randomly\n",
        "np.random.shuffle(image_array)\n",
        "\n",
        "# Convert the NumPy array back to an image and save it\n",
        "permuted_image = Image.fromarray(image_array)\n",
        "permuted_image.save(\"permuted_rowwise_image.png\")\n"
      ],
      "metadata": {
        "id": "3sUHmLuY_nTA"
      },
      "execution_count": 5,
      "outputs": []
    },
    {
      "cell_type": "code",
      "source": [
        "from PIL import Image\n",
        "import numpy as np\n",
        "\n",
        "# Load the image and convert it to a NumPy array\n",
        "image = Image.open(image_addr)\n",
        "image_array = np.array(image)\n",
        "\n",
        "# Get the dimensions of the image\n",
        "height, width, channels = image_array.shape\n",
        "\n",
        "# Permute the columns randomly\n",
        "column_indices = np.arange(width)\n",
        "np.random.shuffle(column_indices)\n",
        "permuted_array = image_array[:, column_indices, :]\n",
        "\n",
        "# Convert the NumPy array back to an image and save it\n",
        "permuted_image = Image.fromarray(permuted_array)\n",
        "permuted_image.save(\"permuted_columnwise_image.png\")\n"
      ],
      "metadata": {
        "id": "9KFZJuL9AjXa"
      },
      "execution_count": 6,
      "outputs": []
    }
  ]
}