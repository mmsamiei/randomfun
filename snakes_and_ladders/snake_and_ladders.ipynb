{
  "nbformat": 4,
  "nbformat_minor": 0,
  "metadata": {
    "colab": {
      "provenance": []
    },
    "kernelspec": {
      "name": "python3",
      "display_name": "Python 3"
    },
    "language_info": {
      "name": "python"
    }
  },
  "cells": [
    {
      "cell_type": "markdown",
      "source": [
        "# Implement Snake and Ladders Game"
      ],
      "metadata": {
        "id": "4_xXlvDqwmsG"
      }
    },
    {
      "cell_type": "code",
      "execution_count": 258,
      "metadata": {
        "id": "k81gX_ehoLQb"
      },
      "outputs": [],
      "source": [
        "import random \n",
        "\n",
        "snakes_ladders = [(4, 14), (9, 31), (20, 38), (25, 3), (28, 84), (36, 44), (44, 63), (59, 1), (51, 67), (56, 48), (62, 81), (69, 32), (71, 90), (83, 57), (91, 73), (94, 26), (99, 80)]\n",
        "\n"
      ]
    },
    {
      "cell_type": "code",
      "source": [
        "def step(state):\n",
        "  new_state, done = None, False\n",
        "  dice = random.randint(1,6)\n",
        "  is_six = (dice == 6)\n",
        "\n",
        "  if state == 0:\n",
        "    if not is_six:\n",
        "      new_state = 0\n",
        "      return new_state, done\n",
        "    else:\n",
        "      pass\n",
        "  else:\n",
        "    new_state = state + dice\n",
        "    if new_state == 100:\n",
        "      return new_state, True\n",
        "    elif new_state > 100:\n",
        "      new_state = state\n",
        "    else:\n",
        "      for start, end in snakes_ladders:\n",
        "        if new_state == start:\n",
        "          new_state = end\n",
        "  \n",
        "  while(is_six):\n",
        "    dice = random.randint(1,6)\n",
        "    is_six = (dice == 6)\n",
        "    new_state = state + dice\n",
        "    if new_state == 100:\n",
        "      return new_state, True\n",
        "    elif new_state > 100:\n",
        "      new_state = state\n",
        "    else:\n",
        "      for start, end in snakes_ladders:\n",
        "        if new_state == start:\n",
        "          new_state = end\n",
        "\n",
        "  return new_state, done\n"
      ],
      "metadata": {
        "id": "WvIvZdqAo6ey"
      },
      "execution_count": 259,
      "outputs": []
    },
    {
      "cell_type": "markdown",
      "source": [
        "# The number of steps required to complete the game"
      ],
      "metadata": {
        "id": "MuMF-sG4wq94"
      }
    },
    {
      "cell_type": "code",
      "source": [
        "num_episodes = 2000\n",
        "log = []\n",
        "for i in range(num_episodes):\n",
        "  state = 0\n",
        "  done = False\n",
        "  num_steps = 0\n",
        "  while(not done):\n",
        "    state, done = step(state)\n",
        "    num_steps += 1 \n",
        "  log.append(num_steps)"
      ],
      "metadata": {
        "id": "CCO1GCe0tPu8"
      },
      "execution_count": 260,
      "outputs": []
    },
    {
      "cell_type": "code",
      "source": [
        "print(\"Average steps required to finish game: \", sum(log) / len(log))"
      ],
      "metadata": {
        "colab": {
          "base_uri": "https://localhost:8080/"
        },
        "id": "ZwwgbVsww53Q",
        "outputId": "6c4ce412-3029-43db-a479-eecc9ee85181"
      },
      "execution_count": 261,
      "outputs": [
        {
          "output_type": "stream",
          "name": "stdout",
          "text": [
            "Average steps required to finish game:  77.541\n"
          ]
        }
      ]
    },
    {
      "cell_type": "code",
      "source": [
        "import statistics\n",
        "print(\"Median steps required to finish game: \", statistics.median(log))"
      ],
      "metadata": {
        "colab": {
          "base_uri": "https://localhost:8080/"
        },
        "id": "jiL1EPubz558",
        "outputId": "db2a03f9-4184-4b1e-f619-f0709deebc5f"
      },
      "execution_count": 262,
      "outputs": [
        {
          "output_type": "stream",
          "name": "stdout",
          "text": [
            "Median steps required to finish game:  61.0\n"
          ]
        }
      ]
    },
    {
      "cell_type": "code",
      "source": [
        "# now let's get percentile of steps\n",
        "number_of_quantiles = 10\n",
        "quantiles = statistics.quantiles(log, n=number_of_quantiles)\n",
        "print(f\"quantile 1 < {quantiles[0]}\")\n",
        "for i in range(len(quantiles)-1):\n",
        "  print(f\"{quantiles[i]} < quantile {i+2} < {quantiles[i+1]}\")\n",
        "print(f\"{quantiles[-1]} < quantile {number_of_quantiles}\")"
      ],
      "metadata": {
        "colab": {
          "base_uri": "https://localhost:8080/"
        },
        "id": "zgFjF7bF0B_W",
        "outputId": "4e8781fe-bb25-48c7-e406-976d797fa9a8"
      },
      "execution_count": 263,
      "outputs": [
        {
          "output_type": "stream",
          "name": "stdout",
          "text": [
            "quantile 1 < 25.0\n",
            "25.0 < quantile 2 < 34.0\n",
            "34.0 < quantile 3 < 42.0\n",
            "42.0 < quantile 4 < 51.0\n",
            "51.0 < quantile 5 < 61.0\n",
            "61.0 < quantile 6 < 74.0\n",
            "74.0 < quantile 7 < 92.0\n",
            "92.0 < quantile 8 < 115.0\n",
            "115.0 < quantile 9 < 149.0\n",
            "149.0 < quantile 10\n"
          ]
        }
      ]
    },
    {
      "cell_type": "code",
      "source": [
        "import matplotlib.pyplot as plt\n",
        "import numpy as np\n",
        "\n",
        "plt.style.use('_mpl-gallery')\n",
        "\n",
        "fig, ax = plt.subplots()\n",
        "\n",
        "fig.set_size_inches((8,6))\n",
        "\n",
        "ax.hist(log, bins=100, linewidth=0.5, edgecolor=\"white\")\n",
        "\n",
        "ax.set(xlim=(0, max(log)+10))\n",
        "\n",
        "plt.show()"
      ],
      "metadata": {
        "colab": {
          "base_uri": "https://localhost:8080/",
          "height": 468
        },
        "id": "CJBf9CjMyJR2",
        "outputId": "70d8a047-1259-4b58-907d-439ac6ba02ce"
      },
      "execution_count": 264,
      "outputs": [
        {
          "output_type": "display_data",
          "data": {
            "text/plain": [
              "<Figure size 576x432 with 1 Axes>"
            ],
            "image/png": "[encoded data removed]"
          },
          "metadata": {
            "needs_background": "light"
          }
        }
      ]
    },
    {
      "cell_type": "markdown",
      "source": [
        "# Expected Position with Regard to Step Number"
      ],
      "metadata": {
        "id": "PSkfNLGxTxa0"
      }
    },
    {
      "cell_type": "code",
      "source": [
        "num_episodes = 2000\n",
        "max_steps = 500\n",
        "positions_log = np.empty((num_episodes, max_steps))\n",
        "positions_log.fill(100)\n",
        "for i in range(num_episodes):\n",
        "  state = 0\n",
        "  done = False\n",
        "  num_steps = 0\n",
        "  for j in range(max_steps):\n",
        "    state, done = step(state)\n",
        "    positions_log[i][j] = state"
      ],
      "metadata": {
        "id": "ZorGZFg7T2eG"
      },
      "execution_count": 265,
      "outputs": []
    },
    {
      "cell_type": "code",
      "source": [
        "timeline_mean = positions_log.mean(axis=0)"
      ],
      "metadata": {
        "id": "uU4W5Qu-ceqa"
      },
      "execution_count": 266,
      "outputs": []
    },
    {
      "cell_type": "code",
      "source": [
        "timeline_mean"
      ],
      "metadata": {
        "colab": {
          "base_uri": "https://localhost:8080/"
        },
        "id": "P-UBfF3fcnhm",
        "outputId": "121ef8d1-e30a-4ad0-c4ef-a1b8f5726e7e"
      },
      "execution_count": 267,
      "outputs": [
        {
          "output_type": "execute_result",
          "data": {
            "text/plain": [
              "array([ 0.8905,  2.374 ,  4.7925,  7.6185, 10.9115, 14.4495, 18.5525,\n",
              "       22.67  , 26.6635, 30.768 , 34.6105, 38.247 , 41.1925, 43.9595,\n",
              "       46.6925, 49.234 , 51.5415, 53.33  , 55.365 , 57.2325, 59.0525,\n",
              "       60.732 , 62.4795, 63.6115, 64.2815, 65.0655, 66.2575, 66.9105,\n",
              "       68.3135, 69.108 , 69.6045, 69.9465, 70.1225, 70.5475, 71.252 ,\n",
              "       71.701 , 72.612 , 72.6805, 73.4925, 74.3045, 75.039 , 75.91  ,\n",
              "       76.1915, 76.464 , 77.1465, 77.555 , 77.885 , 78.249 , 78.8465,\n",
              "       79.57  , 79.4455, 79.598 , 79.9175, 80.1625, 80.436 , 80.922 ,\n",
              "       81.236 , 81.3925, 81.8985, 82.391 , 82.717 , 83.217 , 83.5745,\n",
              "       83.805 , 83.9245, 84.501 , 84.9885, 85.1445, 85.3805, 85.327 ,\n",
              "       85.695 , 85.8185, 86.4025, 86.3755, 86.938 , 87.0095, 86.98  ,\n",
              "       86.8715, 87.56  , 87.313 , 87.939 , 88.314 , 88.596 , 88.642 ,\n",
              "       88.863 , 89.086 , 89.321 , 89.6205, 89.94  , 90.1675, 89.882 ,\n",
              "       90.2795, 90.321 , 90.682 , 90.742 , 90.818 , 90.8835, 90.837 ,\n",
              "       91.12  , 91.114 , 91.1605, 91.5855, 91.6885, 91.8665, 91.8325,\n",
              "       92.184 , 92.168 , 92.056 , 92.203 , 92.5255, 92.882 , 92.904 ,\n",
              "       92.885 , 93.028 , 93.3015, 93.3935, 93.8415, 93.9175, 93.79  ,\n",
              "       93.8695, 93.922 , 93.939 , 94.18  , 94.248 , 94.3445, 94.505 ,\n",
              "       94.335 , 94.3585, 94.454 , 94.625 , 94.7465, 94.817 , 94.979 ,\n",
              "       94.9465, 95.136 , 95.1235, 95.4295, 95.35  , 95.337 , 95.343 ,\n",
              "       95.605 , 95.65  , 95.7855, 95.8815, 95.9415, 96.141 , 95.974 ,\n",
              "       96.2415, 96.336 , 96.428 , 96.5185, 96.5325, 96.607 , 96.734 ,\n",
              "       96.7655, 96.911 , 96.978 , 97.049 , 97.1795, 97.296 , 97.1875,\n",
              "       97.087 , 97.377 , 97.379 , 97.35  , 97.3635, 97.4955, 97.5395,\n",
              "       97.59  , 97.5345, 97.5055, 97.5025, 97.715 , 97.723 , 97.696 ,\n",
              "       97.777 , 97.886 , 97.826 , 97.9475, 97.899 , 97.884 , 97.976 ,\n",
              "       97.876 , 97.8995, 97.992 , 98.094 , 98.2675, 98.2555, 98.2265,\n",
              "       98.2235, 98.2185, 98.259 , 98.297 , 98.271 , 98.2965, 98.3565,\n",
              "       98.4415, 98.4675, 98.4045, 98.3355, 98.5215, 98.6255, 98.7225,\n",
              "       98.746 , 98.723 , 98.775 , 98.6665, 98.7455, 98.7585, 98.7755,\n",
              "       98.75  , 98.799 , 98.91  , 98.937 , 98.945 , 98.906 , 98.998 ,\n",
              "       98.971 , 99.012 , 98.9725, 99.029 , 99.051 , 99.109 , 99.076 ,\n",
              "       99.129 , 99.215 , 99.277 , 99.2795, 99.285 , 99.317 , 99.3055,\n",
              "       99.3185, 99.357 , 99.3605, 99.3895, 99.458 , 99.473 , 99.5135,\n",
              "       99.53  , 99.5515, 99.574 , 99.5645, 99.5665, 99.5885, 99.6345,\n",
              "       99.645 , 99.672 , 99.658 , 99.5765, 99.6165, 99.625 , 99.6105,\n",
              "       99.671 , 99.6845, 99.697 , 99.6195, 99.659 , 99.7055, 99.7395,\n",
              "       99.7815, 99.814 , 99.8365, 99.8295, 99.85  , 99.8445, 99.8595,\n",
              "       99.8445, 99.8575, 99.8725, 99.816 , 99.8155, 99.837 , 99.835 ,\n",
              "       99.856 , 99.8465, 99.861 , 99.837 , 99.8515, 99.8755, 99.855 ,\n",
              "       99.8555, 99.892 , 99.897 , 99.895 , 99.8695, 99.8835, 99.8475,\n",
              "       99.869 , 99.8965, 99.8655, 99.844 , 99.8825, 99.879 , 99.882 ,\n",
              "       99.902 , 99.912 , 99.9075, 99.9455, 99.942 , 99.931 , 99.9395,\n",
              "       99.947 , 99.922 , 99.9295, 99.942 , 99.947 , 99.944 , 99.9335,\n",
              "       99.9375, 99.9435, 99.946 , 99.9505, 99.9645, 99.968 , 99.9615,\n",
              "       99.9485, 99.9545, 99.9615, 99.9675, 99.9715, 99.9735, 99.965 ,\n",
              "       99.9685, 99.9525, 99.9655, 99.969 , 99.97  , 99.9445, 99.946 ,\n",
              "       99.92  , 99.923 , 99.9275, 99.919 , 99.9225, 99.924 , 99.937 ,\n",
              "       99.941 , 99.943 , 99.9475, 99.9495, 99.952 , 99.9545, 99.957 ,\n",
              "       99.9715, 99.975 , 99.976 , 99.961 , 99.968 , 99.971 , 99.974 ,\n",
              "       99.9565, 99.9735, 99.975 , 99.9775, 99.98  , 99.958 , 99.9595,\n",
              "       99.9645, 99.9655, 99.9815, 99.984 , 99.985 , 99.9875, 99.99  ,\n",
              "       99.9785, 99.9805, 99.983 , 99.966 , 99.9685, 99.97  , 99.9815,\n",
              "       99.982 , 99.966 , 99.9675, 99.9685, 99.9705, 99.9715, 99.9815,\n",
              "       99.984 , 99.995 , 99.9865, 99.989 , 99.99  , 99.991 , 99.992 ,\n",
              "       99.994 , 99.996 , 99.963 , 99.965 , 99.967 , 99.9695, 99.9815,\n",
              "       99.9825, 99.966 , 99.9665, 99.969 , 99.971 , 99.9725, 99.9735,\n",
              "       99.974 , 99.975 , 99.9835, 99.966 , 99.9685, 99.9695, 99.9705,\n",
              "       99.971 , 99.973 , 99.9835, 99.966 , 99.967 , 99.9695, 99.9815,\n",
              "       99.984 , 99.966 , 99.9665, 99.9815, 99.983 , 99.966 , 99.9665,\n",
              "       99.967 , 99.9695, 99.9705, 99.9725, 99.974 , 99.975 , 99.9775,\n",
              "       99.98  , 99.982 , 99.984 , 99.985 , 99.9875, 99.99  , 99.9905,\n",
              "       99.9785, 99.9805, 99.9825, 99.983 , 99.966 , 99.9685, 99.971 ,\n",
              "       99.9735, 99.974 , 99.9745, 99.977 , 99.974 , 99.9765, 99.9785,\n",
              "       99.9805, 99.982 , 99.984 , 99.995 , 99.9965, 99.9985, 99.999 ,\n",
              "       99.999 , 99.99  , 99.9785, 99.98  , 99.9825, 99.984 , 99.985 ,\n",
              "       99.987 , 99.9875, 99.9885, 99.99  , 99.992 , 99.9945, 99.9965,\n",
              "       99.963 , 99.9655, 99.966 , 99.967 , 99.9675, 99.9815, 99.984 ,\n",
              "       99.986 , 99.9885, 99.99  , 99.9905, 99.9925, 99.9935, 99.9865,\n",
              "       99.9885, 99.991 , 99.9785, 99.9805, 99.983 , 99.985 , 99.9865,\n",
              "       99.987 , 99.9885, 99.9905, 99.991 , 99.9785, 99.979 , 99.9905,\n",
              "       99.9785, 99.9505, 99.951 ])"
            ]
          },
          "metadata": {},
          "execution_count": 267
        }
      ]
    },
    {
      "cell_type": "code",
      "source": [
        "fig, ax = plt.subplots()\n",
        "\n",
        "ax.plot(timeline_mean[:300], linewidth=2.0)\n",
        "fig.set_size_inches((8,6))\n",
        "\n",
        "\n",
        "plt.show()"
      ],
      "metadata": {
        "colab": {
          "base_uri": "https://localhost:8080/",
          "height": 468
        },
        "id": "yYiB_FV7dCWS",
        "outputId": "2fb1f965-f967-4fb0-e7f6-5eaf94a7bbb1"
      },
      "execution_count": 268,
      "outputs": [
        {
          "output_type": "display_data",
          "data": {
            "text/plain": [
              "<Figure size 576x432 with 1 Axes>"
            ],
            "image/png": "[encoded data removed]"
          },
          "metadata": {
            "needs_background": "light"
          }
        }
      ]
    }
  ]
}