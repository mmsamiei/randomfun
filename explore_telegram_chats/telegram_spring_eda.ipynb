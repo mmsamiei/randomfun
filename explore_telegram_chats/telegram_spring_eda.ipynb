{
 "cells": [
  {
   "cell_type": "code",
   "execution_count": 181,
   "metadata": {},
   "outputs": [],
   "source": [
    "import json\n",
    "from tqdm import tqdm\n",
    "from datetime import datetime\n",
    "from datetime import datetime, timedelta\n",
    "import time\n",
    "from collections import Counter"
   ]
  },
  {
   "cell_type": "code",
   "execution_count": 2,
   "metadata": {},
   "outputs": [],
   "source": [
    "telegram_export_file_path = './result.json'\n",
    "telegram_data = json.load(open(telegram_export_file_path))"
   ]
  },
  {
   "cell_type": "code",
   "execution_count": 3,
   "metadata": {},
   "outputs": [],
   "source": [
    "chats_list = telegram_data['chats']['list'] + telegram_data['left_chats']['list']"
   ]
  },
  {
   "cell_type": "code",
   "execution_count": 4,
   "metadata": {},
   "outputs": [
    {
     "data": {
      "text/plain": [
       "858"
      ]
     },
     "execution_count": 4,
     "metadata": {},
     "output_type": "execute_result"
    }
   ],
   "source": [
    "len(chats_list)"
   ]
  },
  {
   "attachments": {},
   "cell_type": "markdown",
   "metadata": {},
   "source": [
    "# Who have I talked to the most?"
   ]
  },
  {
   "cell_type": "code",
   "execution_count": 84,
   "metadata": {},
   "outputs": [],
   "source": [
    "spring_start_date = datetime(2023, 3, 21)  # Example lower bound date\n",
    "spring_end_date = datetime(2023, 6, 21)  # Example upper bound date"
   ]
  },
  {
   "attachments": {},
   "cell_type": "markdown",
   "metadata": {},
   "source": [
    "## The total number of received and sent messages"
   ]
  },
  {
   "cell_type": "code",
   "execution_count": 322,
   "metadata": {},
   "outputs": [
    {
     "name": "stderr",
     "output_type": "stream",
     "text": [
      "100%|██████████| 858/858 [00:00<00:00, 8362.57it/s]\n"
     ]
    }
   ],
   "source": [
    "chat_char_freq = {}\n",
    "for chat in tqdm(chats_list):\n",
    "    try:\n",
    "        if chat['name'] not in chat_char_freq:\n",
    "            chat_name = chat['name']\n",
    "        else:\n",
    "            chat_name = chat['id']\n",
    "    except:\n",
    "        chat_name = \"خودم\"\n",
    "    chat_char_freq[chat_name] = 0\n",
    "    for message in chat['messages']:\n",
    "        if spring_start_date <= datetime.fromisoformat(message['date']) <= spring_end_date:\n",
    "            chat_char_freq[chat_name] += len(message['text'])"
   ]
  },
  {
   "cell_type": "code",
   "execution_count": 324,
   "metadata": {},
   "outputs": [
    {
     "name": "stdout",
     "output_type": "stream",
     "text": [
      "name: M  \tchars:  143266\n"
     ]
    }
   ],
   "source": [
    "from collections import Counter\n",
    "\n",
    "counter_obj = Counter(chat_char_freq)\n",
    "\n",
    "most_common = counter_obj.most_common()\n",
    "\n",
    "for person in most_common[:1]:    \n",
    "    print(\"name:\",person[0], \" \\tchars: \", person[1])\n"
   ]
  },
  {
   "cell_type": "code",
   "execution_count": 107,
   "metadata": {},
   "outputs": [
    {
     "data": {
      "text/plain": [
       "{'id': 1249,\n",
       " 'type': 'message',\n",
       " 'date': '2019-02-10T13:21:13',\n",
       " 'date_unixtime': '1549792273',\n",
       " 'from': 'Mahdi',\n",
       " 'from_id': 'user679218067',\n",
       " 'reply_to_message_id': 1248,\n",
       " 'text': 'اساس یا اثاث؟',\n",
       " 'text_entities': [{'type': 'plain', 'text': 'اساس یا اثاث؟'}]}"
      ]
     },
     "execution_count": 107,
     "metadata": {},
     "output_type": "execute_result"
    }
   ],
   "source": [
    "message"
   ]
  },
  {
   "attachments": {},
   "cell_type": "markdown",
   "metadata": {},
   "source": [
    "## The total number of sent messages"
   ]
  },
  {
   "cell_type": "code",
   "execution_count": 327,
   "metadata": {},
   "outputs": [
    {
     "name": "stderr",
     "output_type": "stream",
     "text": [
      "100%|██████████| 858/858 [00:00<00:00, 9588.69it/s]\n"
     ]
    }
   ],
   "source": [
    "my_id = 'user##'\n",
    "chat_char_freq = {}\n",
    "for chat in tqdm(chats_list):\n",
    "    try:\n",
    "        if chat['name'] not in chat_char_freq:\n",
    "            chat_name = chat['name']\n",
    "        else:\n",
    "            chat_name = chat['id']\n",
    "    except:\n",
    "        chat_name = \"خودم\"\n",
    "    chat_char_freq[chat_name] = 0\n",
    "    for message in chat['messages']:\n",
    "        if message.get('from_id', None) == my_id:\n",
    "            if spring_start_date <= datetime.fromisoformat(message['date']) <= spring_end_date:\n",
    "                chat_char_freq[chat_name] += len(message['text'])"
   ]
  },
  {
   "cell_type": "code",
   "execution_count": 326,
   "metadata": {},
   "outputs": [
    {
     "name": "stdout",
     "output_type": "stream",
     "text": [
      "name: M  \tchars:  72163\n"
     ]
    }
   ],
   "source": [
    "from collections import Counter\n",
    "\n",
    "counter_obj = Counter(chat_char_freq)\n",
    "\n",
    "most_common = counter_obj.most_common()\n",
    "\n",
    "for person in most_common[:1]:    \n",
    "    print(\"name:\",person[0], \" \\tchars: \", person[1])\n"
   ]
  },
  {
   "attachments": {},
   "cell_type": "markdown",
   "metadata": {},
   "source": [
    "# Message Per Day"
   ]
  },
  {
   "cell_type": "code",
   "execution_count": 125,
   "metadata": {},
   "outputs": [
    {
     "name": "stderr",
     "output_type": "stream",
     "text": [
      "100%|██████████| 858/858 [00:00<00:00, 4648.98it/s]\n"
     ]
    }
   ],
   "source": [
    "my_id = 'user####'\n",
    "chat_day_freq = {}\n",
    "\n",
    "current_date = spring_start_date\n",
    "\n",
    "while current_date <= spring_end_date:\n",
    "    chat_day_freq[current_date.date()] = 0\n",
    "    current_date += timedelta(days=1)\n",
    "\n",
    "for chat in tqdm(chats_list):\n",
    "    try:\n",
    "        if chat['name'] not in chat_char_freq:\n",
    "            chat_name = chat['name']\n",
    "        else:\n",
    "            chat_name = chat['id']\n",
    "    except:\n",
    "        chat_name = \"خودم\"\n",
    "    chat_char_freq[chat_name] = 0\n",
    "    for message in chat['messages']:\n",
    "        if message.get('from_id', None) == my_id:\n",
    "            chat_date = datetime.fromisoformat(message['date'])\n",
    "            if spring_start_date <= chat_date <= spring_end_date+timedelta(days=1):\n",
    "                chat_day_freq[chat_date.date()] += len(message['text'])"
   ]
  },
  {
   "cell_type": "code",
   "execution_count": 127,
   "metadata": {},
   "outputs": [
    {
     "data": {
      "image/png": "[encoded data removed]",
      "text/plain": [
       "<Figure size 640x480 with 1 Axes>"
      ]
     },
     "metadata": {},
     "output_type": "display_data"
    }
   ],
   "source": [
    "import matplotlib.pyplot as plt\n",
    "from datetime import date\n",
    "\n",
    "# Extract the dates and values from the dictionary\n",
    "dates = list(chat_day_freq.keys())\n",
    "values = list(chat_day_freq.values())\n",
    "\n",
    "# Plot the values\n",
    "plt.plot(dates, values)\n",
    "\n",
    "# Add labels and title\n",
    "plt.xlabel(\"Date\")\n",
    "plt.ylabel(\"Value\")\n",
    "plt.title(\"Plot of Dictionary Values\")\n",
    "\n",
    "# Rotate x-axis labels if needed\n",
    "plt.xticks(rotation=45)\n",
    "\n",
    "# Display the plot\n",
    "plt.show()\n"
   ]
  },
  {
   "attachments": {},
   "cell_type": "markdown",
   "metadata": {},
   "source": [
    "## Friday, Sunday, or ?"
   ]
  },
  {
   "cell_type": "code",
   "execution_count": 143,
   "metadata": {},
   "outputs": [],
   "source": [
    "week_days = {i:[] for i in range(7)}\n",
    "for date_day in chat_day_freq:\n",
    "    week_days[date_day.weekday()].append(chat_day_freq[date_day])\n",
    "for d in week_days:\n",
    "    week_days[d] = int(sum(week_days[d]) / len(week_days[d]))"
   ]
  },
  {
   "cell_type": "code",
   "execution_count": 147,
   "metadata": {},
   "outputs": [
    {
     "data": {
      "image/png": "[encoded data removed]",
      "text/plain": [
       "<Figure size 640x480 with 1 Axes>"
      ]
     },
     "metadata": {},
     "output_type": "display_data"
    }
   ],
   "source": [
    "dates = ['د','س','چ','پ','ج','ش','ی']\n",
    "values = list(week_days.values())\n",
    "\n",
    "# Plot the values\n",
    "plt.plot(dates, values)\n",
    "\n",
    "# Add labels and title\n",
    "plt.xlabel(\"Date\")\n",
    "plt.ylabel(\"Value\")\n",
    "plt.title(\"Plot of Dictionary Values\")\n",
    "\n",
    "# Rotate x-axis labels if needed\n",
    "plt.xticks(rotation=45)\n",
    "\n",
    "# Display the plot\n",
    "plt.show()\n"
   ]
  },
  {
   "attachments": {},
   "cell_type": "markdown",
   "metadata": {},
   "source": [
    "# Word Analysis"
   ]
  },
  {
   "cell_type": "code",
   "execution_count": 211,
   "metadata": {},
   "outputs": [
    {
     "name": "stderr",
     "output_type": "stream",
     "text": [
      "100%|██████████| 858/858 [00:00<00:00, 3547.39it/s]\n"
     ]
    }
   ],
   "source": [
    "word_counter = Counter()\n",
    "for chat in tqdm(chats_list):\n",
    "    chat_char_freq[chat_name] = 0\n",
    "    for message in chat['messages']:\n",
    "        if spring_start_date <= datetime.fromisoformat(message['date']) <= spring_end_date:\n",
    "            if type(message['text']) == str:\n",
    "                words = message['text'].split()\n",
    "                word_counter.update(words)\n",
    "            elif type(message['text']) == list:\n",
    "                for x in message['text']:\n",
    "                    if type(x) == dict:\n",
    "                        words = x['text'].split()\n",
    "                        word_counter.update(words)\n",
    "                    elif type(x) == str:\n",
    "                        words = x.split()\n",
    "                        word_counter.update(words)"
   ]
  },
  {
   "cell_type": "code",
   "execution_count": 215,
   "metadata": {},
   "outputs": [
    {
     "data": {
      "text/plain": [
       "[('و', 9060),\n",
       " ('که', 7842),\n",
       " ('به', 7074),\n",
       " ('از', 5396),\n",
       " ('این', 5215),\n",
       " ('من', 5053),\n",
       " ('رو', 5038),\n",
       " ('در', 4012),\n",
       " ('هم', 3819),\n",
       " ('با', 2883),\n",
       " ('تو', 2230),\n",
       " ('یک', 2101),\n",
       " ('را', 1777),\n",
       " ('شما', 1713),\n",
       " ('تا', 1710),\n",
       " ('چه', 1701),\n",
       " ('دکتر', 1650),\n",
       " ('برای', 1618),\n",
       " ('نه', 1590),\n",
       " ('دیگه', 1468),\n",
       " ('ولی', 1435),\n",
       " ('یا', 1334),\n",
       " ('هر', 1292),\n",
       " ('ما', 1280),\n",
       " ('بود', 1242),\n",
       " ('اون', 1165),\n",
       " ('اگر', 1105),\n",
       " ('یه', 1088),\n",
       " ('باید', 1080),\n",
       " ('بعد', 1073),\n",
       " ('سلام', 1072),\n",
       " ('است', 1007),\n",
       " ('الان', 947),\n",
       " ('کنم', 910),\n",
       " ('آن', 873),\n",
       " ('کار', 864),\n",
       " ('خیلی', 858),\n",
       " ('نیست', 849),\n",
       " ('فکر', 841),\n",
       " ('خب', 799),\n",
       " ('همه', 780),\n",
       " ('میشه', 727),\n",
       " ('باشه', 719),\n",
       " (':)', 718),\n",
       " ('همین', 704),\n",
       " ('چی', 678),\n",
       " ('چرا', 671),\n",
       " ('دارم', 663),\n",
       " ('دو', 641),\n",
       " ('ای', 634)]"
      ]
     },
     "execution_count": 215,
     "metadata": {},
     "output_type": "execute_result"
    }
   ],
   "source": [
    "word_counter.most_common(50)"
   ]
  },
  {
   "cell_type": "code",
   "execution_count": 268,
   "metadata": {},
   "outputs": [],
   "source": [
    "persian_stop_words = [\n",
    "    'از',\n",
    "    'به',\n",
    "    'با',\n",
    "    'و',\n",
    "    'در',\n",
    "    'را',\n",
    "    'برای',\n",
    "    'تا',\n",
    "    'که',\n",
    "    'است',\n",
    "    'هم',\n",
    "    'یا',\n",
    "    'یک',\n",
    "    'اما',\n",
    "    'باید',\n",
    "    'من',\n",
    "    'شما',\n",
    "    'آن',\n",
    "    'این',\n",
    "    'آنها',\n",
    "    'خود',\n",
    "    'هر',\n",
    "    'همه',\n",
    "    'هیچ',\n",
    "    'چندین',\n",
    "    'چند',\n",
    "    'چه',\n",
    "    'بعضی',\n",
    "    'بعضی‌ها',\n",
    "    'بیشتر',\n",
    "    'بیش',\n",
    "    'کمتر',\n",
    "    'کم',\n",
    "    'زیاد',\n",
    "    'زیادی',\n",
    "    'دیگر',\n",
    "    'همچنین',\n",
    "    'همچون',\n",
    "    'بلکه',\n",
    "    'مثل',\n",
    "    'نیز',\n",
    "    'ولی',\n",
    "    'بعد',\n",
    "    'قبل',\n",
    "    'بیرون',\n",
    "    'جلوی',\n",
    "    'پشت',\n",
    "    'روی',\n",
    "    'زیر',\n",
    "    'بالا',\n",
    "    'داخل',\n",
    "    'سمت',\n",
    "    'نزدیک',\n",
    "    'دور',\n",
    "    'بر',\n",
    "    'بی',\n",
    "    'ای',\n",
    "    'تو',\n",
    "    'اینکه',\n",
    "    'برای',\n",
    "    'باشد',\n",
    "    'شود',\n",
    "    'شده',\n",
    "    'خواهد',\n",
    "    'می',\n",
    "    'می‌شود',\n",
    "    'می‌کند',\n",
    "    'می‌شوند',\n",
    "    'ما',\n",
    "    'شما',\n",
    "    'او',\n",
    "    'آنها',\n",
    "    'خود',\n",
    "    'همه',\n",
    "    'همین',\n",
    "    'همچنین',\n",
    "    'یکی',\n",
    "    'هیچ',\n",
    "    'چه',\n",
    "    'چیزی',\n",
    "    'کسی',\n",
    "    'کس',\n",
    "    'هیچ',\n",
    "    'کدام',\n",
    "    'کدامیک',\n",
    "    'این',\n",
    "    'آن',\n",
    "    'تمام',\n",
    "    'بعضی',\n",
    "    'کل',\n",
    "    'چند',\n",
    "    'بعضی‌ها',\n",
    "    'دیگری',\n",
    "    'خیلی',\n",
    "    'زیاد',\n",
    "    'کمتر',\n",
    "    'بیشتر',\n",
    "    'بهتر',\n",
    "    'بدتر',\n",
    "    'همیشه',\n",
    "    'اکنون',\n",
    "    'گاهی',\n",
    "    'گاه',\n",
    "    'معمولا',\n",
    "    'مثلا',\n",
    "    'تازه',\n",
    "    'ناگهان',\n",
    "    'شاید',\n",
    "    'چرا',\n",
    "    'چطور',\n",
    "    'کی',\n",
    "    'آیا',\n",
    "    'بله',\n",
    "    'خیر',\n",
    "    'هرگز',\n",
    "    'البته',\n",
    "    'بله',\n",
    "    'خیر'\n",
    "]\n",
    "good_words = {}"
   ]
  },
  {
   "attachments": {},
   "cell_type": "markdown",
   "metadata": {},
   "source": [
    "## Word Cloud of Sent and Received "
   ]
  },
  {
   "cell_type": "code",
   "execution_count": 279,
   "metadata": {},
   "outputs": [],
   "source": [
    "for word, freq in word_counter.most_common(1000):\n",
    "    if word in persian_stop_words or word in good_words:\n",
    "        continue\n",
    "    is_stop = input(f\"is {word} good word? {len(good_words)}\")\n",
    "    if is_stop in list('asdfghjklqwertyuiopzxcvbnm'):\n",
    "        good_words[word] = word_counter.get(word)\n",
    "    else:\n",
    "        persian_stop_words.append(word)\n",
    "    if len(good_words) == 120:\n",
    "        break"
   ]
  },
  {
   "cell_type": "code",
   "execution_count": 280,
   "metadata": {},
   "outputs": [
    {
     "data": {
      "text/plain": [
       "{'دکتر': 1650,\n",
       " 'سلام': 1072,\n",
       " 'کار': 864,\n",
       " 'فکر': 841,\n",
       " ':)': 718,\n",
       " 'واقعا': 519,\n",
       " 'وقت': 509,\n",
       " 'اصلا': 503,\n",
       " 'روز': 482,\n",
       " 'خوب': 470,\n",
       " 'سال': 446,\n",
       " 'سر': 429,\n",
       " 'دوست': 401,\n",
       " 'دست': 380,\n",
       " 'بنده': 378,\n",
       " 'صحبت': 378,\n",
       " 'دانشگاه': 357,\n",
       " 'زندگی': 350,\n",
       " 'بابا': 348,\n",
       " 'امروز': 337,\n",
       " 'جلسه': 334,\n",
       " 'سمیعی': 331,\n",
       " 'باز': 325,\n",
       " 'نظر': 320,\n",
       " 'حسنی': 318,\n",
       " 'آدم': 316,\n",
       " 'زن': 316,\n",
       " 'ساعت': 313,\n",
       " 'هوش': 307,\n",
       " 'فردا': 307,\n",
       " 'بحث': 306,\n",
       " 'ازدواج': 302,\n",
       " 'خدا': 302,\n",
       " 'صورت': 273,\n",
       " 'پیدا': 271,\n",
       " 'نظرم': 271,\n",
       " 'سوال': 263,\n",
       " 'پیام': 256,\n",
       " 'خانواده': 252,\n",
       " 'حرف': 250,\n",
       " 'شب': 250,\n",
       " 'مورد': 245,\n",
       " 'مدل': 242,\n",
       " 'مصیب': 237,\n",
       " 'داده': 236,\n",
       " 'قرار': 234,\n",
       " 'هفته': 233,\n",
       " 'حس': 233,\n",
       " 'گروه': 209,\n",
       " 'وجود': 207,\n",
       " 'نفر': 200,\n",
       " 'تمرین': 195,\n",
       " 'راه': 190,\n",
       " 'بچه': 190,\n",
       " 'اشتباه': 188,\n",
       " 'مهدی': 188,\n",
       " 'درد': 187,\n",
       " 'درس': 185,\n",
       " 'کانال': 182,\n",
       " 'ماه': 177,\n",
       " 'ملت': 176,\n",
       " 'صورتی': 175,\n",
       " 'دل': 175,\n",
       " 'عشق': 174,\n",
       " 'تمدید': 173,\n",
       " 'مشکل': 171,\n",
       " 'جواب': 170,\n",
       " 'حاجی': 165,\n",
       " 'استفاده': 165,\n",
       " 'حالت': 164,\n",
       " 'ترم': 158,\n",
       " 'ارائه': 155,\n",
       " 'دورانت': 155,\n",
       " 'مرد': 153,\n",
       " 'وضع': 152,\n",
       " 'پول': 150,\n",
       " 'زمان': 145,\n",
       " 'کلاس': 145,\n",
       " 'پاسخ': 145,\n",
       " 'انسان': 144,\n",
       " 'نتیجه': 143,\n",
       " 'امتحان': 141,\n",
       " 'نگاه': 140,\n",
       " 'عکس': 140,\n",
       " 'جدید': 139,\n",
       " 'راحت': 139,\n",
       " 'ایده': 138,\n",
       " 'کتاب': 138,\n",
       " 'بازی': 137,\n",
       " 'تنها': 137,\n",
       " 'دکترا': 136,\n",
       " 'موضوع': 135,\n",
       " 'روش': 134,\n",
       " 'وارد': 132,\n",
       " 'خانم': 132,\n",
       " 'نمره': 131,\n",
       " 'دختر': 131,\n",
       " 'شاکر': 130,\n",
       " 'دانشکده': 128,\n",
       " 'علی': 127,\n",
       " 'کد': 127,\n",
       " 'متن': 127,\n",
       " 'استاد': 127,\n",
       " 'مبارک': 126,\n",
       " 'مساله': 126,\n",
       " 'نیاز': 124,\n",
       " 'خواب': 124,\n",
       " 'دنیا': 123,\n",
       " 'بد': 123,\n",
       " 'امشب': 122,\n",
       " 'پست': 122,\n",
       " 'خونه': 121,\n",
       " 'حضوری': 121,\n",
       " 'ایران': 120,\n",
       " 'انتخاب': 120,\n",
       " 'رهبان': 120,\n",
       " 'کارشناسی': 119,\n",
       " 'تغییر': 119,\n",
       " 'عنوان': 118,\n",
       " 'صبح': 118}"
      ]
     },
     "execution_count": 280,
     "metadata": {},
     "output_type": "execute_result"
    }
   ],
   "source": [
    "good_words"
   ]
  },
  {
   "cell_type": "code",
   "execution_count": 281,
   "metadata": {},
   "outputs": [],
   "source": [
    "my_counter = Counter(good_words)"
   ]
  },
  {
   "cell_type": "code",
   "execution_count": 317,
   "metadata": {},
   "outputs": [
    {
     "name": "stderr",
     "output_type": "stream",
     "text": [
      "Error: no \"view\" mailcap rules found for type \"image/png\"\n"
     ]
    },
    {
     "name": "stderr",
     "output_type": "stream",
     "text": [
      "Start : This command cannot be run due to the error: The system cannot find the file specified.\n",
      "At line:1 char:1\n",
      "+ Start \"/tmp/tmp5jo1f1if.PNG\"\n",
      "+ ~~~~~~~~~~~~~~~~~~~~~~~~~~~~\n",
      "    + CategoryInfo          : InvalidOperation: (:) [Start-Process], InvalidOperationException\n",
      "    + FullyQualifiedErrorId : InvalidOperationException,Microsoft.PowerShell.Commands.StartProcessCommand\n",
      " \n"
     ]
    }
   ],
   "source": [
    "from wordcloud_fa import WordCloudFa\n",
    "wordcloud = WordCloudFa(persian_normalize=True, no_reshape=True, width=1600, colormap='hsv', height=1200, max_words=1000)\n",
    "wc = wordcloud.generate_from_frequencies(my_counter)\n",
    "image = wc.to_image()\n",
    "image.show()\n",
    "image.save('wordcloud_no_stopwords_spring_1402.png')"
   ]
  },
  {
   "attachments": {},
   "cell_type": "markdown",
   "metadata": {},
   "source": [
    "## Word Cloud of Sent "
   ]
  },
  {
   "cell_type": "code",
   "execution_count": 286,
   "metadata": {},
   "outputs": [
    {
     "name": "stderr",
     "output_type": "stream",
     "text": [
      "100%|██████████| 858/858 [00:00<00:00, 4679.08it/s]\n"
     ]
    }
   ],
   "source": [
    "word_counter = Counter()\n",
    "for chat in tqdm(chats_list):\n",
    "    chat_char_freq[chat_name] = 0\n",
    "    for message in chat['messages']:\n",
    "        if message.get('from_id', None) == my_id:\n",
    "            if spring_start_date <= datetime.fromisoformat(message['date']) <= spring_end_date:\n",
    "                if type(message['text']) == str:\n",
    "                    words = message['text'].split()\n",
    "                    word_counter.update(words)\n",
    "                elif type(message['text']) == list:\n",
    "                    for x in message['text']:\n",
    "                        if type(x) == dict:\n",
    "                            words = x['text'].split()\n",
    "                            word_counter.update(words)\n",
    "                        elif type(x) == str:\n",
    "                            words = x.split()\n",
    "                            word_counter.update(words)"
   ]
  },
  {
   "cell_type": "code",
   "execution_count": 285,
   "metadata": {},
   "outputs": [],
   "source": [
    "good_words_sent = {}"
   ]
  },
  {
   "cell_type": "code",
   "execution_count": 291,
   "metadata": {},
   "outputs": [],
   "source": [
    "for word, freq in word_counter.most_common(1000):\n",
    "    if word in persian_stop_words:\n",
    "        continue\n",
    "    if word in good_words:\n",
    "        good_words_sent[word] = word_counter.get(word)\n",
    "        continue\n",
    "    is_stop = input(f\"is {word} good word? {len(good_words_sent)}\")\n",
    "    if is_stop in list('asdfghjklqwertyuiopzxcvbnm'):\n",
    "        good_words_sent[word] = word_counter.get(word)\n",
    "    else:\n",
    "        persian_stop_words.append(word)\n",
    "    if len(good_words_sent) == 120:\n",
    "        break"
   ]
  },
  {
   "cell_type": "code",
   "execution_count": 293,
   "metadata": {},
   "outputs": [
    {
     "data": {
      "text/plain": [
       "120"
      ]
     },
     "execution_count": 293,
     "metadata": {},
     "output_type": "execute_result"
    }
   ],
   "source": [
    "len(good_words_sent)"
   ]
  },
  {
   "cell_type": "code",
   "execution_count": 294,
   "metadata": {},
   "outputs": [],
   "source": [
    "my_sent_counter = Counter(good_words_sent)"
   ]
  },
  {
   "cell_type": "code",
   "execution_count": 318,
   "metadata": {},
   "outputs": [
    {
     "name": "stderr",
     "output_type": "stream",
     "text": [
      "Error: no \"view\" mailcap rules found for type \"image/png\"\n"
     ]
    },
    {
     "name": "stderr",
     "output_type": "stream",
     "text": [
      "Start : This command cannot be run due to the error: The system cannot find the file specified.\n",
      "At line:1 char:1\n",
      "+ Start \"/tmp/tmplw6bd8bo.PNG\"\n",
      "+ ~~~~~~~~~~~~~~~~~~~~~~~~~~~~\n",
      "    + CategoryInfo          : InvalidOperation: (:) [Start-Process], InvalidOperationException\n",
      "    + FullyQualifiedErrorId : InvalidOperationException,Microsoft.PowerShell.Commands.StartProcessCommand\n",
      " \n"
     ]
    }
   ],
   "source": [
    "from wordcloud_fa import WordCloudFa\n",
    "wordcloud = WordCloudFa(persian_normalize=True, no_reshape=True, width=1600, height=1200, colormap='spring', background_color='#141414')\n",
    "wc = wordcloud.generate_from_frequencies(my_sent_counter)\n",
    "image = wc.to_image()\n",
    "image.show()\n",
    "image.save('mysent_wordcloud_no_stopwords_spring_1402.png')"
   ]
  },
  {
   "cell_type": "code",
   "execution_count": 296,
   "metadata": {},
   "outputs": [
    {
     "data": {
      "text/plain": [
       "['از',\n",
       " 'به',\n",
       " 'با',\n",
       " 'و',\n",
       " 'در',\n",
       " 'را',\n",
       " 'برای',\n",
       " 'تا',\n",
       " 'که',\n",
       " 'است',\n",
       " 'هم',\n",
       " 'یا',\n",
       " 'یک',\n",
       " 'اما',\n",
       " 'باید',\n",
       " 'من',\n",
       " 'شما',\n",
       " 'آن',\n",
       " 'این',\n",
       " 'آنها',\n",
       " 'خود',\n",
       " 'هر',\n",
       " 'همه',\n",
       " 'هیچ',\n",
       " 'چندین',\n",
       " 'چند',\n",
       " 'چه',\n",
       " 'بعضی',\n",
       " 'بعضی\\u200cها',\n",
       " 'بیشتر',\n",
       " 'بیش',\n",
       " 'کمتر',\n",
       " 'کم',\n",
       " 'زیاد',\n",
       " 'زیادی',\n",
       " 'دیگر',\n",
       " 'همچنین',\n",
       " 'همچون',\n",
       " 'بلکه',\n",
       " 'مثل',\n",
       " 'نیز',\n",
       " 'ولی',\n",
       " 'بعد',\n",
       " 'قبل',\n",
       " 'بیرون',\n",
       " 'جلوی',\n",
       " 'پشت',\n",
       " 'روی',\n",
       " 'زیر',\n",
       " 'بالا',\n",
       " 'داخل',\n",
       " 'سمت',\n",
       " 'نزدیک',\n",
       " 'دور',\n",
       " 'بر',\n",
       " 'بی',\n",
       " 'ای',\n",
       " 'تو',\n",
       " 'اینکه',\n",
       " 'برای',\n",
       " 'باشد',\n",
       " 'شود',\n",
       " 'شده',\n",
       " 'خواهد',\n",
       " 'می',\n",
       " 'می\\u200cشود',\n",
       " 'می\\u200cکند',\n",
       " 'می\\u200cشوند',\n",
       " 'ما',\n",
       " 'شما',\n",
       " 'او',\n",
       " 'آنها',\n",
       " 'خود',\n",
       " 'همه',\n",
       " 'همین',\n",
       " 'همچنین',\n",
       " 'یکی',\n",
       " 'هیچ',\n",
       " 'چه',\n",
       " 'چیزی',\n",
       " 'کسی',\n",
       " 'کس',\n",
       " 'هیچ',\n",
       " 'کدام',\n",
       " 'کدامیک',\n",
       " 'این',\n",
       " 'آن',\n",
       " 'تمام',\n",
       " 'بعضی',\n",
       " 'کل',\n",
       " 'چند',\n",
       " 'بعضی\\u200cها',\n",
       " 'دیگری',\n",
       " 'خیلی',\n",
       " 'زیاد',\n",
       " 'کمتر',\n",
       " 'بیشتر',\n",
       " 'بهتر',\n",
       " 'بدتر',\n",
       " 'همیشه',\n",
       " 'اکنون',\n",
       " 'گاهی',\n",
       " 'گاه',\n",
       " 'معمولا',\n",
       " 'مثلا',\n",
       " 'تازه',\n",
       " 'ناگهان',\n",
       " 'شاید',\n",
       " 'چرا',\n",
       " 'چطور',\n",
       " 'کی',\n",
       " 'آیا',\n",
       " 'بله',\n",
       " 'خیر',\n",
       " 'هرگز',\n",
       " 'البته',\n",
       " 'بله',\n",
       " 'خیر',\n",
       " 'رو',\n",
       " 'نه',\n",
       " 'دیگه',\n",
       " 'بود',\n",
       " 'اون',\n",
       " 'اگر',\n",
       " 'یه',\n",
       " 'الان',\n",
       " 'کنم',\n",
       " 'نیست',\n",
       " 'خب',\n",
       " 'میشه',\n",
       " 'باشه',\n",
       " 'چی',\n",
       " 'دارم',\n",
       " 'دو',\n",
       " 'ها',\n",
       " 'داره',\n",
       " 'کردم',\n",
       " 'هست',\n",
       " 'شد',\n",
       " 'اینا',\n",
       " 'میکنم',\n",
       " 'کنیم',\n",
       " 'پس',\n",
       " 'های',\n",
       " 'اگه',\n",
       " 'کن',\n",
       " 'یعنی',\n",
       " 'چون',\n",
       " 'طرف',\n",
       " 'اول',\n",
       " 'حالا',\n",
       " 'است.',\n",
       " 'خودم',\n",
       " 'فقط',\n",
       " 'بار',\n",
       " 'آقای',\n",
       " 'همون',\n",
       " 'پیش',\n",
       " 'کرد',\n",
       " 'گفتم',\n",
       " 'کرده',\n",
       " 'داشته',\n",
       " 'کلا',\n",
       " 'the',\n",
       " 'بهش',\n",
       " 'کردن',\n",
       " 'بشه',\n",
       " 'کنه',\n",
       " 'آقا',\n",
       " 'بودم',\n",
       " 'داری',\n",
       " 'درست',\n",
       " 'حال',\n",
       " '✅',\n",
       " 'سه',\n",
       " 'بگم',\n",
       " 'توی',\n",
       " 'ندارم',\n",
       " 'اینه',\n",
       " 'حتی',\n",
       " 'to',\n",
       " 'وقتی',\n",
       " 'ام',\n",
       " 'گفت',\n",
       " 'چیز',\n",
       " 'کنی',\n",
       " 'کنید',\n",
       " 'قدر',\n",
       " 'هنوز',\n",
       " 'and',\n",
       " 'بگو',\n",
       " 'بیا',\n",
       " 'نداره',\n",
       " 'بده',\n",
       " 'نمیشه',\n",
       " 'شدم',\n",
       " 'آره',\n",
       " '😂😂😂',\n",
       " 'بوده',\n",
       " 'کاری',\n",
       " 'خوبی',\n",
       " 'خودت',\n",
       " 'of',\n",
       " 'داشتم',\n",
       " 'ببین',\n",
       " 'میکنه',\n",
       " 'راجع',\n",
       " 'بقیه',\n",
       " 'جای',\n",
       " 'خودش',\n",
       " 'داریم',\n",
       " 'جا',\n",
       " 'خوبه',\n",
       " 'کجا',\n",
       " 'نبود',\n",
       " 'بریم',\n",
       " 'میگم',\n",
       " 'بودن',\n",
       " 'انجام',\n",
       " 'بدم',\n",
       " 'بدون',\n",
       " 'ممکنه',\n",
       " 'میکردم',\n",
       " 'آخر',\n",
       " 'a',\n",
       " 'دیدم',\n",
       " 'مگه',\n",
       " 'کردی',\n",
       " 'خوبی؟',\n",
       " 'برو',\n",
       " 'دوباره',\n",
       " 'بهت',\n",
       " 'هستم',\n",
       " 'یاد',\n",
       " 'چیه',\n",
       " 'نمیدونم',\n",
       " 'ممنون',\n",
       " 'ادامه',\n",
       " 'دارن',\n",
       " 'برم',\n",
       " '؟',\n",
       " 'میگی',\n",
       " 'بین',\n",
       " 'تر',\n",
       " 'احتمالا',\n",
       " 'تموم',\n",
       " 'منم',\n",
       " 'اینجا',\n",
       " 'میخوام',\n",
       " 'جایی',\n",
       " 'بود.',\n",
       " 'هستند',\n",
       " 'میگه',\n",
       " 'والا',\n",
       " 'میاد',\n",
       " 'کند',\n",
       " 'دنبال',\n",
       " 'تهش',\n",
       " 'اینو',\n",
       " 'باشم',\n",
       " 'یکم',\n",
       " 'رفتم',\n",
       " 'گفته',\n",
       " 'عه',\n",
       " 'in',\n",
       " 'بعدش',\n",
       " 'شدن',\n",
       " 'جوری',\n",
       " 'داشت',\n",
       " '...',\n",
       " 'نیستم',\n",
       " 'بدی',\n",
       " 'بعدی',\n",
       " 'میکنی',\n",
       " 'پی',\n",
       " 'رفته',\n",
       " 'میخوای',\n",
       " 'میخواستم',\n",
       " 'روزی',\n",
       " 'واسه',\n",
       " 'نباید',\n",
       " 'قطعا',\n",
       " 'عوض',\n",
       " 'نسبت',\n",
       " 'جدی',\n",
       " 'میشم',\n",
       " 'باهاش',\n",
       " 'داد',\n",
       " 'ببینم',\n",
       " 'باعث',\n",
       " 'انگار',\n",
       " 'اینها',\n",
       " 'قضیه',\n",
       " 'آری',\n",
       " 'آهان',\n",
       " 'اش',\n",
       " 'چیه؟',\n",
       " 'اینجوری',\n",
       " 'میدم',\n",
       " 'اوه',\n",
       " 'کردند',\n",
       " 'میخواد',\n",
       " 'زده',\n",
       " 'کنم.',\n",
       " 'چهار',\n",
       " 'دارید',\n",
       " 'بابت']"
      ]
     },
     "execution_count": 296,
     "metadata": {},
     "output_type": "execute_result"
    }
   ],
   "source": [
    "persian_stop_words"
   ]
  }
 ],
 "metadata": {
  "kernelspec": {
   "display_name": "env",
   "language": "python",
   "name": "python3"
  },
  "language_info": {
   "codemirror_mode": {
    "name": "ipython",
    "version": 3
   },
   "file_extension": ".py",
   "mimetype": "text/x-python",
   "name": "python",
   "nbconvert_exporter": "python",
   "pygments_lexer": "ipython3",
   "version": "3.8.10"
  },
  "orig_nbformat": 4
 },
 "nbformat": 4,
 "nbformat_minor": 2
}
