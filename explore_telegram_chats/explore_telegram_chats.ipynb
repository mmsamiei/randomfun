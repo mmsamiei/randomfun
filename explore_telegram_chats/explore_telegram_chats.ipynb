{
 "cells": [
  {
   "cell_type": "code",
   "execution_count": 66,
   "metadata": {},
   "outputs": [],
   "source": [
    "import json\n",
    "from tqdm import tqdm"
   ]
  },
  {
   "cell_type": "code",
   "execution_count": 67,
   "metadata": {},
   "outputs": [],
   "source": [
    "telegram_export_file_path = './result.json'\n",
    "telegram_data = json.load(open(telegram_export_file_path))"
   ]
  },
  {
   "cell_type": "code",
   "execution_count": 68,
   "metadata": {},
   "outputs": [
    {
     "data": {
      "text/plain": [
       "dict_keys(['about', 'chats', 'left_chats'])"
      ]
     },
     "execution_count": 68,
     "metadata": {},
     "output_type": "execute_result"
    }
   ],
   "source": [
    "telegram_data.keys()"
   ]
  },
  {
   "cell_type": "code",
   "execution_count": 69,
   "metadata": {},
   "outputs": [
    {
     "data": {
      "text/plain": [
       "dict_keys(['about', 'list'])"
      ]
     },
     "execution_count": 69,
     "metadata": {},
     "output_type": "execute_result"
    }
   ],
   "source": [
    "telegram_data['chats'].keys()"
   ]
  },
  {
   "cell_type": "code",
   "execution_count": 70,
   "metadata": {},
   "outputs": [],
   "source": [
    "chats_list = telegram_data['chats']['list'] + telegram_data['left_chats']['list']"
   ]
  },
  {
   "cell_type": "code",
   "execution_count": 71,
   "metadata": {},
   "outputs": [
    {
     "data": {
      "text/plain": [
       "519"
      ]
     },
     "execution_count": 71,
     "metadata": {},
     "output_type": "execute_result"
    }
   ],
   "source": [
    "len(chats_list)"
   ]
  },
  {
   "cell_type": "code",
   "execution_count": 72,
   "metadata": {},
   "outputs": [
    {
     "data": {
      "text/plain": [
       "[{'id': 591273,\n",
       "  'type': 'message',\n",
       "  'date': '2023-03-17T14:03:48',\n",
       "  'date_unixtime': '1679049228',\n",
       "  'from': 'Mahdi',\n",
       "  'from_id': 'user679218067',\n",
       "  'text': 'من آن کارهایی که می\\u200cتوانستم و باید را نکردم.',\n",
       "  'text_entities': [{'type': 'plain',\n",
       "    'text': 'من آن کارهایی که می\\u200cتوانستم و باید را نکردم.'}]},\n",
       " {'id': 591274,\n",
       "  'type': 'message',\n",
       "  'date': '2023-03-17T14:03:59',\n",
       "  'date_unixtime': '1679049239',\n",
       "  'from': 'Mahdi',\n",
       "  'from_id': 'user679218067',\n",
       "  'text': 'بازنده یعنی همین',\n",
       "  'text_entities': [{'type': 'plain', 'text': 'بازنده یعنی همین'}]},\n",
       " {'id': 591275,\n",
       "  'type': 'message',\n",
       "  'date': '2023-03-17T14:04:26',\n",
       "  'date_unixtime': '1679049266',\n",
       "  'from': 'M Maosayebi',\n",
       "  'from_id': 'user1200488514',\n",
       "  'text': 'اومممم',\n",
       "  'text_entities': [{'type': 'plain', 'text': 'اومممم'}]},\n",
       " {'id': 591276,\n",
       "  'type': 'message',\n",
       "  'date': '2023-03-17T14:04:31',\n",
       "  'date_unixtime': '1679049271',\n",
       "  'from': 'M Maosayebi',\n",
       "  'from_id': 'user1200488514',\n",
       "  'text': 'بازنده بودن بده عایا؟',\n",
       "  'text_entities': [{'type': 'plain', 'text': 'بازنده بودن بده عایا؟'}]},\n",
       " {'id': 591277,\n",
       "  'type': 'message',\n",
       "  'date': '2023-03-17T14:11:03',\n",
       "  'date_unixtime': '1679049663',\n",
       "  'from': 'Mahdi',\n",
       "  'from_id': 'user679218067',\n",
       "  'text': 'به فعل نرسوندن استعدادها بده',\n",
       "  'text_entities': [{'type': 'plain',\n",
       "    'text': 'به فعل نرسوندن استعدادها بده'}]}]"
      ]
     },
     "execution_count": 72,
     "metadata": {},
     "output_type": "execute_result"
    }
   ],
   "source": [
    "chats_list[0]['messages'][-5:]"
   ]
  },
  {
   "cell_type": "code",
   "execution_count": 73,
   "metadata": {},
   "outputs": [],
   "source": [
    "mmsamiei_user_id = 'user679218067'\n",
    "extracted_messages = []\n",
    "for chat in chats_list:\n",
    "    for message in chat['messages']:\n",
    "        if 'from_id' in message and message['from_id'] == mmsamiei_user_id:\n",
    "            if  type(message['text']) == str:\n",
    "                extracted_messages.append(message['text'])\n",
    "            elif type(message['text']) == list :\n",
    "                for element in message['text']:\n",
    "                    if type(element) == str:\n",
    "                        extracted_messages.append(element)"
   ]
  },
  {
   "cell_type": "code",
   "execution_count": 74,
   "metadata": {},
   "outputs": [
    {
     "data": {
      "text/plain": [
       "199554"
      ]
     },
     "execution_count": 74,
     "metadata": {},
     "output_type": "execute_result"
    }
   ],
   "source": [
    "len(extracted_messages)"
   ]
  },
  {
   "cell_type": "code",
   "execution_count": 75,
   "metadata": {},
   "outputs": [],
   "source": [
    "def clean_persian_text(text):\n",
    "    # Replace آ with ا\n",
    "    text = text.replace(\"آ\", \"ا\")\n",
    "\n",
    "    # Remove punctuation marks\n",
    "    marks = [\"!\", \"?\", \",\", \";\", \".\", \"،\", \"؛\",\"؟\"]\n",
    "    for mark in marks:\n",
    "        text = text.replace(mark, \"\")\n",
    "\n",
    "    return text"
   ]
  },
  {
   "cell_type": "code",
   "execution_count": 76,
   "metadata": {},
   "outputs": [],
   "source": [
    "for i, message in enumerate(extracted_messages):\n",
    "    extracted_messages[i] = clean_persian_text(message)"
   ]
  },
  {
   "cell_type": "code",
   "execution_count": 77,
   "metadata": {},
   "outputs": [
    {
     "data": {
      "text/plain": [
       "['ساعت',\n",
       " 'یک دوست داشتم زیاد بیدار می\\u200cموند به خاطر کارش',\n",
       " 'می\\u200cگفت از روز سوم به بعد توهم میزنی کم کم',\n",
       " 'چیزهایی رو میبینی که بقیه نمیبینند',\n",
       " 'چه قدر شما برای مردم زحمت میکشید',\n",
       " 'چرا مردم ما قدر ناشناسند',\n",
       " 'بله بله مستی اسلامی',\n",
       " 'حالت سرخوشی',\n",
       " 'حالتی که ادم مثلا محبوبش رو میبینه',\n",
       " 'نه دیگه رفتم']"
      ]
     },
     "execution_count": 77,
     "metadata": {},
     "output_type": "execute_result"
    }
   ],
   "source": [
    "extracted_messages[1000:1010]"
   ]
  },
  {
   "cell_type": "code",
   "execution_count": 78,
   "metadata": {},
   "outputs": [
    {
     "name": "stderr",
     "output_type": "stream",
     "text": [
      "100%|██████████| 199554/199554 [00:00<00:00, 354938.23it/s]\n"
     ]
    }
   ],
   "source": [
    "from collections import Counter\n",
    "my_counter = Counter()\n",
    "\n",
    "for line in tqdm(extracted_messages):\n",
    "    words = line.split()\n",
    "    my_counter.update(words)\n"
   ]
  },
  {
   "cell_type": "code",
   "execution_count": 79,
   "metadata": {},
   "outputs": [
    {
     "data": {
      "text/plain": [
       "[('رو', 30609),\n",
       " ('و', 29602),\n",
       " ('به', 28549),\n",
       " ('این', 28006),\n",
       " ('که', 26478),\n",
       " ('من', 21707),\n",
       " ('از', 21362),\n",
       " ('هم', 19813),\n",
       " ('در', 14885),\n",
       " ('با', 12794),\n",
       " ('تو', 10836),\n",
       " ('یک', 10797),\n",
       " ('ما', 8935),\n",
       " ('چه', 7631),\n",
       " ('برای', 7589),\n",
       " ('اون', 7505),\n",
       " ('تا', 7361),\n",
       " ('شما', 7164),\n",
       " ('دیگه', 6999),\n",
       " ('نه', 6775),\n",
       " ('ی', 6754),\n",
       " (':)', 6046),\n",
       " ('یا', 6046),\n",
       " ('ولی', 5930),\n",
       " ('بعد', 5899),\n",
       " ('باید', 5824),\n",
       " ('بود', 5669),\n",
       " ('میشه', 5220),\n",
       " ('چی', 5002),\n",
       " ('هر', 4885),\n",
       " ('ها', 4764),\n",
       " ('سلام', 4692),\n",
       " ('خب', 4688),\n",
       " ('الان', 4493),\n",
       " ('کنم', 4338),\n",
       " ('است', 4288),\n",
       " ('نیست', 4273),\n",
       " ('داره', 4123),\n",
       " ('یعنی', 3993),\n",
       " ('اگر', 3985),\n",
       " ('in', 3943),\n",
       " ('های', 3933),\n",
       " ('کار', 3886),\n",
       " ('را', 3882),\n",
       " ('اقای', 3868),\n",
       " ('فکر', 3745),\n",
       " ('ای', 3740),\n",
       " ('خیلی', 3588),\n",
       " ('اینا', 3557),\n",
       " ('باشه', 3499)]"
      ]
     },
     "execution_count": 79,
     "metadata": {},
     "output_type": "execute_result"
    }
   ],
   "source": [
    "my_counter.most_common(50)"
   ]
  },
  {
   "attachments": {},
   "cell_type": "markdown",
   "metadata": {},
   "source": [
    "# wordcloud with stopwords alltime"
   ]
  },
  {
   "cell_type": "code",
   "execution_count": 80,
   "metadata": {},
   "outputs": [
    {
     "name": "stderr",
     "output_type": "stream",
     "text": [
      "Error: no \"view\" mailcap rules found for type \"image/png\"\n"
     ]
    }
   ],
   "source": [
    "# Create wordCloud while considering stop words\n",
    "\n",
    "from wordcloud_fa import WordCloudFa\n",
    "wordcloud = WordCloudFa(persian_normalize=True, no_reshape=True, width=1600, height=1200, max_words=1000, stopwords=set([]))\n",
    "wc = wordcloud.generate_from_frequencies(my_counter)\n",
    "image = wc.to_image()\n",
    "image.show()\n",
    "image.save('wordcloud_with_stopwords_alltime.png')"
   ]
  },
  {
   "attachments": {},
   "cell_type": "markdown",
   "metadata": {},
   "source": [
    "# wordcloud without stopwords alltime"
   ]
  },
  {
   "cell_type": "code",
   "execution_count": 81,
   "metadata": {},
   "outputs": [
    {
     "name": "stderr",
     "output_type": "stream",
     "text": [
      "Start : This command cannot be run due to the error: The system cannot find the file specified.\n",
      "At line:1 char:1\n",
      "+ Start \"/tmp/tmp2j5bf_2_.PNG\"\n",
      "+ ~~~~~~~~~~~~~~~~~~~~~~~~~~~~\n",
      "    + CategoryInfo          : InvalidOperation: (:) [Start-Process], InvalidOperationException\n",
      "    + FullyQualifiedErrorId : InvalidOperationException,Microsoft.PowerShell.Commands.StartProcessCommand\n",
      " \n"
     ]
    }
   ],
   "source": [
    "#lets extract stop words\n",
    "\n",
    "tokens = list(set(token for string in extracted_messages for token in string.split()))\n",
    "tokens_document_freqs = {token:0 for token in tokens}\n",
    "for line in extracted_messages:\n",
    "    for token in set(line.split()):\n",
    "        tokens_document_freqs[token] += (1/len(extracted_messages))\n",
    "\n",
    "stop_words = []\n",
    "for token in tokens_document_freqs:\n",
    "    if tokens_document_freqs[token] > 0.01:\n",
    "        stop_words.append(token)\n",
    "#stop_words"
   ]
  },
  {
   "cell_type": "code",
   "execution_count": 82,
   "metadata": {},
   "outputs": [],
   "source": [
    "are_stopwords =  ['in','was','while','را','you','اش','to','of','and',\\\n",
    "                  'نمی','میدم','کنید','بر','کنه','داریم','ان','بی','died','the','while','in','۶۰۵','سال']\n",
    "stop_words.extend(are_stopwords)\n",
    "are_not_stopwords = ['حبیبی','سلام','دکتر','اقای','کار','بابا','وقت']\n",
    "for word in are_not_stopwords:\n",
    "    stop_words.remove(word)"
   ]
  },
  {
   "cell_type": "code",
   "execution_count": 83,
   "metadata": {},
   "outputs": [
    {
     "name": "stderr",
     "output_type": "stream",
     "text": [
      "Error: no \"view\" mailcap rules found for type \"image/png\"\n"
     ]
    }
   ],
   "source": [
    "# Create wordCloud while considering stop words\n",
    "\n",
    "from wordcloud_fa import WordCloudFa\n",
    "wordcloud = WordCloudFa(persian_normalize=True, no_reshape=True, width=1600, height=1200, max_words=1000, stopwords=set(stop_words))\n",
    "wc = wordcloud.generate_from_frequencies(my_counter)\n",
    "image = wc.to_image()\n",
    "image.show()\n",
    "image.save('wordcloud_no_stopwords_alltime.png')"
   ]
  },
  {
   "attachments": {},
   "cell_type": "markdown",
   "metadata": {},
   "source": [
    "# wordcloud in last year"
   ]
  },
  {
   "cell_type": "code",
   "execution_count": 84,
   "metadata": {},
   "outputs": [],
   "source": [
    "from datetime import datetime\n",
    "\n",
    "mmsamiei_user_id = 'user679218067'\n",
    "extracted_messages = []\n",
    "for chat in chats_list:\n",
    "    for message in chat['messages']:\n",
    "        date_obj = datetime.fromisoformat(message['date'])\n",
    "        year = date_obj.year\n",
    "        month = date_obj.month\n",
    "        in_1401 = (year == 2022 and month > 2 or year == 2023 and month < 4)\n",
    "        if 'from_id' in message and message['from_id'] == mmsamiei_user_id and in_1401:\n",
    "            if  type(message['text']) == str:\n",
    "                extracted_messages.append(message['text'])\n",
    "            elif type(message['text']) == list :\n",
    "                for element in message['text']:\n",
    "                    if type(element) == str:\n",
    "                        extracted_messages.append(element)"
   ]
  },
  {
   "cell_type": "code",
   "execution_count": 85,
   "metadata": {},
   "outputs": [
    {
     "data": {
      "text/plain": [
       "66586"
      ]
     },
     "execution_count": 85,
     "metadata": {},
     "output_type": "execute_result"
    }
   ],
   "source": [
    "len(extracted_messages)"
   ]
  },
  {
   "cell_type": "code",
   "execution_count": 86,
   "metadata": {},
   "outputs": [],
   "source": [
    "for i, message in enumerate(extracted_messages):\n",
    "    extracted_messages[i] = clean_persian_text(message)"
   ]
  },
  {
   "cell_type": "code",
   "execution_count": 87,
   "metadata": {},
   "outputs": [
    {
     "name": "stderr",
     "output_type": "stream",
     "text": [
      " 44%|████▎     | 29018/66586 [00:00<00:00, 290151.22it/s]Start : This command cannot be run due to the error: The system cannot find the file specified.\n",
      "At line:1 char:1\n",
      "+ Start \"/tmp/tmp2tba7rlu.PNG\"\n",
      "+ ~~~~~~~~~~~~~~~~~~~~~~~~~~~~\n",
      "    + CategoryInfo          : InvalidOperation: (:) [Start-Process], InvalidOperationException\n",
      "    + FullyQualifiedErrorId : InvalidOperationException,Microsoft.PowerShell.Commands.StartProcessCommand\n",
      " \n",
      "100%|██████████| 66586/66586 [00:00<00:00, 314218.64it/s]\n"
     ]
    }
   ],
   "source": [
    "from collections import Counter\n",
    "my_counter = Counter()\n",
    "\n",
    "for line in tqdm(extracted_messages):\n",
    "    words = line.split()\n",
    "    my_counter.update(words)"
   ]
  },
  {
   "cell_type": "code",
   "execution_count": 88,
   "metadata": {},
   "outputs": [
    {
     "data": {
      "text/plain": [
       "[('و', 12226),\n",
       " ('به', 10804),\n",
       " ('رو', 10518),\n",
       " ('که', 10120),\n",
       " ('این', 9548),\n",
       " ('از', 8289),\n",
       " ('من', 7669),\n",
       " ('هم', 7357),\n",
       " ('در', 6083),\n",
       " ('یک', 5418),\n",
       " ('با', 4774),\n",
       " ('تو', 3630),\n",
       " ('ما', 3457),\n",
       " ('in', 3381),\n",
       " ('چه', 3360),\n",
       " ('was', 3071),\n",
       " ('while', 3010),\n",
       " ('died', 3006),\n",
       " ('برای', 2951),\n",
       " ('تا', 2700),\n",
       " ('دیگه', 2663),\n",
       " ('نه', 2613),\n",
       " ('اون', 2240),\n",
       " ('باید', 2164),\n",
       " ('شما', 2162),\n",
       " ('ولی', 2131),\n",
       " ('بعد', 2090),\n",
       " ('یا', 2025),\n",
       " ('بود', 2020),\n",
       " ('میشه', 1858),\n",
       " ('هر', 1852),\n",
       " ('را', 1845),\n",
       " ('است', 1776),\n",
       " ('نیست', 1724),\n",
       " ('سلام', 1673),\n",
       " ('اگر', 1623),\n",
       " ('ها', 1616),\n",
       " ('چی', 1599),\n",
       " ('الان', 1554),\n",
       " (':)', 1465),\n",
       " ('کنم', 1454),\n",
       " ('ای', 1419),\n",
       " ('داره', 1404),\n",
       " ('خب', 1376),\n",
       " ('های', 1376),\n",
       " ('کنیم', 1340),\n",
       " ('فکر', 1315),\n",
       " ('کار', 1293),\n",
       " ('همین', 1292),\n",
       " ('دکتر', 1277)]"
      ]
     },
     "execution_count": 88,
     "metadata": {},
     "output_type": "execute_result"
    }
   ],
   "source": [
    "my_counter.most_common(50)"
   ]
  },
  {
   "cell_type": "code",
   "execution_count": 89,
   "metadata": {},
   "outputs": [
    {
     "name": "stderr",
     "output_type": "stream",
     "text": [
      "Error: no \"view\" mailcap rules found for type \"image/png\"\n"
     ]
    }
   ],
   "source": [
    "from wordcloud_fa import WordCloudFa\n",
    "wordcloud = WordCloudFa(persian_normalize=True, no_reshape=True, width=1600, height=1200, max_words=1000, stopwords=set(stop_words))\n",
    "wc = wordcloud.generate_from_frequencies(my_counter)\n",
    "image = wc.to_image()\n",
    "image.show()\n",
    "image.save('wordcloud_no_stopwords_1401.png')"
   ]
  },
  {
   "cell_type": "code",
   "execution_count": 90,
   "metadata": {},
   "outputs": [
    {
     "name": "stdout",
     "output_type": "stream",
     "text": [
      "19\n",
      "34\n",
      "15\n",
      "27\n",
      "12\n",
      "19\n",
      "23\n",
      "31\n",
      "73\n",
      "68\n",
      "40\n",
      "42\n"
     ]
    }
   ],
   "source": [
    "for a in '''\n",
    "فروردین\n",
    "اردیبهشت\n",
    "خرداد\n",
    "تیر\n",
    "مرداد\n",
    "شهریور\n",
    "مهر\n",
    "ابان\n",
    "اذر\n",
    "دی\n",
    "بهمن\n",
    "اسفند\n",
    "'''.split():\n",
    "    print(my_counter[a])"
   ]
  },
  {
   "attachments": {},
   "cell_type": "markdown",
   "metadata": {},
   "source": [
    "# Frequent Bigrams?"
   ]
  },
  {
   "cell_type": "code",
   "execution_count": 91,
   "metadata": {},
   "outputs": [
    {
     "name": "stderr",
     "output_type": "stream",
     "text": [
      " 66%|██████▋   | 44119/66586 [00:00<00:00, 77761.31it/s]Start : This command cannot be run due to the error: The system cannot find the file specified.\n",
      "At line:1 char:1\n",
      "+ Start \"/tmp/tmp0uptoa4x.PNG\"\n",
      "+ ~~~~~~~~~~~~~~~~~~~~~~~~~~~~\n",
      "    + CategoryInfo          : InvalidOperation: (:) [Start-Process], InvalidOperationException\n",
      "    + FullyQualifiedErrorId : InvalidOperationException,Microsoft.PowerShell.Commands.StartProcessCommand\n",
      " \n",
      "100%|██████████| 66586/66586 [00:00<00:00, 77448.31it/s]\n"
     ]
    }
   ],
   "source": [
    "from collections import Counter\n",
    "my_counter = Counter()\n",
    "\n",
    "for line in tqdm(extracted_messages):\n",
    "    words = line.split()\n",
    "    for i in range(len(words)-1):   \n",
    "        my_counter.update([words[i] + ' ' + words[i+1]])"
   ]
  },
  {
   "cell_type": "code",
   "execution_count": 92,
   "metadata": {},
   "outputs": [
    {
     "data": {
      "text/plain": [
       "[('died in', 3006),\n",
       " ('while was', 3006),\n",
       " ('این که', 741),\n",
       " ('رو هم', 681),\n",
       " ('in 605', 628),\n",
       " ('605 while', 628),\n",
       " ('از این', 586),\n",
       " ('in 295', 572),\n",
       " ('295 while', 572),\n",
       " ('این رو', 471),\n",
       " ('به این', 442),\n",
       " ('اقای حبیبی', 438),\n",
       " ('چه قدر', 424),\n",
       " ('رو به', 419),\n",
       " ('فکر کنم', 394),\n",
       " ('من هم', 392),\n",
       " ('در این', 374),\n",
       " ('اینه که', 369),\n",
       " ('1 1', 368),\n",
       " ('با این', 366),\n",
       " ('بعد از', 324),\n",
       " ('هم که', 312),\n",
       " ('که به', 311),\n",
       " ('یا نه', 308),\n",
       " ('که در', 307),\n",
       " ('به من', 291),\n",
       " ('ها رو', 287),\n",
       " ('من رو', 286),\n",
       " ('به نظر', 261),\n",
       " ('و در', 261),\n",
       " ('راجع به', 259),\n",
       " ('با هم', 258),\n",
       " ('این قدر', 254),\n",
       " ('است که', 252),\n",
       " ('به نظرم', 252),\n",
       " ('و به', 247),\n",
       " ('یکی از', 239),\n",
       " ('ما رو', 238),\n",
       " ('یک چیزی', 237),\n",
       " ('یعنی چی', 235),\n",
       " ('به خیر', 234),\n",
       " ('که از', 232),\n",
       " ('هم به', 229),\n",
       " ('به عنوان', 228),\n",
       " ('بود که', 228),\n",
       " ('را به', 222),\n",
       " ('که این', 221),\n",
       " ('دو تا', 221),\n",
       " ('رو از', 220),\n",
       " ('اینا رو', 220)]"
      ]
     },
     "execution_count": 92,
     "metadata": {},
     "output_type": "execute_result"
    }
   ],
   "source": [
    "my_counter.most_common(50)"
   ]
  },
  {
   "cell_type": "code",
   "execution_count": 93,
   "metadata": {},
   "outputs": [
    {
     "data": {
      "text/plain": [
       "3006"
      ]
     },
     "execution_count": 93,
     "metadata": {},
     "output_type": "execute_result"
    }
   ],
   "source": [
    "my_counter.pop('died in')"
   ]
  },
  {
   "cell_type": "code",
   "execution_count": 94,
   "metadata": {},
   "outputs": [
    {
     "name": "stderr",
     "output_type": "stream",
     "text": [
      "Error: no \"view\" mailcap rules found for type \"image/png\"\n"
     ]
    }
   ],
   "source": [
    "from wordcloud_fa import WordCloudFa\n",
    "wordcloud = WordCloudFa(persian_normalize=True, no_reshape=True, width=1600, height=1200, max_words=500, stopwords=set(stop_words))\n",
    "wc = wordcloud.generate_from_frequencies(my_counter)\n",
    "image = wc.to_image()\n",
    "image.show()\n",
    "image.save('bigramcloud_no_stopwords_1401.png')"
   ]
  },
  {
   "attachments": {},
   "cell_type": "markdown",
   "metadata": {},
   "source": [
    "# Create mmsamiei corpus"
   ]
  },
  {
   "cell_type": "code",
   "execution_count": 95,
   "metadata": {},
   "outputs": [],
   "source": [
    "mmsamiei_user_id = 'user679218067'\n",
    "extracted_messages = []\n",
    "for chat in chats_list:\n",
    "    for message in chat['messages']:\n",
    "        if 'from_id' in message and message['from_id'] == mmsamiei_user_id:\n",
    "            if  type(message['text']) == str:\n",
    "                extracted_messages.append(message['text'])\n",
    "            elif type(message['text']) == list :\n",
    "                for element in message['text']:\n",
    "                    if type(element) == str:\n",
    "                        extracted_messages.append(element)"
   ]
  },
  {
   "cell_type": "code",
   "execution_count": 96,
   "metadata": {},
   "outputs": [
    {
     "name": "stderr",
     "output_type": "stream",
     "text": [
      "Start : This command cannot be run due to the error: The system cannot find the file specified.\n",
      "At line:1 char:1\n",
      "+ Start \"/tmp/tmpdtsglvfe.PNG\"\n",
      "+ ~~~~~~~~~~~~~~~~~~~~~~~~~~~~\n",
      "    + CategoryInfo          : InvalidOperation: (:) [Start-Process], InvalidOperationException\n",
      "    + FullyQualifiedErrorId : InvalidOperationException,Microsoft.PowerShell.Commands.StartProcessCommand\n",
      " \n"
     ]
    }
   ],
   "source": [
    "f = open('./mmsamiei_corpus.txt','w')\n",
    "for line in extracted_messages:\n",
    "    f.writelines([line,'\\n'])"
   ]
  }
 ],
 "metadata": {
  "kernelspec": {
   "display_name": "venv",
   "language": "python",
   "name": "python3"
  },
  "language_info": {
   "codemirror_mode": {
    "name": "ipython",
    "version": 3
   },
   "file_extension": ".py",
   "mimetype": "text/x-python",
   "name": "python",
   "nbconvert_exporter": "python",
   "pygments_lexer": "ipython3",
   "version": "3.8.10"
  },
  "orig_nbformat": 4
 },
 "nbformat": 4,
 "nbformat_minor": 2
}
