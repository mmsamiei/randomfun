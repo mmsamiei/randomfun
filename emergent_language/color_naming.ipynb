{
 "cells": [
  {
   "cell_type": "code",
   "execution_count": 1,
   "metadata": {},
   "outputs": [],
   "source": [
    "import os\n",
    "import pandas as pd\n",
    "from torchvision.io import read_image\n",
    "import numpy as np\n",
    "import matplotlib.pyplot as plt\n",
    "from torch.utils.data import Dataset\n",
    "from itertools import cycle\n",
    "import einops\n",
    "from tqdm.notebook import tqdm\n",
    "import random\n",
    "from torch.distributions import Categorical\n"
   ]
  },
  {
   "cell_type": "code",
   "execution_count": 2,
   "metadata": {},
   "outputs": [
    {
     "data": {
      "image/png": "[encoded data removed]",
      "text/plain": [
       "<Figure size 640x480 with 1 Axes>"
      ]
     },
     "metadata": {},
     "output_type": "display_data"
    }
   ],
   "source": [
    "import matplotlib.pyplot as plt\n",
    "import numpy as np\n",
    "\n",
    "# Generate random pixel values for the image\n",
    "image_data = np.random.rand(1, 1, 3)  # 100x100 image with 3 color channels (RGB)\n",
    "image_data[0,0,:] = 0.3\n",
    "image_data[0,0,0] = 0\n",
    "# Display the image\n",
    "plt.imshow(image_data)\n",
    "plt.show()"
   ]
  },
  {
   "cell_type": "code",
   "execution_count": 3,
   "metadata": {},
   "outputs": [],
   "source": [
    "import os\n",
    "import pandas as pd\n",
    "from torchvision.io import read_image\n",
    "import numpy as np\n",
    "\n",
    "class CustomImageDataset(Dataset):\n",
    "    def __init__(self):\n",
    "      self.num_images = 3000\n",
    "      self.images = np.random.rand(self.num_images,1,1,3)\n",
    "\n",
    "    def __len__(self):\n",
    "      return len(self.images)\n",
    "\n",
    "    def __getitem__(self, idx):\n",
    "      return self.images[idx]\n"
   ]
  },
  {
   "cell_type": "code",
   "execution_count": 4,
   "metadata": {},
   "outputs": [],
   "source": [
    "training_dataset = CustomImageDataset()"
   ]
  },
  {
   "cell_type": "code",
   "execution_count": 5,
   "metadata": {},
   "outputs": [
    {
     "data": {
      "image/png": "[encoded data removed]",
      "text/plain": [
       "<Figure size 100x100 with 1 Axes>"
      ]
     },
     "metadata": {},
     "output_type": "display_data"
    }
   ],
   "source": [
    "import matplotlib.pyplot as plt\n",
    "import numpy as np\n",
    "fig = plt.figure(figsize=(1, 1))\n",
    "plt.imshow(training_dataset[83])\n",
    "plt.show()"
   ]
  },
  {
   "cell_type": "code",
   "execution_count": 6,
   "metadata": {},
   "outputs": [],
   "source": [
    "from torch.utils.data import DataLoader\n",
    "\n",
    "train_dataloader = DataLoader(training_dataset, batch_size=128, shuffle=True, drop_last=True)"
   ]
  },
  {
   "cell_type": "code",
   "execution_count": 38,
   "metadata": {},
   "outputs": [],
   "source": [
    "import torch\n",
    "import torch.nn as nn\n",
    "import torch.nn.functional as F\n",
    "\n",
    "class CustomSender(nn.Module):\n",
    "    def __init__(self):\n",
    "        super(CustomSender, self).__init__()\n",
    "        self.num_words = 10\n",
    "        # Define your layers or modules here\n",
    "        self.fc1 = nn.Linear(in_features=3, out_features=32)\n",
    "        self.fc2 = nn.Linear(in_features=32, out_features=64)\n",
    "        self.fc3 = nn.Linear(in_features=64, out_features=self.num_words)\n",
    "\n",
    "\n",
    "    def forward(self, x):\n",
    "        x = F.leaky_relu(self.fc1(x.flatten(start_dim=1)))\n",
    "        x = F.leaky_relu(self.fc2(x))\n",
    "        x = self.fc3(x)\n",
    "        return x\n",
    "\n",
    "\n",
    "class CustomReceiver(nn.Module):\n",
    "    def __init__(self):\n",
    "        super(CustomReceiver, self).__init__()\n",
    "        self.num_words = 10\n",
    "        self.fc1 = nn.Linear(in_features=3, out_features=16)\n",
    "        self.fc2 = nn.Linear(in_features=16, out_features=16)\n",
    "        #\n",
    "        self.emb = nn.Embedding(self.num_words, 16)\n",
    "        self.fc3 = nn.Linear(in_features=16, out_features=16)\n",
    "\n",
    "    def forward_image(self, x):\n",
    "        x = F.leaky_relu(self.fc1(x.flatten(start_dim=1)))\n",
    "        x = self.fc2(x)\n",
    "        return x\n",
    "\n",
    "    def forward_text(self, x):\n",
    "        x = F.leaky_relu(self.emb(x))\n",
    "        x = self.fc3(x)\n",
    "        return x"
   ]
  },
  {
   "cell_type": "code",
   "execution_count": 45,
   "metadata": {},
   "outputs": [
    {
     "data": {
      "text/plain": [
       "tensor([6, 6, 6, 8, 6, 6, 6, 6, 1, 6, 6, 1, 6, 6, 6, 8, 6, 6, 6, 6, 8, 6, 6, 6,\n",
       "        6, 9, 1, 6, 6, 6, 6, 9])"
      ]
     },
     "execution_count": 45,
     "metadata": {},
     "output_type": "execute_result"
    }
   ],
   "source": [
    "m1 = CustomSender()\n",
    "x = torch.randn(32,1,1,3)\n",
    "alphs = m1(x).argmax(1)\n",
    "m2 = CustomReceiver()\n",
    "m2_img_rprs = m2.forward_image(x)\n",
    "m2_text_rprs = m2.forward_text(alphs)\n",
    "alphs"
   ]
  },
  {
   "cell_type": "code",
   "execution_count": 46,
   "metadata": {},
   "outputs": [],
   "source": [
    "m1_optimizer = torch.optim.Adam(m1.parameters(), lr=1e-3)\n",
    "m2_optimizer = torch.optim.Adam(m2.parameters(), lr=1e-3)"
   ]
  },
  {
   "cell_type": "code",
   "execution_count": 48,
   "metadata": {},
   "outputs": [
    {
     "data": {
      "application/vnd.jupyter.widget-view+json": {
       "model_id": "b75ddf0efa9349e3b1ec27f694ce45a6",
       "version_major": 2,
       "version_minor": 0
      },
      "text/plain": [
       "  0%|          | 0/10000 [00:00<?, ?it/s]"
      ]
     },
     "metadata": {},
     "output_type": "display_data"
    },
    {
     "name": "stdout",
     "output_type": "stream",
     "text": [
      "tensor(0.4844) 0.6951496005058289\n",
      "tensor(0.4922) 0.6972362995147705\n",
      "tensor(0.5234) 0.6914818286895752\n",
      "tensor(0.5547) 0.6887355446815491\n",
      "tensor(0.5625) 0.6910086870193481\n",
      "tensor(0.6172) 0.6857518553733826\n",
      "tensor(0.6406) 0.6825685501098633\n",
      "tensor(0.6797) 0.6718802452087402\n",
      "tensor(0.6875) 0.6638846397399902\n",
      "tensor(0.7422) 0.6519055962562561\n",
      "tensor(0.7656) 0.6409027576446533\n",
      "tensor(0.7734) 0.6203888058662415\n",
      "tensor(0.7812) 0.6128041744232178\n",
      "tensor(0.7969) 0.5850470066070557\n",
      "tensor(0.8047) 0.5535710453987122\n",
      "tensor(0.8125) 0.5132765769958496\n",
      "tensor(0.8359) 0.4703551232814789\n",
      "tensor(0.8672) 0.418471097946167\n",
      "tensor(0.8750) 0.41468045115470886\n",
      "tensor(0.8906) 0.3963480293750763\n",
      "tensor(0.8984) 0.389359712600708\n",
      "tensor(0.9062) 0.3904215097427368\n",
      "tensor(0.9297) 0.37792307138442993\n",
      "tensor(0.9375) 0.38370752334594727\n",
      "tensor(0.9453) 0.3820687234401703\n",
      "tensor(0.9531) 0.3849695324897766\n",
      "tensor(0.9688) 0.3552105724811554\n",
      "tensor(0.9766) 0.3525925576686859\n"
     ]
    },
    {
     "data": {
      "text/plain": [
       "<All keys matched successfully>"
      ]
     },
     "execution_count": 48,
     "metadata": {},
     "output_type": "execute_result"
    }
   ],
   "source": [
    "from torch.distributions import Categorical\n",
    "import copy\n",
    "\n",
    "data_iterator = iter(train_dataloader)\n",
    "acc_list = []\n",
    "loss_list = []\n",
    "best_acc = 0\n",
    "best_model_state = None, None\n",
    "\n",
    "for iter_num in tqdm(range(10000)):\n",
    "  try:\n",
    "    batch = next(data_iterator)\n",
    "  except StopIteration:\n",
    "    data_iterator = iter(train_dataloader)\n",
    "    batch = next(data_iterator)\n",
    "  m2_optimizer.zero_grad()\n",
    "  m1_optimizer.zero_grad()\n",
    "  #####\n",
    "  message_logits = m1(batch.float())\n",
    "  message = message_logits.argmax(1)\n",
    "  m2_img_rprs = m2.forward_image(batch.float())\n",
    "  m2_mess_rprs = m2.forward_text(message)\n",
    "  distract_m2_img_rprs = torch.roll(m2_img_rprs, shifts=1, dims=0)\n",
    "  pos_similarity = F.cosine_similarity(m2_img_rprs, m2_mess_rprs).unsqueeze(1)\n",
    "  neg_similarity = F.cosine_similarity(distract_m2_img_rprs, m2_mess_rprs).unsqueeze(1)\n",
    "  similarity_scores = torch.cat([pos_similarity, neg_similarity], axis=1)\n",
    "  m2_loss = F.cross_entropy(similarity_scores, torch.LongTensor([0]*similarity_scores.shape[0]))\n",
    "  m2_loss.backward()\n",
    "  m2_optimizer.step()\n",
    "  ########\n",
    "  log_probs = torch.log(torch.gather(F.softmax(message_logits, dim=1), 1, message.unsqueeze(1)))\n",
    "  rewards = -1*F.cross_entropy(similarity_scores, torch.LongTensor([0]*similarity_scores.shape[0]), reduction='none').detach()\n",
    "  returns = (rewards - rewards.mean()) / (rewards.std() + 1e-5)\n",
    "  m1_loss = -torch.mean(returns * log_probs)\n",
    "  entropy_loss = -Categorical(F.softmax(message_logits, dim=1)).entropy().sum()\n",
    "  m1_loss = m1_loss + 0e-3*entropy_loss\n",
    "  #####\n",
    "  m1_loss.backward()\n",
    "  m1_optimizer.step()\n",
    "  acc = (1 - similarity_scores.argmax(1)).float().mean()\n",
    "  acc_list.append(acc)\n",
    "  loss_list.append(m2_loss.item())\n",
    "  if acc > best_acc:\n",
    "    print(acc, F.cross_entropy(similarity_scores, torch.LongTensor([0]*similarity_scores.shape[0]), reduction='mean').item())\n",
    "    best_acc = acc\n",
    "    best_model_state = copy.deepcopy(m1.state_dict()), copy.deepcopy(m2.state_dict())\n",
    "\n",
    "  if acc.item() > 0.99:\n",
    "    print(acc.item())\n",
    "    break\n",
    "\n",
    "m1.load_state_dict(best_model_state[0])\n",
    "m2.load_state_dict(best_model_state[1])\n"
   ]
  },
  {
   "cell_type": "code",
   "execution_count": 49,
   "metadata": {},
   "outputs": [
    {
     "data": {
      "image/png": "[encoded data removed]",
      "text/plain": [
       "<Figure size 640x480 with 1 Axes>"
      ]
     },
     "metadata": {},
     "output_type": "display_data"
    }
   ],
   "source": [
    "import numpy as np\n",
    "import matplotlib.pyplot as plt\n",
    "win_size = 100\n",
    "smoothed_accuracy = np.convolve(acc_list, np.ones(win_size) / win_size, mode='valid')\n",
    "plt.plot(smoothed_accuracy)\n",
    "plt.xlabel('Epochs')\n",
    "plt.ylabel('Acc')\n",
    "plt.title('Acc per Iteration')\n",
    "plt.show()"
   ]
  },
  {
   "cell_type": "code",
   "execution_count": 50,
   "metadata": {},
   "outputs": [],
   "source": [
    "from collections import defaultdict\n",
    "\n",
    "for batch in train_dataloader:\n",
    "  message_logits = m1(batch.float())\n",
    "  message = message_logits.argmax(1)\n",
    "  \n",
    "image_dictionary = defaultdict(list)\n",
    "for i, m in enumerate(message):\n",
    "  image_dictionary[str(m.item())].append(i)\n"
   ]
  },
  {
   "cell_type": "code",
   "execution_count": 51,
   "metadata": {},
   "outputs": [],
   "source": [
    "image_dictionary = dict(sorted(image_dictionary.items(), key=lambda item: item[0]))"
   ]
  },
  {
   "cell_type": "code",
   "execution_count": 52,
   "metadata": {},
   "outputs": [
    {
     "data": {
      "image/png": "[encoded data removed]",
      "text/plain": [
       "<Figure size 1000x100 with 10 Axes>"
      ]
     },
     "metadata": {},
     "output_type": "display_data"
    },
    {
     "data": {
      "image/png": "[encoded data removed]",
      "text/plain": [
       "<Figure size 1000x100 with 10 Axes>"
      ]
     },
     "metadata": {},
     "output_type": "display_data"
    },
    {
     "data": {
      "image/png": "[encoded data removed]",
      "text/plain": [
       "<Figure size 900x100 with 9 Axes>"
      ]
     },
     "metadata": {},
     "output_type": "display_data"
    },
    {
     "data": {
      "image/png": "[encoded data removed]",
      "text/plain": [
       "<Figure size 1000x100 with 10 Axes>"
      ]
     },
     "metadata": {},
     "output_type": "display_data"
    },
    {
     "data": {
      "image/png": "[encoded data removed]",
      "text/plain": [
       "<Figure size 1000x100 with 10 Axes>"
      ]
     },
     "metadata": {},
     "output_type": "display_data"
    },
    {
     "data": {
      "image/png": "[encoded data removed]",
      "text/plain": [
       "<Figure size 600x100 with 6 Axes>"
      ]
     },
     "metadata": {},
     "output_type": "display_data"
    },
    {
     "data": {
      "image/png": "[encoded data removed]",
      "text/plain": [
       "<Figure size 1000x100 with 10 Axes>"
      ]
     },
     "metadata": {},
     "output_type": "display_data"
    },
    {
     "data": {
      "image/png": "[encoded data removed]",
      "text/plain": [
       "<Figure size 1000x100 with 10 Axes>"
      ]
     },
     "metadata": {},
     "output_type": "display_data"
    },
    {
     "data": {
      "image/png": "[encoded data removed]",
      "text/plain": [
       "<Figure size 500x100 with 5 Axes>"
      ]
     },
     "metadata": {},
     "output_type": "display_data"
    },
    {
     "data": {
      "image/png": "[encoded data removed]",
      "text/plain": [
       "<Figure size 1000x100 with 10 Axes>"
      ]
     },
     "metadata": {},
     "output_type": "display_data"
    }
   ],
   "source": [
    "import matplotlib.pyplot as plt\n",
    "\n",
    "max_image_per_token = 10\n",
    "for sentence, image_indices in image_dictionary.items():\n",
    "    image_indices = image_indices[:max_image_per_token]\n",
    "    num_images = len(image_indices)\n",
    "\n",
    "    if num_images == 1:\n",
    "        fig = plt.figure(figsize=(1, 1))\n",
    "        axs = [plt.subplot(1, 1, 1)]\n",
    "    else:\n",
    "        fig, axs = plt.subplots(1, num_images, figsize=(num_images, 1))\n",
    "    \n",
    "    for i, image_idx in enumerate(image_indices):\n",
    "        axs[i].imshow(batch[image_idx])\n",
    "        axs[i].set_title(f\"{sentence}\")\n",
    "        axs[i].axis('off')\n",
    "\n",
    "    plt.show()\n"
   ]
  }
 ],
 "metadata": {
  "kernelspec": {
   "display_name": "env",
   "language": "python",
   "name": "python3"
  },
  "language_info": {
   "codemirror_mode": {
    "name": "ipython",
    "version": 3
   },
   "file_extension": ".py",
   "mimetype": "text/x-python",
   "name": "python",
   "nbconvert_exporter": "python",
   "pygments_lexer": "ipython3",
   "version": "3.11.4"
  },
  "orig_nbformat": 4
 },
 "nbformat": 4,
 "nbformat_minor": 2
}
