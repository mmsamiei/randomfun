{
  "nbformat": 4,
  "nbformat_minor": 0,
  "metadata": {
    "colab": {
      "provenance": [],
      "gpuType": "T4"
    },
    "kernelspec": {
      "name": "python3",
      "display_name": "Python 3"
    },
    "language_info": {
      "name": "python"
    },
    "accelerator": "GPU",
    "widgets": {
      "application/vnd.jupyter.widget-state+json": {
        "0703091e2a1747eb80d0b991c22f5c4b": {
          "model_module": "@jupyter-widgets/controls",
          "model_name": "HBoxModel",
          "model_module_version": "1.5.0",
          "state": {
            "_dom_classes": [],
            "_model_module": "@jupyter-widgets/controls",
            "_model_module_version": "1.5.0",
            "_model_name": "HBoxModel",
            "_view_count": null,
            "_view_module": "@jupyter-widgets/controls",
            "_view_module_version": "1.5.0",
            "_view_name": "HBoxView",
            "box_style": "",
            "children": [
              "IPY_MODEL_d6e59e860dee4a83965b3ed23c53cc1d",
              "IPY_MODEL_5939e160b26c496b9afaaeaf71781206",
              "IPY_MODEL_b29b603ea177432fa78c1badf7e755de"
            ],
            "layout": "IPY_MODEL_b400a3625e8a4522832d20004fa510f4"
          }
        },
        "d6e59e860dee4a83965b3ed23c53cc1d": {
          "model_module": "@jupyter-widgets/controls",
          "model_name": "HTMLModel",
          "model_module_version": "1.5.0",
          "state": {
            "_dom_classes": [],
            "_model_module": "@jupyter-widgets/controls",
            "_model_module_version": "1.5.0",
            "_model_name": "HTMLModel",
            "_view_count": null,
            "_view_module": "@jupyter-widgets/controls",
            "_view_module_version": "1.5.0",
            "_view_name": "HTMLView",
            "description": "",
            "description_tooltip": null,
            "layout": "IPY_MODEL_b2113a4e5b6b4ff79796eda58380c2ec",
            "placeholder": "​",
            "style": "IPY_MODEL_602a99675040433b8e6f6f63f14f5617",
            "value": "  2%"
          }
        },
        "5939e160b26c496b9afaaeaf71781206": {
          "model_module": "@jupyter-widgets/controls",
          "model_name": "FloatProgressModel",
          "model_module_version": "1.5.0",
          "state": {
            "_dom_classes": [],
            "_model_module": "@jupyter-widgets/controls",
            "_model_module_version": "1.5.0",
            "_model_name": "FloatProgressModel",
            "_view_count": null,
            "_view_module": "@jupyter-widgets/controls",
            "_view_module_version": "1.5.0",
            "_view_name": "ProgressView",
            "bar_style": "danger",
            "description": "",
            "description_tooltip": null,
            "layout": "IPY_MODEL_c0205fea968841669a074114ba5a70a0",
            "max": 30000,
            "min": 0,
            "orientation": "horizontal",
            "style": "IPY_MODEL_4841aafd0f1749399f07a66fa13bf0a6",
            "value": 735
          }
        },
        "b29b603ea177432fa78c1badf7e755de": {
          "model_module": "@jupyter-widgets/controls",
          "model_name": "HTMLModel",
          "model_module_version": "1.5.0",
          "state": {
            "_dom_classes": [],
            "_model_module": "@jupyter-widgets/controls",
            "_model_module_version": "1.5.0",
            "_model_name": "HTMLModel",
            "_view_count": null,
            "_view_module": "@jupyter-widgets/controls",
            "_view_module_version": "1.5.0",
            "_view_name": "HTMLView",
            "description": "",
            "description_tooltip": null,
            "layout": "IPY_MODEL_6ab2383cd2d44cd7a88f03f4f640ad9a",
            "placeholder": "​",
            "style": "IPY_MODEL_54a399de77b1402c852c55c399bc0049",
            "value": " 735/30000 [00:03&lt;02:40, 182.49it/s]"
          }
        },
        "b400a3625e8a4522832d20004fa510f4": {
          "model_module": "@jupyter-widgets/base",
          "model_name": "LayoutModel",
          "model_module_version": "1.2.0",
          "state": {
            "_model_module": "@jupyter-widgets/base",
            "_model_module_version": "1.2.0",
            "_model_name": "LayoutModel",
            "_view_count": null,
            "_view_module": "@jupyter-widgets/base",
            "_view_module_version": "1.2.0",
            "_view_name": "LayoutView",
            "align_content": null,
            "align_items": null,
            "align_self": null,
            "border": null,
            "bottom": null,
            "display": null,
            "flex": null,
            "flex_flow": null,
            "grid_area": null,
            "grid_auto_columns": null,
            "grid_auto_flow": null,
            "grid_auto_rows": null,
            "grid_column": null,
            "grid_gap": null,
            "grid_row": null,
            "grid_template_areas": null,
            "grid_template_columns": null,
            "grid_template_rows": null,
            "height": null,
            "justify_content": null,
            "justify_items": null,
            "left": null,
            "margin": null,
            "max_height": null,
            "max_width": null,
            "min_height": null,
            "min_width": null,
            "object_fit": null,
            "object_position": null,
            "order": null,
            "overflow": null,
            "overflow_x": null,
            "overflow_y": null,
            "padding": null,
            "right": null,
            "top": null,
            "visibility": null,
            "width": null
          }
        },
        "b2113a4e5b6b4ff79796eda58380c2ec": {
          "model_module": "@jupyter-widgets/base",
          "model_name": "LayoutModel",
          "model_module_version": "1.2.0",
          "state": {
            "_model_module": "@jupyter-widgets/base",
            "_model_module_version": "1.2.0",
            "_model_name": "LayoutModel",
            "_view_count": null,
            "_view_module": "@jupyter-widgets/base",
            "_view_module_version": "1.2.0",
            "_view_name": "LayoutView",
            "align_content": null,
            "align_items": null,
            "align_self": null,
            "border": null,
            "bottom": null,
            "display": null,
            "flex": null,
            "flex_flow": null,
            "grid_area": null,
            "grid_auto_columns": null,
            "grid_auto_flow": null,
            "grid_auto_rows": null,
            "grid_column": null,
            "grid_gap": null,
            "grid_row": null,
            "grid_template_areas": null,
            "grid_template_columns": null,
            "grid_template_rows": null,
            "height": null,
            "justify_content": null,
            "justify_items": null,
            "left": null,
            "margin": null,
            "max_height": null,
            "max_width": null,
            "min_height": null,
            "min_width": null,
            "object_fit": null,
            "object_position": null,
            "order": null,
            "overflow": null,
            "overflow_x": null,
            "overflow_y": null,
            "padding": null,
            "right": null,
            "top": null,
            "visibility": null,
            "width": null
          }
        },
        "602a99675040433b8e6f6f63f14f5617": {
          "model_module": "@jupyter-widgets/controls",
          "model_name": "DescriptionStyleModel",
          "model_module_version": "1.5.0",
          "state": {
            "_model_module": "@jupyter-widgets/controls",
            "_model_module_version": "1.5.0",
            "_model_name": "DescriptionStyleModel",
            "_view_count": null,
            "_view_module": "@jupyter-widgets/base",
            "_view_module_version": "1.2.0",
            "_view_name": "StyleView",
            "description_width": ""
          }
        },
        "c0205fea968841669a074114ba5a70a0": {
          "model_module": "@jupyter-widgets/base",
          "model_name": "LayoutModel",
          "model_module_version": "1.2.0",
          "state": {
            "_model_module": "@jupyter-widgets/base",
            "_model_module_version": "1.2.0",
            "_model_name": "LayoutModel",
            "_view_count": null,
            "_view_module": "@jupyter-widgets/base",
            "_view_module_version": "1.2.0",
            "_view_name": "LayoutView",
            "align_content": null,
            "align_items": null,
            "align_self": null,
            "border": null,
            "bottom": null,
            "display": null,
            "flex": null,
            "flex_flow": null,
            "grid_area": null,
            "grid_auto_columns": null,
            "grid_auto_flow": null,
            "grid_auto_rows": null,
            "grid_column": null,
            "grid_gap": null,
            "grid_row": null,
            "grid_template_areas": null,
            "grid_template_columns": null,
            "grid_template_rows": null,
            "height": null,
            "justify_content": null,
            "justify_items": null,
            "left": null,
            "margin": null,
            "max_height": null,
            "max_width": null,
            "min_height": null,
            "min_width": null,
            "object_fit": null,
            "object_position": null,
            "order": null,
            "overflow": null,
            "overflow_x": null,
            "overflow_y": null,
            "padding": null,
            "right": null,
            "top": null,
            "visibility": null,
            "width": null
          }
        },
        "4841aafd0f1749399f07a66fa13bf0a6": {
          "model_module": "@jupyter-widgets/controls",
          "model_name": "ProgressStyleModel",
          "model_module_version": "1.5.0",
          "state": {
            "_model_module": "@jupyter-widgets/controls",
            "_model_module_version": "1.5.0",
            "_model_name": "ProgressStyleModel",
            "_view_count": null,
            "_view_module": "@jupyter-widgets/base",
            "_view_module_version": "1.2.0",
            "_view_name": "StyleView",
            "bar_color": null,
            "description_width": ""
          }
        },
        "6ab2383cd2d44cd7a88f03f4f640ad9a": {
          "model_module": "@jupyter-widgets/base",
          "model_name": "LayoutModel",
          "model_module_version": "1.2.0",
          "state": {
            "_model_module": "@jupyter-widgets/base",
            "_model_module_version": "1.2.0",
            "_model_name": "LayoutModel",
            "_view_count": null,
            "_view_module": "@jupyter-widgets/base",
            "_view_module_version": "1.2.0",
            "_view_name": "LayoutView",
            "align_content": null,
            "align_items": null,
            "align_self": null,
            "border": null,
            "bottom": null,
            "display": null,
            "flex": null,
            "flex_flow": null,
            "grid_area": null,
            "grid_auto_columns": null,
            "grid_auto_flow": null,
            "grid_auto_rows": null,
            "grid_column": null,
            "grid_gap": null,
            "grid_row": null,
            "grid_template_areas": null,
            "grid_template_columns": null,
            "grid_template_rows": null,
            "height": null,
            "justify_content": null,
            "justify_items": null,
            "left": null,
            "margin": null,
            "max_height": null,
            "max_width": null,
            "min_height": null,
            "min_width": null,
            "object_fit": null,
            "object_position": null,
            "order": null,
            "overflow": null,
            "overflow_x": null,
            "overflow_y": null,
            "padding": null,
            "right": null,
            "top": null,
            "visibility": null,
            "width": null
          }
        },
        "54a399de77b1402c852c55c399bc0049": {
          "model_module": "@jupyter-widgets/controls",
          "model_name": "DescriptionStyleModel",
          "model_module_version": "1.5.0",
          "state": {
            "_model_module": "@jupyter-widgets/controls",
            "_model_module_version": "1.5.0",
            "_model_name": "DescriptionStyleModel",
            "_view_count": null,
            "_view_module": "@jupyter-widgets/base",
            "_view_module_version": "1.2.0",
            "_view_name": "StyleView",
            "description_width": ""
          }
        }
      }
    }
  },
  "cells": [
    {
      "cell_type": "code",
      "source": [
        "!pip install einops"
      ],
      "metadata": {
        "colab": {
          "base_uri": "https://localhost:8080/"
        },
        "id": "ASfWyqWXlFpF",
        "outputId": "ddac3ffa-31ae-4980-ffbd-730bdb7c4b37"
      },
      "execution_count": 1,
      "outputs": [
        {
          "output_type": "stream",
          "name": "stdout",
          "text": [
            "Collecting einops\n",
            "  Downloading einops-0.6.1-py3-none-any.whl (42 kB)\n",
            "\u001b[2K     \u001b[90m━━━━━━━━━━━━━━━━━━━━━━━━━━━━━━━━━━━━━━━\u001b[0m \u001b[32m42.2/42.2 kB\u001b[0m \u001b[31m495.1 kB/s\u001b[0m eta \u001b[36m0:00:00\u001b[0m\n",
            "\u001b[?25hInstalling collected packages: einops\n",
            "Successfully installed einops-0.6.1\n"
          ]
        }
      ]
    },
    {
      "cell_type": "code",
      "source": [
        "import os\n",
        "import pandas as pd\n",
        "from torchvision.io import read_image\n",
        "import numpy as np\n",
        "import matplotlib.pyplot as plt\n",
        "from torch.utils.data import Dataset\n",
        "from itertools import cycle\n",
        "import einops\n",
        "from tqdm.auto import tqdm\n",
        "import random\n",
        "from torch.distributions import Categorical"
      ],
      "metadata": {
        "id": "jxBEWBN-RvTv"
      },
      "execution_count": 2,
      "outputs": []
    },
    {
      "cell_type": "code",
      "source": [
        "import matplotlib.pyplot as plt\n",
        "import numpy as np\n",
        "\n",
        "# Generate random pixel values for the image\n",
        "image_data = np.random.rand(1, 1, 3)  # 100x100 image with 3 color channels (RGB)\n",
        "image_data[0,0,:] = 0.3\n",
        "image_data[0,0,0] = 0\n",
        "# Display the image\n",
        "plt.imshow(image_data)\n",
        "plt.show()"
      ],
      "metadata": {
        "colab": {
          "base_uri": "https://localhost:8080/",
          "height": 430
        },
        "id": "y51AH09GTPMU",
        "outputId": "2be56576-16d5-47a1-8f1c-49976945147c"
      },
      "execution_count": 3,
      "outputs": [
        {
          "output_type": "display_data",
          "data": {
            "text/plain": [
              "<Figure size 640x480 with 1 Axes>"
            ],
            "image/png": "[encoded data removed]"
          },
          "metadata": {}
        }
      ]
    },
    {
      "cell_type": "code",
      "execution_count": 4,
      "metadata": {
        "id": "Hn4ZkSNQK8hi"
      },
      "outputs": [],
      "source": [
        "import os\n",
        "import pandas as pd\n",
        "from torchvision.io import read_image\n",
        "import numpy as np\n",
        "\n",
        "class CustomImageDataset(Dataset):\n",
        "    def __init__(self):\n",
        "      self.num_images = 1000\n",
        "      self.images = np.random.rand(self.num_images,1,1,3)\n",
        "\n",
        "    def __len__(self):\n",
        "      return len(self.images)\n",
        "\n",
        "    def __getitem__(self, idx):\n",
        "      return self.images[idx]"
      ]
    },
    {
      "cell_type": "code",
      "source": [
        "training_dataset = CustomImageDataset()"
      ],
      "metadata": {
        "id": "03y93N4XVguu"
      },
      "execution_count": 5,
      "outputs": []
    },
    {
      "cell_type": "code",
      "source": [
        "import matplotlib.pyplot as plt\n",
        "import numpy as np\n",
        "fig = plt.figure(figsize=(1, 1))\n",
        "plt.imshow(training_dataset[83])\n",
        "plt.show()"
      ],
      "metadata": {
        "colab": {
          "base_uri": "https://localhost:8080/",
          "height": 143
        },
        "id": "s1HDdAIVVnb9",
        "outputId": "77143b98-f8c8-4904-bc08-9f2b8038df30"
      },
      "execution_count": 6,
      "outputs": [
        {
          "output_type": "display_data",
          "data": {
            "text/plain": [
              "<Figure size 100x100 with 1 Axes>"
            ],
            "image/png": "[encoded data removed]"
          },
          "metadata": {}
        }
      ]
    },
    {
      "cell_type": "code",
      "source": [
        "from torch.utils.data import DataLoader\n",
        "\n",
        "train_dataloader = DataLoader(training_dataset, batch_size=128, shuffle=True, drop_last=True)"
      ],
      "metadata": {
        "id": "BSJTqT_2YzL8"
      },
      "execution_count": 7,
      "outputs": []
    },
    {
      "cell_type": "code",
      "source": [
        "import torch\n",
        "import torch.nn as nn\n",
        "import torch.nn.functional as F\n",
        "\n",
        "class CustomSender(nn.Module):\n",
        "    def __init__(self):\n",
        "        super(CustomSender, self).__init__()\n",
        "        self.num_words = 10\n",
        "        # Define your layers or modules here\n",
        "        self.fc1 = nn.Linear(in_features=3, out_features=self.num_words)\n",
        "\n",
        "\n",
        "    def forward(self, x):\n",
        "        x = self.fc1(x.flatten(start_dim=1))\n",
        "        # x = nn.functional.relu(x)\n",
        "        # x = self.fc2(x)\n",
        "        return x\n",
        "\n",
        "\n",
        "class CustomReceiver(nn.Module):\n",
        "    def __init__(self):\n",
        "        super(CustomReceiver, self).__init__()\n",
        "        self.num_words = 10\n",
        "        self.fc1 = nn.Linear(in_features=3, out_features=16)\n",
        "        self.emb = nn.Embedding(self.num_words, 16)\n",
        "\n",
        "    def forward_image(self, x):\n",
        "        x = self.fc1(x.flatten(start_dim=1))\n",
        "        # x = nn.functional.relu(x)\n",
        "        # x = self.fc2(x)\n",
        "        return x\n",
        "\n",
        "    def forward_text(self, x):\n",
        "        x = F.sigmoid(self.emb(x))\n",
        "        return x\n"
      ],
      "metadata": {
        "id": "fys7Gnnbjhd8"
      },
      "execution_count": 8,
      "outputs": []
    },
    {
      "cell_type": "code",
      "source": [
        "m1 = CustomSender()\n",
        "x = torch.randn(32,1,1,3)\n",
        "alphs = m1(x).argmax(1)\n",
        "m2 = CustomReceiver()\n",
        "m2_img_rprs = m2.forward_image(x)\n",
        "m2_text_rprs = m2.forward_text(alphs)\n",
        "alphs"
      ],
      "metadata": {
        "colab": {
          "base_uri": "https://localhost:8080/"
        },
        "id": "uLiIrLCEksQJ",
        "outputId": "519bbad9-8ca9-499f-c5ce-23b98d1847e8"
      },
      "execution_count": 20,
      "outputs": [
        {
          "output_type": "execute_result",
          "data": {
            "text/plain": [
              "tensor([5, 3, 1, 1, 5, 3, 9, 1, 5, 5, 5, 1, 4, 1, 5, 5, 5, 5, 9, 1, 1, 1, 9, 1,\n",
              "        9, 5, 3, 3, 0, 4, 4, 5])"
            ]
          },
          "metadata": {},
          "execution_count": 20
        }
      ]
    },
    {
      "cell_type": "code",
      "source": [
        "m2_optimizer = torch.optim.Adam(m2.parameters(), lr=1e-3)\n",
        "m1_optimizer = torch.optim.Adam(m1.parameters(), lr=1e-3)"
      ],
      "metadata": {
        "id": "E7V18c7Ks9-0"
      },
      "execution_count": 21,
      "outputs": []
    },
    {
      "cell_type": "code",
      "source": [
        "import time\n",
        "from torch.distributions import Categorical\n",
        "\n",
        "data_iterator = iter(train_dataloader)\n",
        "acc_list = []\n",
        "loss_list = []\n",
        "best_acc = 0\n",
        "for iter_num in tqdm(range(30000)):\n",
        "  try:\n",
        "    batch = next(data_iterator)\n",
        "  except StopIteration:\n",
        "    data_iterator = iter(train_dataloader)\n",
        "    batch = next(data_iterator)\n",
        "  m2_optimizer.zero_grad()\n",
        "  m1_optimizer.zero_grad()\n",
        "  #####\n",
        "  message_logits = m1(batch.float())\n",
        "  message = message_logits.argmax(1)\n",
        "  m2_img_rprs = m2.forward_image(batch.float())\n",
        "  m2_mess_rprs = m2.forward_text(message)\n",
        "  rolled_m2_img_rprs = torch.roll(m2_img_rprs, shifts=1, dims=0)\n",
        "  pos_similarity = F.cosine_similarity(m2_img_rprs, m2_mess_rprs).unsqueeze(1)\n",
        "  neg_similarity = F.cosine_similarity(rolled_m2_img_rprs, m2_mess_rprs).unsqueeze(1)\n",
        "  similarity_scores = torch.cat([pos_similarity, neg_similarity], axis=1)\n",
        "  m2_loss = F.cross_entropy(similarity_scores, torch.LongTensor([0]*similarity_scores.shape[0]))\n",
        "  m2_loss.backward()\n",
        "  m2_optimizer.step()\n",
        "  ########\n",
        "  log_probs = torch.log(torch.gather(F.softmax(message_logits, dim=1), 1, message.unsqueeze(1)))\n",
        "  similarity_scores += 0.001 * torch.randn_like(similarity_scores)\n",
        "  rewards = 1 - similarity_scores.argmax(1).float()\n",
        "  returns = (rewards - rewards.mean()) / (rewards.std() + 1e-5)\n",
        "  m1_loss = -torch.mean(returns * log_probs)\n",
        "  entropy_loss = -Categorical(F.softmax(message_logits, dim=1)).entropy().sum()\n",
        "  m1_loss = m1_loss + 1e-3*entropy_loss\n",
        "  ####\n",
        "\n",
        "  #####\n",
        "  m1_loss.backward()\n",
        "  m1_optimizer.step()\n",
        "  acc = (1 - similarity_scores.argmax(1)).float().mean()\n",
        "  acc_list.append(acc)\n",
        "  loss_list.append(m2_loss.item())\n",
        "  if acc > best_acc:\n",
        "    print(acc)\n",
        "    best_acc = acc\n",
        "  if acc.item() > 0.95:\n",
        "    print(acc.item())\n",
        "    break\n",
        "  if iter_num % 1000 == 0:\n",
        "    print(rewards.mean(), m2_loss.item(), entropy_loss.item())"
      ],
      "metadata": {
        "colab": {
          "base_uri": "https://localhost:8080/",
          "height": 466,
          "referenced_widgets": [
            "0703091e2a1747eb80d0b991c22f5c4b",
            "d6e59e860dee4a83965b3ed23c53cc1d",
            "5939e160b26c496b9afaaeaf71781206",
            "b29b603ea177432fa78c1badf7e755de",
            "b400a3625e8a4522832d20004fa510f4",
            "b2113a4e5b6b4ff79796eda58380c2ec",
            "602a99675040433b8e6f6f63f14f5617",
            "c0205fea968841669a074114ba5a70a0",
            "4841aafd0f1749399f07a66fa13bf0a6",
            "6ab2383cd2d44cd7a88f03f4f640ad9a",
            "54a399de77b1402c852c55c399bc0049"
          ]
        },
        "id": "wfd2nEFnY9-W",
        "outputId": "08c673e8-a708-45d6-b2a4-91c421daad18"
      },
      "execution_count": 22,
      "outputs": [
        {
          "output_type": "display_data",
          "data": {
            "text/plain": [
              "  0%|          | 0/30000 [00:00<?, ?it/s]"
            ],
            "application/vnd.jupyter.widget-view+json": {
              "version_major": 2,
              "version_minor": 0,
              "model_id": "0703091e2a1747eb80d0b991c22f5c4b"
            }
          },
          "metadata": {}
        },
        {
          "output_type": "stream",
          "name": "stdout",
          "text": [
            "tensor(0.5391)\n",
            "tensor(0.5391) 0.694441020488739 -286.92291259765625\n",
            "tensor(0.5547)\n",
            "tensor(0.5703)\n",
            "tensor(0.6094)\n",
            "tensor(0.6719)\n",
            "tensor(0.6797)\n",
            "tensor(0.7031)\n",
            "tensor(0.7422)\n",
            "tensor(0.7734)\n",
            "tensor(0.7812)\n",
            "tensor(0.7891)\n",
            "tensor(0.7969)\n",
            "tensor(0.8125)\n",
            "tensor(0.8281)\n",
            "tensor(0.8516)\n",
            "tensor(0.8594)\n",
            "tensor(0.8828)\n",
            "tensor(0.8906)\n",
            "tensor(0.8984)\n",
            "tensor(0.9375)\n",
            "tensor(0.9453)\n",
            "tensor(0.9609)\n",
            "0.9609375\n"
          ]
        }
      ]
    },
    {
      "cell_type": "code",
      "source": [
        "import numpy as np\n",
        "import matplotlib.pyplot as plt\n",
        "win_size = 100\n",
        "smoothed_accuracy = np.convolve(acc_list, np.ones(win_size) / win_size, mode='valid')\n",
        "plt.plot(smoothed_accuracy)\n",
        "plt.xlabel('Epochs')\n",
        "plt.ylabel('Acc')\n",
        "plt.title('Acc per Iteration')\n",
        "plt.show()"
      ],
      "metadata": {
        "colab": {
          "base_uri": "https://localhost:8080/",
          "height": 472
        },
        "id": "SeCdkYarzubv",
        "outputId": "36edb0cb-2f21-4644-8bb7-4ec41f0f3832"
      },
      "execution_count": 23,
      "outputs": [
        {
          "output_type": "display_data",
          "data": {
            "text/plain": [
              "<Figure size 640x480 with 1 Axes>"
            ],
            "image/png": "[encoded data removed]"
          },
          "metadata": {}
        }
      ]
    },
    {
      "cell_type": "code",
      "source": [
        "len(torch.unique(message))"
      ],
      "metadata": {
        "colab": {
          "base_uri": "https://localhost:8080/"
        },
        "id": "nyMCITsTz0z0",
        "outputId": "3e983736-4067-4079-a5f3-2bb545f75838"
      },
      "execution_count": 24,
      "outputs": [
        {
          "output_type": "execute_result",
          "data": {
            "text/plain": [
              "9"
            ]
          },
          "metadata": {},
          "execution_count": 24
        }
      ]
    },
    {
      "cell_type": "code",
      "source": [
        "message"
      ],
      "metadata": {
        "colab": {
          "base_uri": "https://localhost:8080/"
        },
        "id": "DaIRwX1T0oKh",
        "outputId": "8aa68a2e-0c9a-4b66-ff40-bec64852b51d"
      },
      "execution_count": 25,
      "outputs": [
        {
          "output_type": "execute_result",
          "data": {
            "text/plain": [
              "tensor([1, 4, 5, 9, 6, 3, 3, 7, 6, 2, 9, 3, 3, 9, 3, 3, 6, 7, 3, 7, 4, 9, 7, 1,\n",
              "        7, 6, 0, 1, 5, 3, 0, 3, 9, 7, 6, 4, 7, 6, 5, 7, 1, 2, 0, 5, 1, 2, 9, 2,\n",
              "        5, 0, 7, 2, 0, 9, 7, 6, 0, 9, 2, 5, 7, 4, 4, 3, 2, 1, 3, 5, 6, 3, 1, 7,\n",
              "        9, 5, 9, 3, 3, 5, 2, 3, 5, 5, 7, 7, 6, 6, 9, 6, 9, 3, 4, 9, 3, 1, 3, 2,\n",
              "        4, 7, 4, 9, 2, 6, 6, 3, 3, 3, 9, 3, 3, 7, 9, 3, 3, 4, 7, 3, 6, 5, 3, 3,\n",
              "        7, 7, 3, 6, 7, 6, 7, 9])"
            ]
          },
          "metadata": {},
          "execution_count": 25
        }
      ]
    },
    {
      "cell_type": "code",
      "source": [
        "colors_images = {x:[] for x in range(10)}\n",
        "for i in range(30):\n",
        "  colors_images[message[i].item()].append(batch[i])"
      ],
      "metadata": {
        "id": "a59xOvkqCenY"
      },
      "execution_count": 26,
      "outputs": []
    },
    {
      "cell_type": "code",
      "source": [
        "selected_alph = 9\n",
        "for image in colors_images[selected_alph]:\n",
        "  fig = plt.figure(figsize=(1, 1))\n",
        "  plt.imshow(image)\n",
        "  plt.show()"
      ],
      "metadata": {
        "colab": {
          "base_uri": "https://localhost:8080/",
          "height": 521
        },
        "id": "K1DZq_8XagqB",
        "outputId": "3422a467-aa39-4737-b635-4af0dce481e1"
      },
      "execution_count": 37,
      "outputs": [
        {
          "output_type": "display_data",
          "data": {
            "text/plain": [
              "<Figure size 100x100 with 1 Axes>"
            ],
            "image/png": "[encoded data removed]"
          },
          "metadata": {}
        },
        {
          "output_type": "display_data",
          "data": {
            "text/plain": [
              "<Figure size 100x100 with 1 Axes>"
            ],
            "image/png": "[encoded data removed]"
          },
          "metadata": {}
        },
        {
          "output_type": "display_data",
          "data": {
            "text/plain": [
              "<Figure size 100x100 with 1 Axes>"
            ],
            "image/png": "[encoded data removed]"
          },
          "metadata": {}
        },
        {
          "output_type": "display_data",
          "data": {
            "text/plain": [
              "<Figure size 100x100 with 1 Axes>"
            ],
            "image/png": "[encoded data removed]"
          },
          "metadata": {}
        }
      ]
    }
  ]
}