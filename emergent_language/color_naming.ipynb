{
 "cells": [
  {
   "cell_type": "code",
   "execution_count": 1,
   "metadata": {},
   "outputs": [],
   "source": [
    "import os\n",
    "import pandas as pd\n",
    "from torchvision.io import read_image\n",
    "import numpy as np\n",
    "import matplotlib.pyplot as plt\n",
    "from torch.utils.data import Dataset\n",
    "from itertools import cycle\n",
    "import einops\n",
    "from tqdm.notebook import tqdm\n",
    "import random\n",
    "from torch.distributions import Categorical\n"
   ]
  },
  {
   "cell_type": "code",
   "execution_count": 2,
   "metadata": {},
   "outputs": [
    {
     "data": {
      "image/png": "[encoded data removed]",
      "text/plain": [
       "<Figure size 640x480 with 1 Axes>"
      ]
     },
     "metadata": {},
     "output_type": "display_data"
    }
   ],
   "source": [
    "import matplotlib.pyplot as plt\n",
    "import numpy as np\n",
    "\n",
    "# Generate random pixel values for the image\n",
    "image_data = np.random.rand(1, 1, 3)  # 100x100 image with 3 color channels (RGB)\n",
    "image_data[0,0,:] = 0.3\n",
    "image_data[0,0,0] = 0\n",
    "# Display the image\n",
    "plt.imshow(image_data)\n",
    "plt.show()"
   ]
  },
  {
   "cell_type": "code",
   "execution_count": 3,
   "metadata": {},
   "outputs": [],
   "source": [
    "import os\n",
    "import pandas as pd\n",
    "from torchvision.io import read_image\n",
    "import numpy as np\n",
    "\n",
    "class CustomImageDataset(Dataset):\n",
    "    def __init__(self):\n",
    "      self.num_images = 2000\n",
    "      self.images = np.random.rand(self.num_images,1,1,3)\n",
    "\n",
    "    def __len__(self):\n",
    "      return len(self.images)\n",
    "\n",
    "    def __getitem__(self, idx):\n",
    "      return self.images[idx]\n"
   ]
  },
  {
   "cell_type": "code",
   "execution_count": 4,
   "metadata": {},
   "outputs": [],
   "source": [
    "training_dataset = CustomImageDataset()"
   ]
  },
  {
   "cell_type": "code",
   "execution_count": 5,
   "metadata": {},
   "outputs": [
    {
     "data": {
      "image/png": "[encoded data removed]",
      "text/plain": [
       "<Figure size 100x100 with 1 Axes>"
      ]
     },
     "metadata": {},
     "output_type": "display_data"
    }
   ],
   "source": [
    "import matplotlib.pyplot as plt\n",
    "import numpy as np\n",
    "fig = plt.figure(figsize=(1, 1))\n",
    "plt.imshow(training_dataset[83])\n",
    "plt.show()"
   ]
  },
  {
   "cell_type": "code",
   "execution_count": 6,
   "metadata": {},
   "outputs": [],
   "source": [
    "from torch.utils.data import DataLoader\n",
    "\n",
    "train_dataloader = DataLoader(training_dataset, batch_size=512, shuffle=True, drop_last=True)"
   ]
  },
  {
   "cell_type": "code",
   "execution_count": 7,
   "metadata": {},
   "outputs": [],
   "source": [
    "import torch\n",
    "import torch.nn as nn\n",
    "import torch.nn.functional as F\n",
    "\n",
    "class CustomSender(nn.Module):\n",
    "    def __init__(self):\n",
    "        super(CustomSender, self).__init__()\n",
    "        self.num_words = 10\n",
    "        # Define your layers or modules here\n",
    "        self.fc1 = nn.Linear(in_features=3, out_features=self.num_words)\n",
    "\n",
    "\n",
    "    def forward(self, x):\n",
    "        x = self.fc1(x.flatten(start_dim=1))\n",
    "        return x\n",
    "\n",
    "\n",
    "class CustomReceiver(nn.Module):\n",
    "    def __init__(self):\n",
    "        super(CustomReceiver, self).__init__()\n",
    "        self.num_words = 10\n",
    "        self.fc1 = nn.Linear(in_features=3, out_features=16)\n",
    "        self.emb = nn.Embedding(self.num_words, 16)\n",
    "\n",
    "    def forward_image(self, x):\n",
    "        x = self.fc1(x.flatten(start_dim=1))\n",
    "        return x\n",
    "\n",
    "    def forward_text(self, x):\n",
    "        x = self.emb(x)\n",
    "        return x"
   ]
  },
  {
   "cell_type": "code",
   "execution_count": 18,
   "metadata": {},
   "outputs": [
    {
     "data": {
      "text/plain": [
       "tensor([4, 5, 4, 4, 6, 1, 8, 5, 4, 5, 6, 6, 4, 6, 6, 8, 4, 1, 5, 4, 4, 4, 8, 4,\n",
       "        4, 5, 8, 8, 6, 5, 8, 8])"
      ]
     },
     "execution_count": 18,
     "metadata": {},
     "output_type": "execute_result"
    }
   ],
   "source": [
    "m1 = CustomSender()\n",
    "x = torch.randn(32,1,1,3)\n",
    "alphs = m1(x).argmax(1)\n",
    "m2 = CustomReceiver()\n",
    "m2_img_rprs = m2.forward_image(x)\n",
    "m2_text_rprs = m2.forward_text(alphs)\n",
    "alphs"
   ]
  },
  {
   "cell_type": "code",
   "execution_count": 19,
   "metadata": {},
   "outputs": [],
   "source": [
    "m1_optimizer = torch.optim.Adam(m1.parameters(), lr=1e-3)\n",
    "m2_optimizer = torch.optim.Adam(m2.parameters(), lr=1e-3)"
   ]
  },
  {
   "cell_type": "code",
   "execution_count": 20,
   "metadata": {},
   "outputs": [
    {
     "data": {
      "application/vnd.jupyter.widget-view+json": {
       "model_id": "5c314d94669b465486986500a691c2f4",
       "version_major": 2,
       "version_minor": 0
      },
      "text/plain": [
       "  0%|          | 0/1000 [00:00<?, ?it/s]"
      ]
     },
     "metadata": {},
     "output_type": "display_data"
    },
    {
     "name": "stdout",
     "output_type": "stream",
     "text": [
      "tensor(0.4121)\n",
      "tensor(0.4141)\n",
      "tensor(0.4238)\n",
      "tensor(0.4277)\n",
      "tensor(0.4355)\n",
      "tensor(0.4434)\n",
      "tensor(0.4492)\n",
      "tensor(0.4648)\n",
      "tensor(0.4727)\n",
      "tensor(0.4805)\n",
      "tensor(0.5000)\n",
      "tensor(0.5020)\n",
      "tensor(0.5215)\n",
      "tensor(0.5371)\n",
      "tensor(0.5469)\n",
      "tensor(0.5664)\n",
      "tensor(0.5742)\n",
      "tensor(0.5801)\n",
      "tensor(0.5820)\n",
      "tensor(0.5898)\n",
      "tensor(0.5938)\n",
      "tensor(0.6035)\n",
      "tensor(0.6074)\n",
      "tensor(0.6230)\n",
      "tensor(0.6250)\n",
      "tensor(0.6543)\n",
      "tensor(0.6621)\n",
      "tensor(0.6641)\n",
      "tensor(0.6797)\n",
      "tensor(0.6875)\n",
      "tensor(0.6914)\n",
      "tensor(0.7051)\n",
      "tensor(0.7227)\n",
      "tensor(0.7344)\n",
      "tensor(0.7500)\n",
      "tensor(0.7520)\n",
      "tensor(0.7598)\n",
      "tensor(0.7676)\n",
      "tensor(0.7793)\n",
      "tensor(0.7832)\n",
      "tensor(0.7930)\n",
      "tensor(0.7949)\n",
      "tensor(0.8145)\n",
      "tensor(0.8242)\n",
      "tensor(0.8262)\n",
      "tensor(0.8301)\n",
      "tensor(0.8398)\n",
      "tensor(0.8477)\n",
      "tensor(0.8672)\n",
      "tensor(0.8789)\n",
      "tensor(0.8887)\n",
      "tensor(0.9062)\n",
      "tensor(0.9160)\n",
      "tensor(0.9199)\n",
      "tensor(0.9277)\n"
     ]
    },
    {
     "data": {
      "text/plain": [
       "<All keys matched successfully>"
      ]
     },
     "execution_count": 20,
     "metadata": {},
     "output_type": "execute_result"
    }
   ],
   "source": [
    "from torch.distributions import Categorical\n",
    "import copy\n",
    "\n",
    "data_iterator = iter(train_dataloader)\n",
    "acc_list = []\n",
    "loss_list = []\n",
    "best_acc = 0\n",
    "best_model_state = None, None\n",
    "\n",
    "for iter_num in tqdm(range(1000)):\n",
    "  try:\n",
    "    batch = next(data_iterator)\n",
    "  except StopIteration:\n",
    "    data_iterator = iter(train_dataloader)\n",
    "    batch = next(data_iterator)\n",
    "  m2_optimizer.zero_grad()\n",
    "  m1_optimizer.zero_grad()\n",
    "  #####\n",
    "  message_logits = m1(batch.float())\n",
    "  message = message_logits.argmax(1)\n",
    "  m2_img_rprs = m2.forward_image(batch.float())\n",
    "  m2_mess_rprs = m2.forward_text(message)\n",
    "  rolled_m2_img_rprs = torch.roll(m2_img_rprs, shifts=1, dims=0)\n",
    "\n",
    "\n",
    "\n",
    "  pos_similarity = F.cosine_similarity(m2_img_rprs, m2_mess_rprs).unsqueeze(1)\n",
    "  neg_similarity = F.cosine_similarity(rolled_m2_img_rprs, m2_mess_rprs).unsqueeze(1)\n",
    "  similarity_scores = torch.cat([pos_similarity, neg_similarity], axis=1)\n",
    "  m2_loss = F.cross_entropy(similarity_scores, torch.LongTensor([0]*similarity_scores.shape[0]))\n",
    "  m2_loss.backward()\n",
    "  m2_optimizer.step()\n",
    "  ########\n",
    "  log_probs = torch.log(torch.gather(F.softmax(message_logits, dim=1), 1, message.unsqueeze(1)))\n",
    "  rewards = F.cross_entropy(similarity_scores, torch.LongTensor([0]*similarity_scores.shape[0]), reduction='none').detach()\n",
    "  returns = (rewards - rewards.mean()) / (rewards.std() + 1e-5)\n",
    "  m1_loss = -torch.mean(returns * log_probs)\n",
    "  entropy_loss = -Categorical(F.softmax(message_logits, dim=1)).entropy().sum()\n",
    "  m1_loss = m1_loss + 1e-1*entropy_loss\n",
    "  #####\n",
    "  m1_loss.backward()\n",
    "  m1_optimizer.step()\n",
    "  acc = (1 - similarity_scores.argmax(1)).float().mean()\n",
    "  acc_list.append(acc)\n",
    "  loss_list.append(m2_loss.item())\n",
    "  if acc > best_acc:\n",
    "    print(acc)\n",
    "    best_acc = acc\n",
    "    best_model_state = copy.deepcopy(m1.state_dict()), copy.deepcopy(m2.state_dict())\n",
    "\n",
    "  if acc.item() > 0.95:\n",
    "    print(acc.item())\n",
    "    break\n",
    "\n",
    "m1.load_state_dict(best_model_state[0])\n",
    "m2.load_state_dict(best_model_state[1])\n"
   ]
  },
  {
   "cell_type": "code",
   "execution_count": 21,
   "metadata": {},
   "outputs": [
    {
     "data": {
      "image/png": "[encoded data removed]",
      "text/plain": [
       "<Figure size 640x480 with 1 Axes>"
      ]
     },
     "metadata": {},
     "output_type": "display_data"
    }
   ],
   "source": [
    "import numpy as np\n",
    "import matplotlib.pyplot as plt\n",
    "win_size = 100\n",
    "smoothed_accuracy = np.convolve(acc_list, np.ones(win_size) / win_size, mode='valid')\n",
    "plt.plot(smoothed_accuracy)\n",
    "plt.xlabel('Epochs')\n",
    "plt.ylabel('Acc')\n",
    "plt.title('Acc per Iteration')\n",
    "plt.show()"
   ]
  },
  {
   "cell_type": "code",
   "execution_count": 22,
   "metadata": {},
   "outputs": [],
   "source": [
    "from collections import defaultdict\n",
    "\n",
    "for batch in train_dataloader:\n",
    "  message_logits = m1(batch.float())\n",
    "  message = message_logits.argmax(1)\n",
    "\n",
    "image_dictionary = defaultdict(list)\n",
    "for i, m in enumerate(message):\n",
    "  image_dictionary[str(m.item())].append(i)\n"
   ]
  },
  {
   "cell_type": "code",
   "execution_count": 23,
   "metadata": {},
   "outputs": [],
   "source": [
    "image_dictionary = dict(sorted(image_dictionary.items(), key=lambda item: item[0]))"
   ]
  },
  {
   "cell_type": "code",
   "execution_count": 24,
   "metadata": {},
   "outputs": [
    {
     "data": {
      "image/png": "[encoded data removed]",
      "text/plain": [
       "<Figure size 1000x100 with 10 Axes>"
      ]
     },
     "metadata": {},
     "output_type": "display_data"
    },
    {
     "data": {
      "image/png": "[encoded data removed]",
      "text/plain": [
       "<Figure size 1000x100 with 10 Axes>"
      ]
     },
     "metadata": {},
     "output_type": "display_data"
    },
    {
     "data": {
      "image/png": "[encoded data removed]",
      "text/plain": [
       "<Figure size 1000x100 with 10 Axes>"
      ]
     },
     "metadata": {},
     "output_type": "display_data"
    },
    {
     "data": {
      "image/png": "[encoded data removed]",
      "text/plain": [
       "<Figure size 1000x100 with 10 Axes>"
      ]
     },
     "metadata": {},
     "output_type": "display_data"
    },
    {
     "data": {
      "image/png": "[encoded data removed]",
      "text/plain": [
       "<Figure size 1000x100 with 10 Axes>"
      ]
     },
     "metadata": {},
     "output_type": "display_data"
    },
    {
     "data": {
      "image/png": "[encoded data removed]",
      "text/plain": [
       "<Figure size 1000x100 with 10 Axes>"
      ]
     },
     "metadata": {},
     "output_type": "display_data"
    },
    {
     "data": {
      "image/png": "[encoded data removed]",
      "text/plain": [
       "<Figure size 1000x100 with 10 Axes>"
      ]
     },
     "metadata": {},
     "output_type": "display_data"
    },
    {
     "data": {
      "image/png": "[encoded data removed]",
      "text/plain": [
       "<Figure size 1000x100 with 10 Axes>"
      ]
     },
     "metadata": {},
     "output_type": "display_data"
    },
    {
     "data": {
      "image/png": "[encoded data removed]",
      "text/plain": [
       "<Figure size 1000x100 with 10 Axes>"
      ]
     },
     "metadata": {},
     "output_type": "display_data"
    }
   ],
   "source": [
    "import matplotlib.pyplot as plt\n",
    "\n",
    "max_image_per_token = 10\n",
    "for sentence, image_indices in image_dictionary.items():\n",
    "    image_indices = image_indices[:max_image_per_token]\n",
    "    num_images = len(image_indices)\n",
    "\n",
    "    if num_images == 1:\n",
    "        fig = plt.figure(figsize=(1, 1))\n",
    "        axs = [plt.subplot(1, 1, 1)]\n",
    "    else:\n",
    "        fig, axs = plt.subplots(1, num_images, figsize=(num_images, 1))\n",
    "    \n",
    "    for i, image_idx in enumerate(image_indices):\n",
    "        axs[i].imshow(batch[image_idx])\n",
    "        axs[i].set_title(f\"{sentence}\")\n",
    "        axs[i].axis('off')\n",
    "\n",
    "    plt.show()\n"
   ]
  }
 ],
 "metadata": {
  "kernelspec": {
   "display_name": "env",
   "language": "python",
   "name": "python3"
  },
  "language_info": {
   "codemirror_mode": {
    "name": "ipython",
    "version": 3
   },
   "file_extension": ".py",
   "mimetype": "text/x-python",
   "name": "python",
   "nbconvert_exporter": "python",
   "pygments_lexer": "ipython3",
   "version": "3.11.4"
  },
  "orig_nbformat": 4
 },
 "nbformat": 4,
 "nbformat_minor": 2
}
