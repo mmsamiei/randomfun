{
 "cells": [
  {
   "cell_type": "code",
   "execution_count": 368,
   "metadata": {},
   "outputs": [],
   "source": [
    "import os\n",
    "import pandas as pd\n",
    "from torchvision.io import read_image\n",
    "import numpy as np\n",
    "import matplotlib.pyplot as plt\n",
    "from torch.utils.data import Dataset\n",
    "from itertools import cycle\n",
    "import einops\n",
    "from tqdm.auto import tqdm\n",
    "import random\n",
    "from torch.distributions import Categorical\n",
    "import torch"
   ]
  },
  {
   "cell_type": "code",
   "execution_count": 369,
   "metadata": {},
   "outputs": [
    {
     "data": {
      "image/png": "[encoded data removed]",
      "text/plain": [
       "<Figure size 640x480 with 1 Axes>"
      ]
     },
     "metadata": {},
     "output_type": "display_data"
    }
   ],
   "source": [
    "import matplotlib.pyplot as plt\n",
    "import numpy as np\n",
    "\n",
    "# Generate random pixel values for the image\n",
    "image_data = np.random.rand(1, 1, 3)  # 100x100 image with 3 color channels (RGB)\n",
    "image_data[0,0,:] = 0.3\n",
    "image_data[0,0,0] = 0\n",
    "# Display the image\n",
    "plt.imshow(image_data)\n",
    "plt.show()"
   ]
  },
  {
   "cell_type": "code",
   "execution_count": 370,
   "metadata": {},
   "outputs": [],
   "source": [
    "import torch\n",
    "from torch.utils.data import Dataset\n",
    "from torchvision import datasets, transforms\n",
    "\n",
    "class CustomMNISTDataset(Dataset):\n",
    "    def __init__(self, root, train=True, transform=None, target_transform=None, download=False, background_color=(0, 0, 0)):\n",
    "        self.original_mnist = datasets.MNIST(\n",
    "            root=root,\n",
    "            train=train,\n",
    "            transform=transform,\n",
    "            download=download\n",
    "        )\n",
    "        self.background_color = background_color\n",
    "\n",
    "    def __len__(self):\n",
    "        return len(self.original_mnist)\n",
    "\n",
    "    def __getitem__(self, idx):\n",
    "        image, target = self.original_mnist[idx]\n",
    "        image = torch.Tensor(np.array(image))\n",
    "        a = einops.repeat(image.squeeze(0), 'h w -> c h w', c=3)\n",
    "        rr,rg,rb = random.random(), random.random(), random.random()\n",
    "        b = torch.zeros_like(a)\n",
    "        b[0] = torch.where(a[0] < 0.1 , rr, a[0])\n",
    "        b[1] = torch.where(a[1] < 0.1 , rg, a[0])\n",
    "        b[2] = torch.where(a[2] < 0.1 , rb, a[0])\n",
    "\n",
    "        return b, target\n",
    "\n",
    "transform = transforms.Compose([\n",
    "    transforms.Resize((28, 28)),   # Resize to MNIST image size\n",
    "    transforms.ToTensor(),          # Convert to tensor\n",
    "    #transforms.Normalize((0.5,), (0.5,))  # Normalize to [-1, 1]\n",
    "])\n",
    "\n",
    "# Create the custom dataset\n",
    "custom_mnist = CustomMNISTDataset(\n",
    "    root=\"./data\",\n",
    "    train=True,\n",
    "    transform=transform,\n",
    "    download=True,\n",
    "    background_color=(0, 0, 250)  # Blue background (change as desired)\n",
    ")"
   ]
  },
  {
   "cell_type": "code",
   "execution_count": 371,
   "metadata": {},
   "outputs": [],
   "source": [
    "training_dataset = CustomMNISTDataset('./data')"
   ]
  },
  {
   "cell_type": "code",
   "execution_count": 372,
   "metadata": {},
   "outputs": [
    {
     "data": {
      "text/plain": [
       "torch.Size([3, 28, 28])"
      ]
     },
     "execution_count": 372,
     "metadata": {},
     "output_type": "execute_result"
    }
   ],
   "source": [
    "training_dataset[0][0].shape"
   ]
  },
  {
   "cell_type": "code",
   "execution_count": 373,
   "metadata": {},
   "outputs": [
    {
     "name": "stderr",
     "output_type": "stream",
     "text": [
      "Clipping input data to the valid range for imshow with RGB data ([0..1] for floats or [0..255] for integers).\n"
     ]
    },
    {
     "data": {
      "image/png": "[encoded data removed]",
      "text/plain": [
       "<Figure size 100x100 with 1 Axes>"
      ]
     },
     "metadata": {},
     "output_type": "display_data"
    }
   ],
   "source": [
    "import matplotlib.pyplot as plt\n",
    "import numpy as np\n",
    "img = training_dataset[0][0]\n",
    "fig = plt.figure(figsize=(1, 1))\n",
    "plt.imshow(img.numpy().transpose(1,2,0))\n",
    "plt.show()\n"
   ]
  },
  {
   "cell_type": "code",
   "execution_count": 374,
   "metadata": {},
   "outputs": [],
   "source": [
    "from torch.utils.data import DataLoader\n",
    "import torch.nn as nn\n",
    "\n",
    "train_dataloader = DataLoader(training_dataset, batch_size=4, shuffle=True, drop_last=True)"
   ]
  },
  {
   "cell_type": "code",
   "execution_count": 375,
   "metadata": {},
   "outputs": [],
   "source": [
    "import torch\n",
    "import torch.nn as nn\n",
    "\n",
    "class LearnablePositionalEncoding(nn.Module):\n",
    "    def __init__(self, d_model, max_len=512):\n",
    "        super(LearnablePositionalEncoding, self).__init__()\n",
    "        self.positional_encoding = nn.Parameter(torch.randn(max_len, d_model))\n",
    "\n",
    "    def forward(self, x):\n",
    "        # Assuming x has shape [batch, len, dim]\n",
    "        batch_size, seq_len, _ = x.size()\n",
    "\n",
    "        # Broadcast positional encoding to match the shape of x\n",
    "        positional_encoding = self.positional_encoding[:seq_len].unsqueeze(0).expand(batch_size, -1, -1)\n",
    "        \n",
    "        # Mahdi Code\n",
    "        #norms = torch.norm(positional_encoding, p=2, dim=2, keepdim=True)\n",
    "        #positional_encoding = positional_encoding / norms\n",
    "\n",
    "\n",
    "        # Add positional encoding to the input tensor\n",
    "        output = x + positional_encoding\n",
    "\n",
    "        return output"
   ]
  },
  {
   "cell_type": "code",
   "execution_count": 379,
   "metadata": {},
   "outputs": [
    {
     "data": {
      "text/plain": [
       "torch.Size([20, 3, 10])"
      ]
     },
     "execution_count": 379,
     "metadata": {},
     "output_type": "execute_result"
    }
   ],
   "source": [
    "import torch\n",
    "import torch.nn as nn\n",
    "import torch.nn.functional as F\n",
    "import einops\n",
    "\n",
    "class SimpleSender(nn.Module):\n",
    "    def __init__(self, alph_size=10):\n",
    "        super(SimpleSender, self).__init__()\n",
    "        self.alph_size = alph_size\n",
    "        # Define your layers or modules here\n",
    "        self.conv1 = nn.Conv2d(in_channels=3, out_channels=16, kernel_size=3, padding=1)\n",
    "        self.maxpool = nn.MaxPool2d(kernel_size=2)\n",
    "        self.conv2 = nn.Conv2d(in_channels=16, out_channels=32, kernel_size=3, padding=1)\n",
    "        self.conv3 = nn.Conv2d(in_channels=32, out_channels=64, kernel_size=3, padding=1)\n",
    "        self.fc1 = nn.Linear(in_features=576, out_features=64)\n",
    "        self.positional_encoding = LearnablePositionalEncoding(64)\n",
    "        self.rnn = nn.LSTM(64, 64, 1, batch_first=True)\n",
    "        self.fc3 = nn.Linear(in_features=64, out_features=self.alph_size)\n",
    "\n",
    "\n",
    "    def forward(self, x, len_message=3, return_continuous_repr=False):\n",
    "        # x = [b, 1, 1, 3] -> [b, l, d]\n",
    "        x = F.leaky_relu(self.conv1(x))\n",
    "        x = self.maxpool(x)\n",
    "        x = F.leaky_relu(self.conv2(x))\n",
    "        x = self.maxpool(x)\n",
    "        x = F.leaky_relu(self.conv3(x))\n",
    "        x = self.maxpool(x)\n",
    "        x = x.flatten(start_dim=1)\n",
    "        if return_continuous_repr:\n",
    "            return x\n",
    "        x = F.leaky_relu(self.fc1(x))\n",
    "        x = einops.repeat(x, 'b d -> b l d', l = len_message)\n",
    "        x = self.positional_encoding(x)\n",
    "        x, _ = self.rnn(x)\n",
    "        x = self.fc3(x)\n",
    "        return x\n",
    "\n",
    "\n",
    "m1 = SimpleSender()\n",
    "x = torch.randn((20, 3, 28, 28))\n",
    "m1(x).shape"
   ]
  },
  {
   "cell_type": "code",
   "execution_count": 380,
   "metadata": {},
   "outputs": [],
   "source": [
    "class SimpleReceiver(nn.Module):\n",
    "    def __init__(self, alph_size=10):\n",
    "        super(SimpleReceiver, self).__init__()\n",
    "        self.alph_size = alph_size\n",
    "        ### Image Side\n",
    "        self.conv1 = nn.Conv2d(in_channels=3, out_channels=16, kernel_size=3, padding=1)\n",
    "        self.maxpool = nn.MaxPool2d(kernel_size=2)\n",
    "        self.conv2 = nn.Conv2d(in_channels=16, out_channels=32, kernel_size=3, padding=1)\n",
    "        self.conv3 = nn.Conv2d(in_channels=32, out_channels=64, kernel_size=3, padding=1)\n",
    "        self.fc1 = nn.Linear(in_features=576, out_features=16)\n",
    "        ### Text Side\n",
    "        self.emb = nn.Embedding(self.alph_size, 16)\n",
    "        self.fc3 = nn.Linear(in_features=16, out_features=16)\n",
    "        self.positional_encoding = LearnablePositionalEncoding(16)\n",
    "        self.transformer_encoder = nn.TransformerEncoder(nn.TransformerEncoderLayer(d_model=16, nhead=1, batch_first=True, dim_feedforward=16, activation=F.leaky_relu), num_layers=2)\n",
    "\n",
    "\n",
    "\n",
    "    def forward_image(self, x):\n",
    "        # x = [b, 3, 28, 28] -> [b, d]\n",
    "        x = F.leaky_relu(self.conv1(x))\n",
    "        x = self.maxpool(x)\n",
    "        x = F.leaky_relu(self.conv2(x))\n",
    "        x = self.maxpool(x)\n",
    "        x = F.leaky_relu(self.conv3(x))\n",
    "        x = self.maxpool(x)\n",
    "        x = x.flatten(start_dim=1)\n",
    "        x = F.leaky_relu(self.fc1(x))\n",
    "        return x\n",
    "\n",
    "    def forward_text(self, x, src_key_padding_mask=None):\n",
    "        # x = [b, l] long Tensor -> [b, d]\n",
    "        x = F.leaky_relu(self.emb(x))\n",
    "        x = self.fc3(x)\n",
    "        x = self.positional_encoding(x)\n",
    "        x = self.transformer_encoder(x, src_key_padding_mask=src_key_padding_mask)\n",
    "        # x = x.mean(dim=1)\n",
    "        x = x[:,0,:]\n",
    "        return x"
   ]
  },
  {
   "cell_type": "code",
   "execution_count": 381,
   "metadata": {},
   "outputs": [],
   "source": [
    "def create_mask_after_end_token(input_tensor, end_token_id):\n",
    "    ### [b, l] -> [b, l]\n",
    "    # Find the index of the [END] token in each row\n",
    "    end_token_indices = torch.nonzero(input_tensor == end_token_id)\n",
    "\n",
    "    # Create a mask tensor of the same shape as the input tensor\n",
    "    mask_tensor = torch.zeros_like(input_tensor)\n",
    "\n",
    "    # Set elements after the [END] token index in each row to 1\n",
    "    for batch_idx, end_idx in end_token_indices:\n",
    "        mask_tensor[batch_idx, end_idx + 1:] = 1\n",
    "\n",
    "    return mask_tensor\n",
    "     "
   ]
  },
  {
   "cell_type": "code",
   "execution_count": 382,
   "metadata": {},
   "outputs": [
    {
     "data": {
      "text/plain": [
       "torch.Size([20, 16])"
      ]
     },
     "execution_count": 382,
     "metadata": {},
     "output_type": "execute_result"
    }
   ],
   "source": [
    "x = torch.randn((20, 3,28, 28))\n",
    "m1(x)\n",
    "words = m1(x).argmax(axis=2)\n",
    "words_mask = create_mask_after_end_token(words, 0).bool()\n",
    "m2 = SimpleReceiver()\n",
    "m2.forward_text(words, words_mask).shape"
   ]
  },
  {
   "cell_type": "code",
   "execution_count": 383,
   "metadata": {},
   "outputs": [],
   "source": [
    "m1 = SimpleSender(6)\n",
    "m2 = SimpleReceiver(6)\n",
    "m2_optimizer = torch.optim.Adam(m2.parameters(), lr=1e-3, weight_decay=0e-6)\n",
    "m1_optimizer = torch.optim.Adam(m1.parameters(), lr=1e-3, weight_decay=0e-6)"
   ]
  },
  {
   "cell_type": "code",
   "execution_count": 384,
   "metadata": {},
   "outputs": [
    {
     "data": {
      "application/vnd.jupyter.widget-view+json": {
       "model_id": "9a6140e5872f4e13a35dc450d2ec1697",
       "version_major": 2,
       "version_minor": 0
      },
      "text/plain": [
       "  0%|          | 0/3000 [00:00<?, ?it/s]"
      ]
     },
     "metadata": {},
     "output_type": "display_data"
    },
    {
     "name": "stdout",
     "output_type": "stream",
     "text": [
      "step 0 : 0.25\n",
      "step 0 : -1.4012424945831299 3.7650268041033996e-06 -1.7343909740447998\n",
      "step 5 : 0.5\n"
     ]
    },
    {
     "ename": "KeyboardInterrupt",
     "evalue": "",
     "output_type": "error",
     "traceback": [
      "\u001b[0;31m---------------------------------------------------------------------------\u001b[0m",
      "\u001b[0;31mKeyboardInterrupt\u001b[0m                         Traceback (most recent call last)",
      "Cell \u001b[0;32mIn[384], line 35\u001b[0m\n\u001b[1;32m     33\u001b[0m m2_loss \u001b[39m=\u001b[39m F\u001b[39m.\u001b[39mcross_entropy(cosine_sim, torch\u001b[39m.\u001b[39marange(batch_size))\n\u001b[1;32m     34\u001b[0m m2_loss\u001b[39m.\u001b[39mbackward()\n\u001b[0;32m---> 35\u001b[0m m2_optimizer\u001b[39m.\u001b[39;49mstep()\n\u001b[1;32m     36\u001b[0m \u001b[39m###\u001b[39;00m\n\u001b[1;32m     37\u001b[0m log_probs \u001b[39m=\u001b[39m torch\u001b[39m.\u001b[39mlog(torch\u001b[39m.\u001b[39mgather(F\u001b[39m.\u001b[39msoftmax(message_logits, dim\u001b[39m=\u001b[39m\u001b[39m2\u001b[39m), \u001b[39m2\u001b[39m, message\u001b[39m.\u001b[39munsqueeze(\u001b[39m2\u001b[39m)))\n",
      "File \u001b[0;32m~/env/lib/python3.11/site-packages/torch/optim/optimizer.py:280\u001b[0m, in \u001b[0;36mOptimizer.profile_hook_step.<locals>.wrapper\u001b[0;34m(*args, **kwargs)\u001b[0m\n\u001b[1;32m    276\u001b[0m         \u001b[39melse\u001b[39;00m:\n\u001b[1;32m    277\u001b[0m             \u001b[39mraise\u001b[39;00m \u001b[39mRuntimeError\u001b[39;00m(\u001b[39mf\u001b[39m\u001b[39m\"\u001b[39m\u001b[39m{\u001b[39;00mfunc\u001b[39m}\u001b[39;00m\u001b[39m must return None or a tuple of (new_args, new_kwargs),\u001b[39m\u001b[39m\"\u001b[39m\n\u001b[1;32m    278\u001b[0m                                \u001b[39mf\u001b[39m\u001b[39m\"\u001b[39m\u001b[39mbut got \u001b[39m\u001b[39m{\u001b[39;00mresult\u001b[39m}\u001b[39;00m\u001b[39m.\u001b[39m\u001b[39m\"\u001b[39m)\n\u001b[0;32m--> 280\u001b[0m out \u001b[39m=\u001b[39m func(\u001b[39m*\u001b[39;49margs, \u001b[39m*\u001b[39;49m\u001b[39m*\u001b[39;49mkwargs)\n\u001b[1;32m    281\u001b[0m \u001b[39mself\u001b[39m\u001b[39m.\u001b[39m_optimizer_step_code()\n\u001b[1;32m    283\u001b[0m \u001b[39m# call optimizer step post hooks\u001b[39;00m\n",
      "File \u001b[0;32m~/env/lib/python3.11/site-packages/torch/optim/optimizer.py:33\u001b[0m, in \u001b[0;36m_use_grad_for_differentiable.<locals>._use_grad\u001b[0;34m(self, *args, **kwargs)\u001b[0m\n\u001b[1;32m     31\u001b[0m \u001b[39mtry\u001b[39;00m:\n\u001b[1;32m     32\u001b[0m     torch\u001b[39m.\u001b[39mset_grad_enabled(\u001b[39mself\u001b[39m\u001b[39m.\u001b[39mdefaults[\u001b[39m'\u001b[39m\u001b[39mdifferentiable\u001b[39m\u001b[39m'\u001b[39m])\n\u001b[0;32m---> 33\u001b[0m     ret \u001b[39m=\u001b[39m func(\u001b[39mself\u001b[39;49m, \u001b[39m*\u001b[39;49margs, \u001b[39m*\u001b[39;49m\u001b[39m*\u001b[39;49mkwargs)\n\u001b[1;32m     34\u001b[0m \u001b[39mfinally\u001b[39;00m:\n\u001b[1;32m     35\u001b[0m     torch\u001b[39m.\u001b[39mset_grad_enabled(prev_grad)\n",
      "File \u001b[0;32m~/env/lib/python3.11/site-packages/torch/optim/adam.py:141\u001b[0m, in \u001b[0;36mAdam.step\u001b[0;34m(self, closure)\u001b[0m\n\u001b[1;32m    130\u001b[0m     beta1, beta2 \u001b[39m=\u001b[39m group[\u001b[39m'\u001b[39m\u001b[39mbetas\u001b[39m\u001b[39m'\u001b[39m]\n\u001b[1;32m    132\u001b[0m     \u001b[39mself\u001b[39m\u001b[39m.\u001b[39m_init_group(\n\u001b[1;32m    133\u001b[0m         group,\n\u001b[1;32m    134\u001b[0m         params_with_grad,\n\u001b[0;32m   (...)\u001b[0m\n\u001b[1;32m    138\u001b[0m         max_exp_avg_sqs,\n\u001b[1;32m    139\u001b[0m         state_steps)\n\u001b[0;32m--> 141\u001b[0m     adam(\n\u001b[1;32m    142\u001b[0m         params_with_grad,\n\u001b[1;32m    143\u001b[0m         grads,\n\u001b[1;32m    144\u001b[0m         exp_avgs,\n\u001b[1;32m    145\u001b[0m         exp_avg_sqs,\n\u001b[1;32m    146\u001b[0m         max_exp_avg_sqs,\n\u001b[1;32m    147\u001b[0m         state_steps,\n\u001b[1;32m    148\u001b[0m         amsgrad\u001b[39m=\u001b[39;49mgroup[\u001b[39m'\u001b[39;49m\u001b[39mamsgrad\u001b[39;49m\u001b[39m'\u001b[39;49m],\n\u001b[1;32m    149\u001b[0m         beta1\u001b[39m=\u001b[39;49mbeta1,\n\u001b[1;32m    150\u001b[0m         beta2\u001b[39m=\u001b[39;49mbeta2,\n\u001b[1;32m    151\u001b[0m         lr\u001b[39m=\u001b[39;49mgroup[\u001b[39m'\u001b[39;49m\u001b[39mlr\u001b[39;49m\u001b[39m'\u001b[39;49m],\n\u001b[1;32m    152\u001b[0m         weight_decay\u001b[39m=\u001b[39;49mgroup[\u001b[39m'\u001b[39;49m\u001b[39mweight_decay\u001b[39;49m\u001b[39m'\u001b[39;49m],\n\u001b[1;32m    153\u001b[0m         eps\u001b[39m=\u001b[39;49mgroup[\u001b[39m'\u001b[39;49m\u001b[39meps\u001b[39;49m\u001b[39m'\u001b[39;49m],\n\u001b[1;32m    154\u001b[0m         maximize\u001b[39m=\u001b[39;49mgroup[\u001b[39m'\u001b[39;49m\u001b[39mmaximize\u001b[39;49m\u001b[39m'\u001b[39;49m],\n\u001b[1;32m    155\u001b[0m         foreach\u001b[39m=\u001b[39;49mgroup[\u001b[39m'\u001b[39;49m\u001b[39mforeach\u001b[39;49m\u001b[39m'\u001b[39;49m],\n\u001b[1;32m    156\u001b[0m         capturable\u001b[39m=\u001b[39;49mgroup[\u001b[39m'\u001b[39;49m\u001b[39mcapturable\u001b[39;49m\u001b[39m'\u001b[39;49m],\n\u001b[1;32m    157\u001b[0m         differentiable\u001b[39m=\u001b[39;49mgroup[\u001b[39m'\u001b[39;49m\u001b[39mdifferentiable\u001b[39;49m\u001b[39m'\u001b[39;49m],\n\u001b[1;32m    158\u001b[0m         fused\u001b[39m=\u001b[39;49mgroup[\u001b[39m'\u001b[39;49m\u001b[39mfused\u001b[39;49m\u001b[39m'\u001b[39;49m],\n\u001b[1;32m    159\u001b[0m         grad_scale\u001b[39m=\u001b[39;49m\u001b[39mgetattr\u001b[39;49m(\u001b[39mself\u001b[39;49m, \u001b[39m\"\u001b[39;49m\u001b[39mgrad_scale\u001b[39;49m\u001b[39m\"\u001b[39;49m, \u001b[39mNone\u001b[39;49;00m),\n\u001b[1;32m    160\u001b[0m         found_inf\u001b[39m=\u001b[39;49m\u001b[39mgetattr\u001b[39;49m(\u001b[39mself\u001b[39;49m, \u001b[39m\"\u001b[39;49m\u001b[39mfound_inf\u001b[39;49m\u001b[39m\"\u001b[39;49m, \u001b[39mNone\u001b[39;49;00m),\n\u001b[1;32m    161\u001b[0m     )\n\u001b[1;32m    163\u001b[0m \u001b[39mreturn\u001b[39;00m loss\n",
      "File \u001b[0;32m~/env/lib/python3.11/site-packages/torch/optim/adam.py:281\u001b[0m, in \u001b[0;36madam\u001b[0;34m(params, grads, exp_avgs, exp_avg_sqs, max_exp_avg_sqs, state_steps, foreach, capturable, differentiable, fused, grad_scale, found_inf, amsgrad, beta1, beta2, lr, weight_decay, eps, maximize)\u001b[0m\n\u001b[1;32m    278\u001b[0m \u001b[39melse\u001b[39;00m:\n\u001b[1;32m    279\u001b[0m     func \u001b[39m=\u001b[39m _single_tensor_adam\n\u001b[0;32m--> 281\u001b[0m func(params,\n\u001b[1;32m    282\u001b[0m      grads,\n\u001b[1;32m    283\u001b[0m      exp_avgs,\n\u001b[1;32m    284\u001b[0m      exp_avg_sqs,\n\u001b[1;32m    285\u001b[0m      max_exp_avg_sqs,\n\u001b[1;32m    286\u001b[0m      state_steps,\n\u001b[1;32m    287\u001b[0m      amsgrad\u001b[39m=\u001b[39;49mamsgrad,\n\u001b[1;32m    288\u001b[0m      beta1\u001b[39m=\u001b[39;49mbeta1,\n\u001b[1;32m    289\u001b[0m      beta2\u001b[39m=\u001b[39;49mbeta2,\n\u001b[1;32m    290\u001b[0m      lr\u001b[39m=\u001b[39;49mlr,\n\u001b[1;32m    291\u001b[0m      weight_decay\u001b[39m=\u001b[39;49mweight_decay,\n\u001b[1;32m    292\u001b[0m      eps\u001b[39m=\u001b[39;49meps,\n\u001b[1;32m    293\u001b[0m      maximize\u001b[39m=\u001b[39;49mmaximize,\n\u001b[1;32m    294\u001b[0m      capturable\u001b[39m=\u001b[39;49mcapturable,\n\u001b[1;32m    295\u001b[0m      differentiable\u001b[39m=\u001b[39;49mdifferentiable,\n\u001b[1;32m    296\u001b[0m      grad_scale\u001b[39m=\u001b[39;49mgrad_scale,\n\u001b[1;32m    297\u001b[0m      found_inf\u001b[39m=\u001b[39;49mfound_inf)\n",
      "File \u001b[0;32m~/env/lib/python3.11/site-packages/torch/optim/adam.py:344\u001b[0m, in \u001b[0;36m_single_tensor_adam\u001b[0;34m(params, grads, exp_avgs, exp_avg_sqs, max_exp_avg_sqs, state_steps, grad_scale, found_inf, amsgrad, beta1, beta2, lr, weight_decay, eps, maximize, capturable, differentiable)\u001b[0m\n\u001b[1;32m    341\u001b[0m     param \u001b[39m=\u001b[39m torch\u001b[39m.\u001b[39mview_as_real(param)\n\u001b[1;32m    343\u001b[0m \u001b[39m# Decay the first and second moment running average coefficient\u001b[39;00m\n\u001b[0;32m--> 344\u001b[0m exp_avg\u001b[39m.\u001b[39;49mmul_(beta1)\u001b[39m.\u001b[39;49madd_(grad, alpha\u001b[39m=\u001b[39;49m\u001b[39m1\u001b[39;49m \u001b[39m-\u001b[39;49m beta1)\n\u001b[1;32m    345\u001b[0m exp_avg_sq\u001b[39m.\u001b[39mmul_(beta2)\u001b[39m.\u001b[39maddcmul_(grad, grad\u001b[39m.\u001b[39mconj(), value\u001b[39m=\u001b[39m\u001b[39m1\u001b[39m \u001b[39m-\u001b[39m beta2)\n\u001b[1;32m    347\u001b[0m \u001b[39mif\u001b[39;00m capturable \u001b[39mor\u001b[39;00m differentiable:\n",
      "\u001b[0;31mKeyboardInterrupt\u001b[0m: "
     ]
    }
   ],
   "source": [
    "import time\n",
    "from torch.distributions import Categorical\n",
    "import copy\n",
    "\n",
    "len_message = 3\n",
    "eaaly_stop_acc = 0.99\n",
    "max_steps = 3000\n",
    "log_period_steps = 200\n",
    "entropy_loss_lambda = 1e-3\n",
    "\n",
    "data_iterator = iter(train_dataloader)\n",
    "acc_list = []\n",
    "loss_list = []\n",
    "best_acc = 0\n",
    "best_model_state = None, None\n",
    "for iter_num in tqdm(range(max_steps)):\n",
    "  try:\n",
    "    batch, target_label = next(data_iterator)\n",
    "  except StopIteration:\n",
    "    data_iterator = iter(train_dataloader)\n",
    "    batch = next(data_iterator)\n",
    "    a = batch\n",
    "  m2_optimizer.zero_grad()\n",
    "  m1_optimizer.zero_grad()\n",
    "  ###\n",
    "  message_logits = m1(batch.float(), len_message)\n",
    "  message = message_logits.argmax(2) ### [batch, len, alph_size]\n",
    "  message_mask = create_mask_after_end_token(message, 0).float()\n",
    "  m2_img_rprs = m2.forward_image(batch.float())\n",
    "  m2_mess_rprs = m2.forward_text(message, message_mask)\n",
    "  cosine_sim = F.cosine_similarity(m2_img_rprs.unsqueeze(1), m2_mess_rprs.unsqueeze(0), dim=2) # [batch, batch]\n",
    "  batch_size = message_logits.shape[0]\n",
    "  m2_loss = F.cross_entropy(cosine_sim, torch.arange(batch_size))\n",
    "  m2_loss.backward()\n",
    "  m2_optimizer.step()\n",
    "  ###\n",
    "  log_probs = torch.log(torch.gather(F.softmax(message_logits, dim=2), 2, message.unsqueeze(2)))\n",
    "  rewards = -1*F.cross_entropy(cosine_sim, torch.arange(batch_size), reduction='none').detach()\n",
    "  returns = (rewards - rewards.mean()) / (rewards.std() + 1e-5)\n",
    "  #####\n",
    "  temp = (1-message_mask.unsqueeze(2)*log_probs)\n",
    "  temp2 = (returns.unsqueeze(1) * temp.squeeze(2))\n",
    "  m1_loss = temp2.sum() / ((1-message_mask).sum())\n",
    "  m1_loss = -torch.mean(returns * log_probs)\n",
    "  ####\n",
    "  entropy_loss = -Categorical(F.softmax(message_logits, dim=2)).entropy()\n",
    "  entropy_loss_masked = (((1-message_mask)*entropy_loss)/((1-message_mask).sum())).sum()\n",
    "  (m1_loss + entropy_loss_lambda*entropy_loss_masked).backward()\n",
    "  m1_optimizer.step()\n",
    "  acc = (cosine_sim.argmax(1) == torch.arange(batch_size)).float().mean()\n",
    "  acc_list.append(acc)\n",
    "  loss_list.append(m2_loss.item())\n",
    "  if acc > best_acc:\n",
    "    print(f\"step {iter_num} :\", acc.item())\n",
    "    best_acc = acc\n",
    "    best_model_state = copy.deepcopy(m1.state_dict()), copy.deepcopy(m2.state_dict())\n",
    "  if acc.item() > eaaly_stop_acc:\n",
    "    print(f\"step {iter_num} :\", acc.item())\n",
    "    break\n",
    "  if iter_num % log_period_steps == 0:\n",
    "    print(f\"step {iter_num} :\",rewards.mean().item(), m1_loss.item(), entropy_loss_masked.item())\n",
    "\n",
    "m1.load_state_dict(best_model_state[0])\n",
    "m2.load_state_dict(best_model_state[1])"
   ]
  },
  {
   "cell_type": "code",
   "execution_count": 357,
   "metadata": {},
   "outputs": [
    {
     "data": {
      "image/png": "[encoded data removed]",
      "text/plain": [
       "<Figure size 640x480 with 1 Axes>"
      ]
     },
     "metadata": {},
     "output_type": "display_data"
    }
   ],
   "source": [
    "import numpy as np\n",
    "import matplotlib.pyplot as plt\n",
    "win_size = 100\n",
    "smoothed_accuracy = np.convolve(acc_list, np.ones(win_size) / win_size, mode='valid')\n",
    "plt.plot(smoothed_accuracy)\n",
    "plt.xlabel('Iteration')\n",
    "plt.ylabel('Acc')\n",
    "plt.title('Acc per Iteration')\n",
    "plt.show()"
   ]
  },
  {
   "cell_type": "code",
   "execution_count": 358,
   "metadata": {},
   "outputs": [
    {
     "data": {
      "application/vnd.jupyter.widget-view+json": {
       "model_id": "eb3ab84524c64fb58e2fd69779feacbd",
       "version_major": 2,
       "version_minor": 0
      },
      "text/plain": [
       "  0%|          | 0/15000 [00:00<?, ?it/s]"
      ]
     },
     "metadata": {},
     "output_type": "display_data"
    },
    {
     "name": "stdout",
     "output_type": "stream",
     "text": [
      "0.24509803921568626\n"
     ]
    }
   ],
   "source": [
    "from collections import defaultdict\n",
    "\n",
    "acc_sum = 0\n",
    "acc_total = 0\n",
    "for batch, target_label in tqdm(train_dataloader):\n",
    "  message_logits = m1(batch.float(), len_message)\n",
    "  message = message_logits.argmax(2) ### [batch, len, alph_size]\n",
    "  message_mask = create_mask_after_end_token(message, 0).float()\n",
    "  m2_img_rprs = m2.forward_image(batch.float())\n",
    "  m2_mess_rprs = m2.forward_text(message, message_mask)\n",
    "  cosine_sim = F.cosine_similarity(m2_img_rprs.unsqueeze(1), m2_mess_rprs.unsqueeze(0), dim=2) # [batch, batch]\n",
    "  batch_size = message_logits.shape[0]\n",
    "  acc = (cosine_sim.argmax(1) == torch.arange(batch_size)).float().mean().item()\n",
    "  acc_sum += batch_size * acc\n",
    "  acc_total += batch_size\n",
    "  if acc_total > 200:\n",
    "    break\n",
    "\n",
    "print(acc_sum/acc_total)\n",
    "image_dictionary = defaultdict(list)\n",
    "for i, m in enumerate(message):\n",
    "  sentence = \"\"\n",
    "  for token in m:\n",
    "    sentence = sentence + str(token.item())\n",
    "    if sentence[-1] == '0':\n",
    "      break\n",
    "  image_dictionary[sentence].append(i)\n"
   ]
  },
  {
   "cell_type": "code",
   "execution_count": 359,
   "metadata": {},
   "outputs": [],
   "source": [
    "image_dictionary = dict(sorted(image_dictionary.items(), key=lambda item: item[0]))"
   ]
  },
  {
   "cell_type": "code",
   "execution_count": 360,
   "metadata": {},
   "outputs": [
    {
     "ename": "IndexError",
     "evalue": "index 12 is out of bounds for dimension 0 with size 4",
     "output_type": "error",
     "traceback": [
      "\u001b[0;31m---------------------------------------------------------------------------\u001b[0m",
      "\u001b[0;31mIndexError\u001b[0m                                Traceback (most recent call last)",
      "Cell \u001b[0;32mIn[360], line 1\u001b[0m\n\u001b[0;32m----> 1\u001b[0m batch[image_idx]\u001b[39m.\u001b[39mshape\n",
      "\u001b[0;31mIndexError\u001b[0m: index 12 is out of bounds for dimension 0 with size 4"
     ]
    }
   ],
   "source": [
    "batch[image_idx].shape"
   ]
  },
  {
   "cell_type": "code",
   "execution_count": 361,
   "metadata": {},
   "outputs": [
    {
     "name": "stderr",
     "output_type": "stream",
     "text": [
      "Clipping input data to the valid range for imshow with RGB data ([0..1] for floats or [0..255] for integers).\n",
      "Clipping input data to the valid range for imshow with RGB data ([0..1] for floats or [0..255] for integers).\n",
      "Clipping input data to the valid range for imshow with RGB data ([0..1] for floats or [0..255] for integers).\n",
      "Clipping input data to the valid range for imshow with RGB data ([0..1] for floats or [0..255] for integers).\n"
     ]
    },
    {
     "data": {
      "image/png": "[encoded data removed]",
      "text/plain": [
       "<Figure size 400x100 with 4 Axes>"
      ]
     },
     "metadata": {},
     "output_type": "display_data"
    }
   ],
   "source": [
    "import matplotlib.pyplot as plt\n",
    "\n",
    "max_image_per_token = 10\n",
    "for sentence, image_indices in image_dictionary.items():\n",
    "    image_indices = image_indices[:max_image_per_token]\n",
    "    num_images = len(image_indices)\n",
    "\n",
    "    if num_images == 1:\n",
    "        fig = plt.figure(figsize=(1, 1))\n",
    "        axs = [plt.subplot(1, 1, 1)]\n",
    "    else:\n",
    "        fig, axs = plt.subplots(1, num_images, figsize=(num_images, 1))\n",
    "    \n",
    "    for i, image_idx in enumerate(image_indices):\n",
    "        axs[i].imshow(batch[image_idx].numpy().transpose(1,2,0))\n",
    "        axs[i].set_title(f\"{sentence}\")\n",
    "        axs[i].axis('off')\n",
    "\n",
    "    plt.show()\n"
   ]
  }
 ],
 "metadata": {
  "kernelspec": {
   "display_name": "env",
   "language": "python",
   "name": "python3"
  },
  "language_info": {
   "codemirror_mode": {
    "name": "ipython",
    "version": 3
   },
   "file_extension": ".py",
   "mimetype": "text/x-python",
   "name": "python",
   "nbconvert_exporter": "python",
   "pygments_lexer": "ipython3",
   "version": "3.11.4"
  },
  "orig_nbformat": 4
 },
 "nbformat": 4,
 "nbformat_minor": 2
}
