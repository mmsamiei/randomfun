{
 "cells": [
  {
   "cell_type": "code",
   "execution_count": 1,
   "metadata": {},
   "outputs": [],
   "source": [
    "import os\n",
    "import pandas as pd\n",
    "from torchvision.io import read_image\n",
    "import numpy as np\n",
    "import matplotlib.pyplot as plt\n",
    "from torch.utils.data import Dataset\n",
    "from itertools import cycle\n",
    "import einops\n",
    "from tqdm.auto import tqdm\n",
    "import random\n",
    "from torch.distributions import Categorical\n",
    "import torch"
   ]
  },
  {
   "cell_type": "code",
   "execution_count": 2,
   "metadata": {},
   "outputs": [
    {
     "data": {
      "image/png": "[encoded data removed]",
      "text/plain": [
       "<Figure size 640x480 with 1 Axes>"
      ]
     },
     "metadata": {},
     "output_type": "display_data"
    }
   ],
   "source": [
    "import matplotlib.pyplot as plt\n",
    "import numpy as np\n",
    "\n",
    "# Generate random pixel values for the image\n",
    "image_data = np.random.rand(1, 1, 3)  # 100x100 image with 3 color channels (RGB)\n",
    "image_data[0,0,:] = 0.3\n",
    "image_data[0,0,0] = 0\n",
    "# Display the image\n",
    "plt.imshow(image_data)\n",
    "plt.show()"
   ]
  },
  {
   "cell_type": "code",
   "execution_count": 3,
   "metadata": {},
   "outputs": [],
   "source": [
    "import os\n",
    "import pandas as pd\n",
    "from torchvision.io import read_image\n",
    "import numpy as np\n",
    "\n",
    "class CustomImageDataset(Dataset):\n",
    "    def __init__(self):\n",
    "      self.num_images = 2000\n",
    "      self.images = np.random.rand(self.num_images,1,1,3)\n",
    "\n",
    "    def __len__(self):\n",
    "      return len(self.images)\n",
    "\n",
    "    def __getitem__(self, idx):\n",
    "      return self.images[idx]\n"
   ]
  },
  {
   "cell_type": "code",
   "execution_count": 4,
   "metadata": {},
   "outputs": [],
   "source": [
    "training_dataset = CustomImageDataset()"
   ]
  },
  {
   "cell_type": "code",
   "execution_count": 5,
   "metadata": {},
   "outputs": [
    {
     "data": {
      "image/png": "[encoded data removed]",
      "text/plain": [
       "<Figure size 100x100 with 1 Axes>"
      ]
     },
     "metadata": {},
     "output_type": "display_data"
    }
   ],
   "source": [
    "import matplotlib.pyplot as plt\n",
    "import numpy as np\n",
    "fig = plt.figure(figsize=(1, 1))\n",
    "plt.imshow(training_dataset[83])\n",
    "plt.show()\n"
   ]
  },
  {
   "cell_type": "code",
   "execution_count": 7,
   "metadata": {},
   "outputs": [],
   "source": [
    "from torch.utils.data import DataLoader\n",
    "import torch.nn as nn\n",
    "\n",
    "train_dataloader = DataLoader(training_dataset, batch_size=128, shuffle=True, drop_last=True)"
   ]
  },
  {
   "cell_type": "code",
   "execution_count": 8,
   "metadata": {},
   "outputs": [],
   "source": [
    "class PositionalEncoding(nn.Module):\n",
    "    def __init__(self, d_model, max_seq_len=512):\n",
    "        super(PositionalEncoding, self).__init__()\n",
    "        self.encoding = torch.zeros(max_seq_len, d_model)\n",
    "        position = torch.arange(0, max_seq_len).unsqueeze(1).float()\n",
    "        div_term = torch.exp(torch.arange(0, d_model, 2).float() * -(torch.log(torch.tensor(10000.0)) / d_model))\n",
    "        self.encoding[:, 0::2] = torch.sin(position * div_term)\n",
    "        self.encoding[:, 1::2] = torch.cos(position * div_term)\n",
    "        self.encoding = self.encoding.unsqueeze(0)  # Add a batch dimension\n",
    "\n",
    "    def forward(self, x):\n",
    "        # Add the positional encodings to the input embeddings\n",
    "        return x + self.encoding[:, :x.size(1)].detach()"
   ]
  },
  {
   "cell_type": "code",
   "execution_count": 191,
   "metadata": {},
   "outputs": [],
   "source": [
    "import torch\n",
    "import torch.nn as nn\n",
    "\n",
    "class LearnablePositionalEncoding(nn.Module):\n",
    "    def __init__(self, d_model, max_len=512):\n",
    "        super(LearnablePositionalEncoding, self).__init__()\n",
    "        self.positional_encoding = nn.Parameter(torch.randn(max_len, d_model))\n",
    "\n",
    "    def forward(self, x):\n",
    "        # Assuming x has shape [batch, len, dim]\n",
    "        batch_size, seq_len, _ = x.size()\n",
    "\n",
    "        # Broadcast positional encoding to match the shape of x\n",
    "        positional_encoding = self.positional_encoding[:seq_len].unsqueeze(0).expand(batch_size, -1, -1)\n",
    "        \n",
    "        # Mahdi Code\n",
    "        #norms = torch.norm(positional_encoding, p=2, dim=2, keepdim=True)\n",
    "        #positional_encoding = positional_encoding / norms\n",
    "\n",
    "\n",
    "        # Add positional encoding to the input tensor\n",
    "        output = x + positional_encoding\n",
    "\n",
    "        return output"
   ]
  },
  {
   "cell_type": "code",
   "execution_count": 192,
   "metadata": {},
   "outputs": [
    {
     "data": {
      "text/plain": [
       "torch.Size([20, 3, 10])"
      ]
     },
     "execution_count": 192,
     "metadata": {},
     "output_type": "execute_result"
    }
   ],
   "source": [
    "import torch\n",
    "import torch.nn as nn\n",
    "import torch.nn.functional as F\n",
    "import einops\n",
    "\n",
    "class SimpleSender(nn.Module):\n",
    "    def __init__(self, alph_size=10):\n",
    "        super(SimpleSender, self).__init__()\n",
    "        self.alph_size = alph_size\n",
    "        # Define your layers or modules here\n",
    "        self.fc1 = nn.Linear(in_features=3, out_features=16)\n",
    "        self.fc2 = nn.Linear(in_features=16, out_features=64)\n",
    "        self.positional_encoding = LearnablePositionalEncoding(64)\n",
    "        self.rnn = nn.LSTM(64, 64, 1, batch_first=True)\n",
    "        self.fc3 = nn.Linear(in_features=64, out_features=self.alph_size)\n",
    "\n",
    "\n",
    "    def forward(self, x, len_message=3):\n",
    "        # x = [b, 1, 1, 3] -> [b, l, d]\n",
    "        x = F.leaky_relu(self.fc1(x.flatten(start_dim=1)))\n",
    "        x = F.leaky_relu(self.fc2(x))\n",
    "        x = einops.repeat(x, 'b d -> b l d', l = len_message)\n",
    "        x = self.positional_encoding(x)\n",
    "        x, _ = self.rnn(x)\n",
    "        x = self.fc3(x)\n",
    "        return x\n",
    "\n",
    "\n",
    "m1 = SimpleSender()\n",
    "x = torch.randn((20, 1,1, 3))\n",
    "m1(x).shape"
   ]
  },
  {
   "cell_type": "code",
   "execution_count": 194,
   "metadata": {},
   "outputs": [],
   "source": [
    "class SimpleReceiver(nn.Module):\n",
    "    def __init__(self, alph_size=10):\n",
    "        super(SimpleReceiver, self).__init__()\n",
    "        self.alph_size = alph_size\n",
    "        ### Image Side\n",
    "        self.fc1 = nn.Linear(in_features=3, out_features=16)\n",
    "        self.fc2 = nn.Linear(in_features=16, out_features=16)\n",
    "        ### Text Side\n",
    "        self.emb = nn.Embedding(self.alph_size, 16)\n",
    "        self.fc3 = nn.Linear(in_features=16, out_features=16)\n",
    "        self.positional_encoding = LearnablePositionalEncoding(16)\n",
    "        self.transformer_encoder = nn.TransformerEncoder(nn.TransformerEncoderLayer(d_model=16, nhead=1, batch_first=True, dim_feedforward=16, activation=F.leaky_relu), num_layers=2)\n",
    "\n",
    "\n",
    "\n",
    "    def forward_image(self, x):\n",
    "        # x = [b, 1, 1, 3] -> [b, d]\n",
    "        x = F.leaky_relu(self.fc1(x.flatten(start_dim=1)))\n",
    "        x = self.fc2(x)\n",
    "        return x\n",
    "\n",
    "    def forward_text(self, x, src_key_padding_mask=None):\n",
    "        # x = [b, l] long Tensor -> [b, d]\n",
    "        x = F.leaky_relu(self.emb(x))\n",
    "        x = self.fc3(x)\n",
    "        x = self.positional_encoding(x)\n",
    "        x = self.transformer_encoder(x, src_key_padding_mask=src_key_padding_mask)\n",
    "        # x = x.mean(dim=1)\n",
    "        x = x[:,0,:]\n",
    "        return x"
   ]
  },
  {
   "cell_type": "code",
   "execution_count": 195,
   "metadata": {},
   "outputs": [],
   "source": [
    "def create_mask_after_end_token(input_tensor, end_token_id):\n",
    "    ### [b, l] -> [b, l]\n",
    "    # Find the index of the [END] token in each row\n",
    "    end_token_indices = torch.nonzero(input_tensor == end_token_id)\n",
    "\n",
    "    # Create a mask tensor of the same shape as the input tensor\n",
    "    mask_tensor = torch.zeros_like(input_tensor)\n",
    "\n",
    "    # Set elements after the [END] token index in each row to 1\n",
    "    for batch_idx, end_idx in end_token_indices:\n",
    "        mask_tensor[batch_idx, end_idx + 1:] = 1\n",
    "\n",
    "    return mask_tensor\n",
    "     "
   ]
  },
  {
   "cell_type": "code",
   "execution_count": 196,
   "metadata": {},
   "outputs": [
    {
     "data": {
      "text/plain": [
       "torch.Size([20, 16])"
      ]
     },
     "execution_count": 196,
     "metadata": {},
     "output_type": "execute_result"
    }
   ],
   "source": [
    "x = torch.randn((20, 1,1, 3))\n",
    "m1(x)\n",
    "words = m1(x).argmax(axis=2)\n",
    "words_mask = create_mask_after_end_token(words, 0).bool()\n",
    "m2 = SimpleReceiver()\n",
    "m2.forward_text(words, words_mask).shape"
   ]
  },
  {
   "cell_type": "code",
   "execution_count": 197,
   "metadata": {},
   "outputs": [],
   "source": [
    "m1 = CustomSender(6)\n",
    "m1 = SimpleSender(6)\n",
    "m2 = CustomReceiver(6)\n",
    "m2 = SimpleReceiver(6)\n",
    "m2_optimizer = torch.optim.Adam(m2.parameters(), lr=1e-3, weight_decay=0e-6)\n",
    "m1_optimizer = torch.optim.Adam(m1.parameters(), lr=1e-3, weight_decay=0e-6)"
   ]
  },
  {
   "cell_type": "code",
   "execution_count": 198,
   "metadata": {},
   "outputs": [
    {
     "data": {
      "application/vnd.jupyter.widget-view+json": {
       "model_id": "d358c57d079841f8bf7fcbcf50af7e32",
       "version_major": 2,
       "version_minor": 0
      },
      "text/plain": [
       "  0%|          | 0/3000 [00:00<?, ?it/s]"
      ]
     },
     "metadata": {},
     "output_type": "display_data"
    },
    {
     "name": "stdout",
     "output_type": "stream",
     "text": [
      "step 0 : 0.5\n",
      "step 0 : -0.6932412981987 2.8908252716064453e-06 -1.7901917695999146\n",
      "step 1 : 0.546875\n",
      "step 9 : 0.5703125\n"
     ]
    },
    {
     "name": "stdout",
     "output_type": "stream",
     "text": [
      "step 28 : 0.59375\n",
      "step 34 : 0.6171875\n",
      "step 36 : 0.625\n",
      "step 44 : 0.65625\n",
      "step 46 : 0.71875\n",
      "step 62 : 0.7265625\n",
      "step 66 : 0.7734375\n",
      "step 72 : 0.8046875\n",
      "step 84 : 0.8125\n",
      "step 95 : 0.8671875\n",
      "step 117 : 0.8828125\n",
      "step 129 : 0.8984375\n",
      "step 146 : 0.90625\n",
      "step 151 : 0.9140625\n",
      "step 200 : -0.43313664197921753 2.2413830436107673e-07 -1.7917588949203491\n",
      "step 266 : 0.921875\n",
      "step 400 : -0.4693109095096588 -2.5331974029541016e-07 -1.7917588949203491\n",
      "step 600 : -0.41990309953689575 9.499490261077881e-08 -1.7917591333389282\n",
      "step 719 : 0.9375\n",
      "step 800 : -0.49198850989341736 1.4901161193847656e-08 -1.7917591333389282\n",
      "step 1000 : -0.49480265378952026 -1.8378098332050286e-07 -1.7917594909667969\n",
      "step 1200 : -0.5311121940612793 6.457170087514896e-08 -1.7917594909667969\n",
      "step 1400 : -0.4782869219779968 2.731879646944435e-07 -1.7917594909667969\n",
      "step 1600 : -0.5079416036605835 2.086162567138672e-07 -1.7917596101760864\n",
      "step 1800 : -0.46978843212127686 -2.9802322387695312e-08 -1.7917593717575073\n",
      "step 2000 : -0.6646254062652588 -6.953874986947994e-08 -1.7917592525482178\n",
      "step 2200 : -0.50749272108078 1.0741253930746097e-07 -1.7917594909667969\n",
      "step 2400 : -0.7014711499214172 -1.6763806343078613e-08 -1.7917588949203491\n",
      "step 2600 : -0.49735257029533386 1.1175870895385742e-07 -1.7917594909667969\n",
      "step 2800 : -0.6471853256225586 -4.718701163142214e-08 -1.7917594909667969\n"
     ]
    },
    {
     "data": {
      "text/plain": [
       "<All keys matched successfully>"
      ]
     },
     "execution_count": 198,
     "metadata": {},
     "output_type": "execute_result"
    }
   ],
   "source": [
    "import time\n",
    "from torch.distributions import Categorical\n",
    "import copy\n",
    "\n",
    "len_message = 3\n",
    "eaaly_stop_acc = 0.99\n",
    "max_steps = 3000\n",
    "log_period_steps = 200\n",
    "entropy_loss_lambda = 1e-3\n",
    "\n",
    "data_iterator = iter(train_dataloader)\n",
    "acc_list = []\n",
    "loss_list = []\n",
    "best_acc = 0\n",
    "best_model_state = None, None\n",
    "for iter_num in tqdm(range(max_steps)):\n",
    "  try:\n",
    "    batch = next(data_iterator)\n",
    "  except StopIteration:\n",
    "    data_iterator = iter(train_dataloader)\n",
    "    batch = next(data_iterator)\n",
    "    a = batch\n",
    "  m2_optimizer.zero_grad()\n",
    "  m1_optimizer.zero_grad()\n",
    "  ###\n",
    "  message_logits = m1(batch.float(), len_message)\n",
    "  message = message_logits.argmax(2) ### [batch, len, alph_size]\n",
    "  message_mask = create_mask_after_end_token(message, 0).float()\n",
    "  m2_img_rprs = m2.forward_image(batch.float())\n",
    "  m2_mess_rprs = m2.forward_text(message, message_mask)\n",
    "  rolled_m2_img_rprs = torch.roll(m2_img_rprs, shifts=1, dims=0)\n",
    "  pos_similarity = F.cosine_similarity(m2_img_rprs, m2_mess_rprs).unsqueeze(1)\n",
    "  neg_similarity = F.cosine_similarity(rolled_m2_img_rprs, m2_mess_rprs).unsqueeze(1)\n",
    "  similarity_scores = torch.cat([pos_similarity, neg_similarity], axis=1)\n",
    "  m2_loss = F.cross_entropy(similarity_scores, torch.LongTensor([0]*similarity_scores.shape[0]))\n",
    "  m2_loss.backward()\n",
    "  m2_optimizer.step()\n",
    "  ###\n",
    "  log_probs = torch.log(torch.gather(F.softmax(message_logits, dim=2), 2, message.unsqueeze(2)))\n",
    "  rewards = -1*F.cross_entropy(similarity_scores, torch.LongTensor([0]*similarity_scores.shape[0]), reduction='none').detach()\n",
    "  returns = (rewards - rewards.mean()) / (rewards.std() + 1e-5)\n",
    "  #####\n",
    "  temp = (1-message_mask.unsqueeze(2)*log_probs)\n",
    "  temp2 = (returns.unsqueeze(1) * temp.squeeze(2))\n",
    "  m1_loss = temp2.sum() / ((1-message_mask).sum())\n",
    "  m1_loss = -torch.mean(returns * log_probs)\n",
    "  ####\n",
    "  entropy_loss = -Categorical(F.softmax(message_logits, dim=2)).entropy()\n",
    "  entropy_loss_masked = (((1-message_mask)*entropy_loss)/((1-message_mask).sum())).sum()\n",
    "  (m1_loss + entropy_loss_lambda*entropy_loss_masked).backward()\n",
    "  m1_optimizer.step()\n",
    "  acc = (1 - similarity_scores.argmax(1)).float().mean()\n",
    "  acc_list.append(acc)\n",
    "  loss_list.append(m2_loss.item())\n",
    "  if acc > best_acc:\n",
    "    print(f\"step {iter_num} :\", acc.item())\n",
    "    best_acc = acc\n",
    "    best_model_state = copy.deepcopy(m1.state_dict()), copy.deepcopy(m2.state_dict())\n",
    "  if acc.item() > eaaly_stop_acc:\n",
    "    print(f\"step {iter_num} :\", acc.item())\n",
    "    break\n",
    "  if iter_num % log_period_steps == 0:\n",
    "    print(f\"step {iter_num} :\",rewards.mean().item(), m1_loss.item(), entropy_loss_masked.item())\n",
    "\n",
    "m1.load_state_dict(best_model_state[0])\n",
    "m2.load_state_dict(best_model_state[1])"
   ]
  },
  {
   "cell_type": "code",
   "execution_count": 199,
   "metadata": {},
   "outputs": [
    {
     "data": {
      "image/png": "[encoded data removed]",
      "text/plain": [
       "<Figure size 640x480 with 1 Axes>"
      ]
     },
     "metadata": {},
     "output_type": "display_data"
    }
   ],
   "source": [
    "import numpy as np\n",
    "import matplotlib.pyplot as plt\n",
    "win_size = 100\n",
    "smoothed_accuracy = np.convolve(acc_list, np.ones(win_size) / win_size, mode='valid')\n",
    "plt.plot(smoothed_accuracy)\n",
    "plt.xlabel('Iteration')\n",
    "plt.ylabel('Acc')\n",
    "plt.title('Acc per Iteration')\n",
    "plt.show()\n"
   ]
  },
  {
   "cell_type": "code",
   "execution_count": 200,
   "metadata": {},
   "outputs": [
    {
     "name": "stdout",
     "output_type": "stream",
     "text": [
      "tensor(0.8594)\n",
      "tensor(0.8828)\n",
      "tensor(0.8203)\n",
      "tensor(0.8203)\n",
      "tensor(0.8125)\n",
      "tensor(0.8125)\n",
      "tensor(0.8594)\n",
      "tensor(0.8125)\n",
      "tensor(0.8359)\n",
      "tensor(0.8047)\n",
      "tensor(0.8750)\n",
      "tensor(0.7812)\n",
      "tensor(0.8516)\n",
      "tensor(0.7656)\n",
      "tensor(0.8359)\n"
     ]
    }
   ],
   "source": [
    "from collections import defaultdict\n",
    "\n",
    "for batch in train_dataloader:\n",
    "  message_logits = m1(batch.float(), len_message)\n",
    "  message = message_logits.argmax(2) ### [batch, len, alph_size]\n",
    "  message_mask = create_mask_after_end_token(message, 0).float()\n",
    "  m2_img_rprs = m2.forward_image(batch.float())\n",
    "  m2_mess_rprs = m2.forward_text(message, message_mask)\n",
    "  rolled_m2_img_rprs = torch.roll(m2_img_rprs, shifts=1, dims=0)\n",
    "  pos_similarity = F.cosine_similarity(m2_img_rprs, m2_mess_rprs).unsqueeze(1)\n",
    "  neg_similarity = F.cosine_similarity(rolled_m2_img_rprs, m2_mess_rprs).unsqueeze(1)\n",
    "  similarity_scores = torch.cat([pos_similarity, neg_similarity], axis=1)\n",
    "  m2_loss = F.cross_entropy(similarity_scores, torch.LongTensor([0]*similarity_scores.shape[0]))\n",
    "  rewards = 1 - similarity_scores.argmax(1).float()\n",
    "  print(rewards.mean())\n",
    "\n",
    "image_dictionary = defaultdict(list)\n",
    "for i, m in enumerate(message):\n",
    "  sentence = \"\"\n",
    "  for token in m:\n",
    "    sentence = sentence + str(token.item())\n",
    "    if sentence[-1] == '0':\n",
    "      break\n",
    "  image_dictionary[sentence].append(i)\n"
   ]
  },
  {
   "cell_type": "code",
   "execution_count": 201,
   "metadata": {},
   "outputs": [],
   "source": [
    "image_dictionary = dict(sorted(image_dictionary.items(), key=lambda item: item[0]))"
   ]
  },
  {
   "cell_type": "code",
   "execution_count": 202,
   "metadata": {},
   "outputs": [
    {
     "data": {
      "image/png": "[encoded data removed]",
      "text/plain": [
       "<Figure size 1000x100 with 10 Axes>"
      ]
     },
     "metadata": {},
     "output_type": "display_data"
    },
    {
     "data": {
      "image/png": "[encoded data removed]",
      "text/plain": [
       "<Figure size 400x100 with 4 Axes>"
      ]
     },
     "metadata": {},
     "output_type": "display_data"
    },
    {
     "data": {
      "image/png": "[encoded data removed]",
      "text/plain": [
       "<Figure size 100x100 with 1 Axes>"
      ]
     },
     "metadata": {},
     "output_type": "display_data"
    },
    {
     "data": {
      "image/png": "[encoded data removed]",
      "text/plain": [
       "<Figure size 100x100 with 1 Axes>"
      ]
     },
     "metadata": {},
     "output_type": "display_data"
    },
    {
     "data": {
      "image/png": "[encoded data removed]",
      "text/plain": [
       "<Figure size 100x100 with 1 Axes>"
      ]
     },
     "metadata": {},
     "output_type": "display_data"
    },
    {
     "data": {
      "image/png": "[encoded data removed]",
      "text/plain": [
       "<Figure size 300x100 with 3 Axes>"
      ]
     },
     "metadata": {},
     "output_type": "display_data"
    },
    {
     "data": {
      "image/png": "[encoded data removed]",
      "text/plain": [
       "<Figure size 100x100 with 1 Axes>"
      ]
     },
     "metadata": {},
     "output_type": "display_data"
    },
    {
     "data": {
      "image/png": "[encoded data removed]",
      "text/plain": [
       "<Figure size 100x100 with 1 Axes>"
      ]
     },
     "metadata": {},
     "output_type": "display_data"
    },
    {
     "data": {
      "image/png": "[encoded data removed]",
      "text/plain": [
       "<Figure size 100x100 with 1 Axes>"
      ]
     },
     "metadata": {},
     "output_type": "display_data"
    },
    {
     "data": {
      "image/png": "[encoded data removed]",
      "text/plain": [
       "<Figure size 400x100 with 4 Axes>"
      ]
     },
     "metadata": {},
     "output_type": "display_data"
    },
    {
     "data": {
      "image/png": "[encoded data removed]",
      "text/plain": [
       "<Figure size 100x100 with 1 Axes>"
      ]
     },
     "metadata": {},
     "output_type": "display_data"
    },
    {
     "data": {
      "image/png": "[encoded data removed]",
      "text/plain": [
       "<Figure size 100x100 with 1 Axes>"
      ]
     },
     "metadata": {},
     "output_type": "display_data"
    },
    {
     "data": {
      "image/png": "[encoded data removed]",
      "text/plain": [
       "<Figure size 300x100 with 3 Axes>"
      ]
     },
     "metadata": {},
     "output_type": "display_data"
    },
    {
     "data": {
      "image/png": "[encoded data removed]",
      "text/plain": [
       "<Figure size 100x100 with 1 Axes>"
      ]
     },
     "metadata": {},
     "output_type": "display_data"
    },
    {
     "data": {
      "image/png": "[encoded data removed]",
      "text/plain": [
       "<Figure size 400x100 with 4 Axes>"
      ]
     },
     "metadata": {},
     "output_type": "display_data"
    },
    {
     "data": {
      "image/png": "[encoded data removed]",
      "text/plain": [
       "<Figure size 100x100 with 1 Axes>"
      ]
     },
     "metadata": {},
     "output_type": "display_data"
    },
    {
     "data": {
      "image/png": "[encoded data removed]",
      "text/plain": [
       "<Figure size 100x100 with 1 Axes>"
      ]
     },
     "metadata": {},
     "output_type": "display_data"
    },
    {
     "data": {
      "image/png": "[encoded data removed]",
      "text/plain": [
       "<Figure size 300x100 with 3 Axes>"
      ]
     },
     "metadata": {},
     "output_type": "display_data"
    },
    {
     "data": {
      "image/png": "[encoded data removed]",
      "text/plain": [
       "<Figure size 200x100 with 2 Axes>"
      ]
     },
     "metadata": {},
     "output_type": "display_data"
    },
    {
     "data": {
      "image/png": "[encoded data removed]",
      "text/plain": [
       "<Figure size 500x100 with 5 Axes>"
      ]
     },
     "metadata": {},
     "output_type": "display_data"
    },
    {
     "data": {
      "image/png": "[encoded data removed]",
      "text/plain": [
       "<Figure size 300x100 with 3 Axes>"
      ]
     },
     "metadata": {},
     "output_type": "display_data"
    },
    {
     "data": {
      "image/png": "[encoded data removed]",
      "text/plain": [
       "<Figure size 100x100 with 1 Axes>"
      ]
     },
     "metadata": {},
     "output_type": "display_data"
    },
    {
     "data": {
      "image/png": "[encoded data removed]",
      "text/plain": [
       "<Figure size 100x100 with 1 Axes>"
      ]
     },
     "metadata": {},
     "output_type": "display_data"
    },
    {
     "data": {
      "image/png": "[encoded data removed]",
      "text/plain": [
       "<Figure size 200x100 with 2 Axes>"
      ]
     },
     "metadata": {},
     "output_type": "display_data"
    }
   ],
   "source": [
    "import matplotlib.pyplot as plt\n",
    "\n",
    "max_image_per_token = 10\n",
    "for sentence, image_indices in image_dictionary.items():\n",
    "    image_indices = image_indices[:max_image_per_token]\n",
    "    num_images = len(image_indices)\n",
    "\n",
    "    if num_images == 1:\n",
    "        fig = plt.figure(figsize=(1, 1))\n",
    "        axs = [plt.subplot(1, 1, 1)]\n",
    "    else:\n",
    "        fig, axs = plt.subplots(1, num_images, figsize=(num_images, 1))\n",
    "    \n",
    "    for i, image_idx in enumerate(image_indices):\n",
    "        axs[i].imshow(batch[image_idx])\n",
    "        axs[i].set_title(f\"{sentence}\")\n",
    "        axs[i].axis('off')\n",
    "\n",
    "    plt.show()\n"
   ]
  }
 ],
 "metadata": {
  "kernelspec": {
   "display_name": "env",
   "language": "python",
   "name": "python3"
  },
  "language_info": {
   "codemirror_mode": {
    "name": "ipython",
    "version": 3
   },
   "file_extension": ".py",
   "mimetype": "text/x-python",
   "name": "python",
   "nbconvert_exporter": "python",
   "pygments_lexer": "ipython3",
   "version": "3.11.4"
  },
  "orig_nbformat": 4
 },
 "nbformat": 4,
 "nbformat_minor": 2
}
